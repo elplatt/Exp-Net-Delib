{
 "cells": [
  {
   "cell_type": "code",
   "execution_count": null,
   "metadata": {},
   "outputs": [],
   "source": [
    "from matplotlib import pyplot as plt\n",
    "import numpy as np\n",
    "import random\n",
    "import scipy.stats as spstats\n",
    "import tqdm\n",
    "\n",
    "import netdelib\n",
    "import netdelib.topologies.topologies as ndtopo\n",
    "import repsci\n",
    "\n",
    "%matplotlib inline\n",
    "\n",
    "plt.rcParams['font.size'] = 18\n",
    "plt.rcParams['axes.linewidth'] = 2"
   ]
  },
  {
   "cell_type": "code",
   "execution_count": null,
   "metadata": {},
   "outputs": [],
   "source": [
    "def broadcast_time_residue(N=100, M=5, runs=1):\n",
    "    total = 0\n",
    "    all_times = []\n",
    "    for run in range(runs):\n",
    "        times = dict()\n",
    "        visited = [{v} for v in range(N)]\n",
    "        stage = 0\n",
    "        while sum([len(l) for l in visited]) < N * N:\n",
    "            # Generate groups\n",
    "            pods = ndtopo.get_long_path_stage_groups(N, M, stage, lowest=M)\n",
    "            stage += 1\n",
    "            # Create neighbor tables\n",
    "            neighbors = dict((v, set()) for v in range(N))\n",
    "            for pod in pods:\n",
    "                for v in pod:\n",
    "                    neighbors[v] = set(pod) - set([v])\n",
    "            # Propagate broadcast for each node\n",
    "            for v in range(N):\n",
    "                # Skip if broadcast is complete\n",
    "                if v in times:\n",
    "                    continue\n",
    "                # Iterate through previously reached nodes\n",
    "                received = set()\n",
    "                for w in visited[v]:\n",
    "                    # Broadcast to their neighbors\n",
    "                    received |= neighbors[w]\n",
    "                visited[v] |= received\n",
    "                if len(visited[v]) == N:\n",
    "                    times[v] = stage\n",
    "        all_times += times.values()\n",
    "    return np.mean(all_times), np.std(all_times, ddof=1)"
   ]
  },
  {
   "cell_type": "code",
   "execution_count": null,
   "metadata": {},
   "outputs": [],
   "source": [
    "def broadcast_time_random(N=100, M=5, runs=1):\n",
    "    total = 0\n",
    "    all_times = []\n",
    "    for run in range(runs):\n",
    "        times = dict()\n",
    "        visited = [{v} for v in range(N)]\n",
    "        stage = 0\n",
    "        while sum([len(l) for l in visited]) < N * N:\n",
    "            # Generate groups\n",
    "            pods = ndtopo.get_random_stage_groups(N, M, stage)\n",
    "            stage += 1\n",
    "            # Create neighbor tables\n",
    "            neighbors = dict((v, set()) for v in range(N))\n",
    "            for pod in pods:\n",
    "                for v in pod:\n",
    "                    neighbors[v] = set(pod) - set([v])\n",
    "            # Propagate broadcast for each node\n",
    "            for v in range(N):\n",
    "                # Skip if broadcast is complete\n",
    "                if v in times:\n",
    "                    continue\n",
    "                # Iterate through previously reached nodes\n",
    "                received = set()\n",
    "                for w in visited[v]:\n",
    "                    # Broadcast to their neighbors\n",
    "                    received |= neighbors[w]\n",
    "                visited[v] |= received\n",
    "                if len(visited[v]) == N:\n",
    "                    times[v] = stage\n",
    "        all_times += times.values()\n",
    "    return np.mean(all_times), np.std(all_times, ddof=1)"
   ]
  },
  {
   "cell_type": "code",
   "execution_count": null,
   "metadata": {},
   "outputs": [],
   "source": [
    "experiment = repsci.Experiment('broadcast')"
   ]
  },
  {
   "cell_type": "code",
   "execution_count": null,
   "metadata": {},
   "outputs": [],
   "source": [
    "residue_results = []\n",
    "random_results = []\n",
    "for n in tqdm.tqdm(range(50, 5000, 10)):\n",
    "    residue_results.append(broadcast_time_residue(N=n,M=5,runs=1))\n",
    "    random_results.append(broadcast_time_random(N=n,M=5,runs=100))"
   ]
  },
  {
   "cell_type": "code",
   "execution_count": null,
   "metadata": {},
   "outputs": [],
   "source": [
    "out = experiment.get_filename('longpath.npy')\n",
    "np.save(out, residue_results)\n",
    "out = experiment.get_filename('random.npy')\n",
    "np.save(out, random_results)"
   ]
  },
  {
   "cell_type": "code",
   "execution_count": null,
   "metadata": {},
   "outputs": [],
   "source": [
    "plt.figure(figsize=(6.66,4.44))\n",
    "\n",
    "y_res, s = zip(*residue_results)\n",
    "x = range(50, 5000, 10)[:len(x_res)]\n",
    "plt.plot(x, y_res, 'b', label='Long-Path')\n",
    "\n",
    "y_ran, s = zip(*random_results)\n",
    "err95 = 2 * np.divide(s, 10)\n",
    "plt.fill_between(x, y_ran-err95, y_ran+err95, color=\"#cccccc\")\n",
    "plt.plot(x, y_ran, 'g', label='Random Pod')\n",
    "\n",
    "plt.xlim([0, 3500])\n",
    "plt.ylim([0, 30])\n",
    "\n",
    "plt.grid()\n",
    "plt.legend()\n",
    "\n",
    "plt.xlabel('Number of Agents')\n",
    "plt.ylabel('Mean Broadcast Time')\n",
    "plt.tight_layout()\n",
    "\n",
    "out = experiment.get_filename('broadcast.png')\n",
    "plt.savefig(out, dpi=600)\n",
    "out = experiment.get_filename('broadcast.eps')\n",
    "plt.savefig(out, dpi=600)"
   ]
  },
  {
   "cell_type": "code",
   "execution_count": null,
   "metadata": {},
   "outputs": [],
   "source": [
    "plt.figure()\n",
    "\n",
    "y_res, s = zip(*residue_results)\n",
    "x = range(50, 5000, 10)[:len(x_res)]\n",
    "\n",
    "y_ran, s = zip(*random_results)\n",
    "err95 = 2 * np.divide(s, 10)\n",
    "plt.plot(y_res, y_ran, 'g')\n",
    "plt.fill_between(y_res, y_ran-err95, y_ran+err95, color=\"#dddddd\")\n",
    "\n",
    "plt.xscale('log')\n",
    "plt.grid()\n",
    "\n",
    "plt.xlabel('Mean Broadcast Time (Long-Path)')\n",
    "plt.ylabel('Mean Broadcast Time (Random Pod)' )\n",
    "\n",
    "plt.tight_layout()\n",
    "out = experiment.get_filename('broadcast-yy.png')\n",
    "plt.savefig(out, dpi=600)\n",
    "out = experiment.get_filename('broadcast-yy.eps')\n",
    "plt.savefig(out, dpi=600)"
   ]
  },
  {
   "cell_type": "code",
   "execution_count": null,
   "metadata": {},
   "outputs": [],
   "source": []
  }
 ],
 "metadata": {
  "kernelspec": {
   "display_name": "Python 3",
   "language": "python",
   "name": "python3"
  },
  "language_info": {
   "codemirror_mode": {
    "name": "ipython",
    "version": 3
   },
   "file_extension": ".py",
   "mimetype": "text/x-python",
   "name": "python",
   "nbconvert_exporter": "python",
   "pygments_lexer": "ipython3",
   "version": "3.7.5"
  }
 },
 "nbformat": 4,
 "nbformat_minor": 4
}
