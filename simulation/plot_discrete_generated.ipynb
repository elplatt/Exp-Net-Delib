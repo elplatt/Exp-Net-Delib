{
 "cells": [
  {
   "cell_type": "markdown",
   "metadata": {},
   "source": [
    "# Network Deliberation ABM\n",
    "## Discrete state, generated signal task"
   ]
  },
  {
   "cell_type": "code",
   "execution_count": null,
   "metadata": {},
   "outputs": [],
   "source": [
    "# Imports\n",
    "import configparser\n",
    "import math\n",
    "\n",
    "import numpy as np\n",
    "import repsci"
   ]
  },
  {
   "cell_type": "code",
   "execution_count": null,
   "metadata": {},
   "outputs": [],
   "source": [
    "# Configuration\n",
    "reproduce = ''\n",
    "experiment = repsci.Experiment(\n",
    "    \"discrete_generated\",\n",
    "    reproduce=reproduce)\n",
    "config = experiment.get_config()\n",
    "\n",
    "N = config.getint('abm', 'N')\n",
    "M = config.getint('abm', 'M')\n",
    "runs = config.getint('abm', 'runs')\n",
    "stages = config.getint('abm', 'stages')\n",
    "steps = config.getint('abm', 'steps')\n",
    "\n",
    "bit_count = config.getint('abm', 'bit_count')\n",
    "p_error = config.getfloat('abm', 'p_error')\n",
    "\n",
    "small_world_k = config.getint('networks', 'small_world_k')\n",
    "small_world_a = config.getfloat('networks', 'small_world_a')\n",
    "barabasi_albert_m = config.getint('networks', 'barabasi_albert_m')\n",
    "\n",
    "# Configure plotting in Jupyter\n",
    "from matplotlib import pyplot as plt\n",
    "%matplotlib inline\n",
    "plt.rcParams.update({\n",
    "    'figure.figsize': (20, 20),\n",
    "    'axes.spines.right': False,\n",
    "    'axes.spines.left': False,\n",
    "    'axes.spines.top': False,\n",
    "    'axes.spines.bottom': False})\n",
    "\n",
    "all_networks = [\n",
    "    'Complete',\n",
    "    'Pref. Attach.',\n",
    "    'Small World',\n",
    "    'Long Path',\n",
    "    'Random Group']\n",
    "networks = [\n",
    "    v for v in all_networks\n",
    "    if v in config.get('networks', 'enabled').split(',')]\n",
    "\n",
    "all_learning_strategies = [\n",
    "    'Best Neighbor',\n",
    "    'Conform',\n",
    "    'Local Majority']\n",
    "learning_strategies = [\n",
    "    v for v in all_learning_strategies\n",
    "    if v in config.get('strategies', 'enabled').split(',')]\n",
    "\n",
    "num_net = len(networks)\n",
    "num_strat = len(learning_strategies)"
   ]
  },
  {
   "cell_type": "code",
   "execution_count": null,
   "metadata": {},
   "outputs": [],
   "source": [
    "score_fraction = np.load(experiment.get_filename('score_fraction.npy'))\n",
    "score_distance = np.load(experiment.get_filename('score_distance.npy'))"
   ]
  },
  {
   "cell_type": "code",
   "execution_count": null,
   "metadata": {},
   "outputs": [],
   "source": [
    "plt.figure(figsize=(15, 6))\n",
    "for i, title in enumerate(learning_strategies):\n",
    "    for j, title2 in enumerate(networks):\n",
    "        plt.subplot(num_strat, num_net, 1 + i * num_net + j)\n",
    "\n",
    "        y = score_fraction[i][j][0]\n",
    "        x = range(len(y))\n",
    "        err95 = 1.96 * np.array(score_fraction[i][j][1]) / math.sqrt(runs)\n",
    "        plt.fill_between(x, y - err95, y + err95, color=\"#aaaaff7f\")\n",
    "        plt.plot(x, y, 'b:')\n",
    "\n",
    "        y = score_distance[i][j][0]\n",
    "        err95 = 1.96 * np.array(score_distance[i][j][1]) / math.sqrt(runs)\n",
    "        plt.fill_between(x, y - err95, y + err95, color=\"#ffaaaa7f\")\n",
    "        plt.plot(x, y, 'r--')     \n",
    "\n",
    "        plt.title(f'{title} - {title2}')\n",
    "        if j == 0:\n",
    "            plt.ylabel('Frac. Correct')\n",
    "        if i == 2:\n",
    "            plt.xlabel('Time Step')\n",
    "        plt.grid(True)\n",
    "        plt.tight_layout()\n",
    "        plt.ylim([0, 1])\n",
    "\n",
    "out = experiment.get_filename('plot.png')\n",
    "plt.savefig(out, dpi=300)"
   ]
  },
  {
   "cell_type": "code",
   "execution_count": null,
   "metadata": {},
   "outputs": [],
   "source": [
    "plt.figure(figsize=(5,3))\n",
    "plt.plot(score_fraction[0][0][0], '-', color='#afafaf', label='Complete')\n",
    "plt.plot(score_fraction[0][1][0], '--', color='#0000ff', label='Pref. Attach.')\n",
    "plt.plot(score_fraction[0][2][0], '--', color='#7f7fff', label='Small World')\n",
    "plt.plot(score_fraction[0][3][0], ':', color='#afaf6f', label='ND: Long Path')\n",
    "plt.plot(score_fraction[0][4][0], ':', color='#6f6f00', label='ND: Random Group')\n",
    "plt.grid()\n",
    "plt.legend()\n",
    "plt.ylim([0,1])\n",
    "plt.ylabel('Frac. Correct')\n",
    "plt.xlabel('Time Step')\n",
    "plt.tight_layout()\n",
    "out = experiment.get_filename('best-neighbor-fraction.png')\n",
    "plt.savefig(out, dpi=600)"
   ]
  },
  {
   "cell_type": "code",
   "execution_count": null,
   "metadata": {},
   "outputs": [],
   "source": [
    "plt.figure(figsize=(5,3))\n",
    "plt.plot(score_fraction[1][0][0], '-', color='#afafaf', label='Complete')\n",
    "plt.plot(score_fraction[1][1][0], '--', color='#0000ff', label='Pref. Attach.')\n",
    "plt.plot(score_fraction[1][2][0], '--', color='#7f7fff', label='Small World')\n",
    "plt.plot(score_fraction[1][3][0], ':', color='#afaf6f', label='ND: Long Path')\n",
    "plt.plot(score_fraction[1][4][0], ':', color='#6f6f00', label='ND: Random Group')\n",
    "plt.grid()\n",
    "plt.legend()\n",
    "plt.ylabel('Frac. Correct')\n",
    "plt.xlabel('Time Step')\n",
    "plt.ylim([0,1])\n",
    "plt.tight_layout()\n",
    "out = experiment.get_filename('conform-fraction.png')\n",
    "plt.savefig(out, dpi=600)"
   ]
  },
  {
   "cell_type": "code",
   "execution_count": null,
   "metadata": {},
   "outputs": [],
   "source": [
    "plt.figure(figsize=(5,3))\n",
    "plt.plot(score_fraction[2][0][0], '-', color='#afafaf', label='Complete')\n",
    "plt.plot(score_fraction[2][1][0], '--', color='#0000ff', label='Pref. Attach.')\n",
    "plt.plot(score_fraction[2][2][0], '--', color='#7f7fff', label='Small World')\n",
    "plt.plot(score_fraction[2][3][0], ':', color='#afaf6f', label='ND: Long Path')\n",
    "plt.plot(score_fraction[2][4][0], ':', color='#6f6f00', label='ND: Random Group')\n",
    "plt.grid()\n",
    "plt.legend(bbox_to_anchor=(0,0.4, 1, 1), loc=\"lower right\")\n",
    "plt.ylabel('Frac. Correct')\n",
    "plt.xlabel('Time Step')\n",
    "plt.ylim([0,1])\n",
    "plt.tight_layout()\n",
    "out = experiment.get_filename('local-majority-fraction.png')\n",
    "plt.savefig(out, dpi=600)"
   ]
  },
  {
   "cell_type": "code",
   "execution_count": null,
   "metadata": {},
   "outputs": [],
   "source": []
  }
 ],
 "metadata": {
  "kernelspec": {
   "display_name": "Python 3",
   "language": "python",
   "name": "python3"
  },
  "language_info": {
   "codemirror_mode": {
    "name": "ipython",
    "version": 3
   },
   "file_extension": ".py",
   "mimetype": "text/x-python",
   "name": "python",
   "nbconvert_exporter": "python",
   "pygments_lexer": "ipython3",
   "version": "3.7.5"
  }
 },
 "nbformat": 4,
 "nbformat_minor": 4
}
