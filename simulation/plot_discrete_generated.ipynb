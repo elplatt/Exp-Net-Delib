{
 "cells": [
  {
   "cell_type": "markdown",
   "metadata": {},
   "source": [
    "# Network Deliberation ABM\n",
    "## Discrete state, generated signal task"
   ]
  },
  {
   "cell_type": "code",
   "execution_count": 1,
   "metadata": {},
   "outputs": [],
   "source": [
    "# Imports\n",
    "import configparser\n",
    "import math\n",
    "\n",
    "import numpy as np\n",
    "import repsci"
   ]
  },
  {
   "cell_type": "code",
   "execution_count": 3,
   "metadata": {},
   "outputs": [
    {
     "ename": "NoSectionError",
     "evalue": "No section: 'abm'",
     "output_type": "error",
     "traceback": [
      "\u001b[0;31m---------------------------------------------------------------------------\u001b[0m",
      "\u001b[0;31mNoSectionError\u001b[0m                            Traceback (most recent call last)",
      "\u001b[0;32m<ipython-input-3-70d26229dfa7>\u001b[0m in \u001b[0;36m<module>\u001b[0;34m\u001b[0m\n\u001b[1;32m      6\u001b[0m \u001b[0mconfig\u001b[0m \u001b[0;34m=\u001b[0m \u001b[0mexperiment\u001b[0m\u001b[0;34m.\u001b[0m\u001b[0mget_config\u001b[0m\u001b[0;34m(\u001b[0m\u001b[0;34m)\u001b[0m\u001b[0;34m\u001b[0m\u001b[0;34m\u001b[0m\u001b[0m\n\u001b[1;32m      7\u001b[0m \u001b[0;34m\u001b[0m\u001b[0m\n\u001b[0;32m----> 8\u001b[0;31m \u001b[0mN\u001b[0m \u001b[0;34m=\u001b[0m \u001b[0mconfig\u001b[0m\u001b[0;34m.\u001b[0m\u001b[0mgetint\u001b[0m\u001b[0;34m(\u001b[0m\u001b[0;34m'abm'\u001b[0m\u001b[0;34m,\u001b[0m \u001b[0;34m'N'\u001b[0m\u001b[0;34m)\u001b[0m\u001b[0;34m\u001b[0m\u001b[0;34m\u001b[0m\u001b[0m\n\u001b[0m\u001b[1;32m      9\u001b[0m \u001b[0mM\u001b[0m \u001b[0;34m=\u001b[0m \u001b[0mconfig\u001b[0m\u001b[0;34m.\u001b[0m\u001b[0mgetint\u001b[0m\u001b[0;34m(\u001b[0m\u001b[0;34m'abm'\u001b[0m\u001b[0;34m,\u001b[0m \u001b[0;34m'M'\u001b[0m\u001b[0;34m)\u001b[0m\u001b[0;34m\u001b[0m\u001b[0;34m\u001b[0m\u001b[0m\n\u001b[1;32m     10\u001b[0m \u001b[0mruns\u001b[0m \u001b[0;34m=\u001b[0m \u001b[0mconfig\u001b[0m\u001b[0;34m.\u001b[0m\u001b[0mgetint\u001b[0m\u001b[0;34m(\u001b[0m\u001b[0;34m'abm'\u001b[0m\u001b[0;34m,\u001b[0m \u001b[0;34m'runs'\u001b[0m\u001b[0;34m)\u001b[0m\u001b[0;34m\u001b[0m\u001b[0;34m\u001b[0m\u001b[0m\n",
      "\u001b[0;32m/usr/local/Cellar/python/3.7.5/Frameworks/Python.framework/Versions/3.7/lib/python3.7/configparser.py\u001b[0m in \u001b[0;36mgetint\u001b[0;34m(self, section, option, raw, vars, fallback, **kwargs)\u001b[0m\n\u001b[1;32m    816\u001b[0m                fallback=_UNSET, **kwargs):\n\u001b[1;32m    817\u001b[0m         return self._get_conv(section, option, int, raw=raw, vars=vars,\n\u001b[0;32m--> 818\u001b[0;31m                               fallback=fallback, **kwargs)\n\u001b[0m\u001b[1;32m    819\u001b[0m \u001b[0;34m\u001b[0m\u001b[0m\n\u001b[1;32m    820\u001b[0m     def getfloat(self, section, option, *, raw=False, vars=None,\n",
      "\u001b[0;32m/usr/local/Cellar/python/3.7.5/Frameworks/Python.framework/Versions/3.7/lib/python3.7/configparser.py\u001b[0m in \u001b[0;36m_get_conv\u001b[0;34m(self, section, option, conv, raw, vars, fallback, **kwargs)\u001b[0m\n\u001b[1;32m    806\u001b[0m         \u001b[0;32mtry\u001b[0m\u001b[0;34m:\u001b[0m\u001b[0;34m\u001b[0m\u001b[0;34m\u001b[0m\u001b[0m\n\u001b[1;32m    807\u001b[0m             return self._get(section, conv, option, raw=raw, vars=vars,\n\u001b[0;32m--> 808\u001b[0;31m                              **kwargs)\n\u001b[0m\u001b[1;32m    809\u001b[0m         \u001b[0;32mexcept\u001b[0m \u001b[0;34m(\u001b[0m\u001b[0mNoSectionError\u001b[0m\u001b[0;34m,\u001b[0m \u001b[0mNoOptionError\u001b[0m\u001b[0;34m)\u001b[0m\u001b[0;34m:\u001b[0m\u001b[0;34m\u001b[0m\u001b[0;34m\u001b[0m\u001b[0m\n\u001b[1;32m    810\u001b[0m             \u001b[0;32mif\u001b[0m \u001b[0mfallback\u001b[0m \u001b[0;32mis\u001b[0m \u001b[0m_UNSET\u001b[0m\u001b[0;34m:\u001b[0m\u001b[0;34m\u001b[0m\u001b[0;34m\u001b[0m\u001b[0m\n",
      "\u001b[0;32m/usr/local/Cellar/python/3.7.5/Frameworks/Python.framework/Versions/3.7/lib/python3.7/configparser.py\u001b[0m in \u001b[0;36m_get\u001b[0;34m(self, section, conv, option, **kwargs)\u001b[0m\n\u001b[1;32m    800\u001b[0m \u001b[0;34m\u001b[0m\u001b[0m\n\u001b[1;32m    801\u001b[0m     \u001b[0;32mdef\u001b[0m \u001b[0m_get\u001b[0m\u001b[0;34m(\u001b[0m\u001b[0mself\u001b[0m\u001b[0;34m,\u001b[0m \u001b[0msection\u001b[0m\u001b[0;34m,\u001b[0m \u001b[0mconv\u001b[0m\u001b[0;34m,\u001b[0m \u001b[0moption\u001b[0m\u001b[0;34m,\u001b[0m \u001b[0;34m**\u001b[0m\u001b[0mkwargs\u001b[0m\u001b[0;34m)\u001b[0m\u001b[0;34m:\u001b[0m\u001b[0;34m\u001b[0m\u001b[0;34m\u001b[0m\u001b[0m\n\u001b[0;32m--> 802\u001b[0;31m         \u001b[0;32mreturn\u001b[0m \u001b[0mconv\u001b[0m\u001b[0;34m(\u001b[0m\u001b[0mself\u001b[0m\u001b[0;34m.\u001b[0m\u001b[0mget\u001b[0m\u001b[0;34m(\u001b[0m\u001b[0msection\u001b[0m\u001b[0;34m,\u001b[0m \u001b[0moption\u001b[0m\u001b[0;34m,\u001b[0m \u001b[0;34m**\u001b[0m\u001b[0mkwargs\u001b[0m\u001b[0;34m)\u001b[0m\u001b[0;34m)\u001b[0m\u001b[0;34m\u001b[0m\u001b[0;34m\u001b[0m\u001b[0m\n\u001b[0m\u001b[1;32m    803\u001b[0m \u001b[0;34m\u001b[0m\u001b[0m\n\u001b[1;32m    804\u001b[0m     def _get_conv(self, section, option, conv, *, raw=False, vars=None,\n",
      "\u001b[0;32m/usr/local/Cellar/python/3.7.5/Frameworks/Python.framework/Versions/3.7/lib/python3.7/configparser.py\u001b[0m in \u001b[0;36mget\u001b[0;34m(self, section, option, raw, vars, fallback)\u001b[0m\n\u001b[1;32m    778\u001b[0m         \"\"\"\n\u001b[1;32m    779\u001b[0m         \u001b[0;32mtry\u001b[0m\u001b[0;34m:\u001b[0m\u001b[0;34m\u001b[0m\u001b[0;34m\u001b[0m\u001b[0m\n\u001b[0;32m--> 780\u001b[0;31m             \u001b[0md\u001b[0m \u001b[0;34m=\u001b[0m \u001b[0mself\u001b[0m\u001b[0;34m.\u001b[0m\u001b[0m_unify_values\u001b[0m\u001b[0;34m(\u001b[0m\u001b[0msection\u001b[0m\u001b[0;34m,\u001b[0m \u001b[0mvars\u001b[0m\u001b[0;34m)\u001b[0m\u001b[0;34m\u001b[0m\u001b[0;34m\u001b[0m\u001b[0m\n\u001b[0m\u001b[1;32m    781\u001b[0m         \u001b[0;32mexcept\u001b[0m \u001b[0mNoSectionError\u001b[0m\u001b[0;34m:\u001b[0m\u001b[0;34m\u001b[0m\u001b[0;34m\u001b[0m\u001b[0m\n\u001b[1;32m    782\u001b[0m             \u001b[0;32mif\u001b[0m \u001b[0mfallback\u001b[0m \u001b[0;32mis\u001b[0m \u001b[0m_UNSET\u001b[0m\u001b[0;34m:\u001b[0m\u001b[0;34m\u001b[0m\u001b[0;34m\u001b[0m\u001b[0m\n",
      "\u001b[0;32m/usr/local/Cellar/python/3.7.5/Frameworks/Python.framework/Versions/3.7/lib/python3.7/configparser.py\u001b[0m in \u001b[0;36m_unify_values\u001b[0;34m(self, section, vars)\u001b[0m\n\u001b[1;32m   1144\u001b[0m         \u001b[0;32mexcept\u001b[0m \u001b[0mKeyError\u001b[0m\u001b[0;34m:\u001b[0m\u001b[0;34m\u001b[0m\u001b[0;34m\u001b[0m\u001b[0m\n\u001b[1;32m   1145\u001b[0m             \u001b[0;32mif\u001b[0m \u001b[0msection\u001b[0m \u001b[0;34m!=\u001b[0m \u001b[0mself\u001b[0m\u001b[0;34m.\u001b[0m\u001b[0mdefault_section\u001b[0m\u001b[0;34m:\u001b[0m\u001b[0;34m\u001b[0m\u001b[0;34m\u001b[0m\u001b[0m\n\u001b[0;32m-> 1146\u001b[0;31m                 \u001b[0;32mraise\u001b[0m \u001b[0mNoSectionError\u001b[0m\u001b[0;34m(\u001b[0m\u001b[0msection\u001b[0m\u001b[0;34m)\u001b[0m \u001b[0;32mfrom\u001b[0m \u001b[0;32mNone\u001b[0m\u001b[0;34m\u001b[0m\u001b[0;34m\u001b[0m\u001b[0m\n\u001b[0m\u001b[1;32m   1147\u001b[0m         \u001b[0;31m# Update with the entry specific variables\u001b[0m\u001b[0;34m\u001b[0m\u001b[0;34m\u001b[0m\u001b[0;34m\u001b[0m\u001b[0m\n\u001b[1;32m   1148\u001b[0m         \u001b[0mvardict\u001b[0m \u001b[0;34m=\u001b[0m \u001b[0;34m{\u001b[0m\u001b[0;34m}\u001b[0m\u001b[0;34m\u001b[0m\u001b[0;34m\u001b[0m\u001b[0m\n",
      "\u001b[0;31mNoSectionError\u001b[0m: No section: 'abm'"
     ]
    }
   ],
   "source": [
    "# Configuration\n",
    "reproduce = 'archive_bg16/2020-07-05 012327 42faff6'\n",
    "experiment = repsci.Experiment(\n",
    "    \"discrete_generated\",\n",
    "    reproduce=reproduce)\n",
    "config = experiment.get_config()\n",
    "\n",
    "N = config.getint('abm', 'N')\n",
    "M = config.getint('abm', 'M')\n",
    "runs = config.getint('abm', 'runs')\n",
    "stages = config.getint('abm', 'stages')\n",
    "steps = config.getint('abm', 'steps')\n",
    "\n",
    "bit_count = config.getint('abm', 'bit_count')\n",
    "p_error = config.getfloat('abm', 'p_error')\n",
    "\n",
    "small_world_k = config.getint('networks', 'small_world_k')\n",
    "small_world_a = config.getfloat('networks', 'small_world_a')\n",
    "barabasi_albert_m = config.getint('networks', 'barabasi_albert_m')\n",
    "\n",
    "# Configure plotting in Jupyter\n",
    "from matplotlib import pyplot as plt\n",
    "%matplotlib inline\n",
    "plt.rcParams.update({\n",
    "    'figure.figsize': (20, 20)})\n",
    "\n",
    "all_networks = [\n",
    "    'Complete',\n",
    "    'Lattice',\n",
    "    'Pref. Attach.',\n",
    "    'Small World',\n",
    "    'Long Path',\n",
    "    'Random Group']\n",
    "networks = [\n",
    "    v for v in all_networks\n",
    "    if v in config.get('networks', 'enabled').split(',')]\n",
    "\n",
    "all_learning_strategies = [\n",
    "    'Best Neighbor',\n",
    "    'Conform',\n",
    "    'Local Majority']\n",
    "learning_strategies = [\n",
    "    v for v in all_learning_strategies\n",
    "    if v in config.get('strategies', 'enabled').split(',')]\n",
    "\n",
    "num_net = len(networks)\n",
    "num_strat = len(learning_strategies)"
   ]
  },
  {
   "cell_type": "code",
   "execution_count": null,
   "metadata": {},
   "outputs": [],
   "source": [
    "score_fraction = np.load(experiment.get_filename('score_fraction.npy'))\n",
    "score_distance = np.load(experiment.get_filename('score_distance.npy'))"
   ]
  },
  {
   "cell_type": "code",
   "execution_count": null,
   "metadata": {},
   "outputs": [],
   "source": [
    "plt.figure(figsize=(30, 15))\n",
    "for i, title in enumerate(learning_strategies):\n",
    "    for j, title2 in enumerate(networks):\n",
    "        plt.subplot(num_strat, num_net, 1 + i * num_net + j)\n",
    "\n",
    "        y = score_fraction[i][j][0]\n",
    "        x = range(len(y))\n",
    "        err95 = 1.96 * np.array(score_fraction[i][j][1]) / math.sqrt(runs)\n",
    "        plt.fill_between(x, y - err95, y + err95, color=\"#aaaaff7f\")\n",
    "        plt.plot(x, y, 'b:')\n",
    "\n",
    "        y = score_distance[i][j][0]\n",
    "        err95 = 1.96 * np.array(score_distance[i][j][1]) / math.sqrt(runs)\n",
    "        plt.fill_between(x, y - err95, y + err95, color=\"#ffaaaa7f\")\n",
    "        plt.plot(x, y, 'r--')     \n",
    "\n",
    "        plt.title(f'{title} - {title2}')\n",
    "        if j == 0:\n",
    "            plt.ylabel('Frac. Correct')\n",
    "        if i == 2:\n",
    "            plt.xlabel('Time Step')\n",
    "        plt.grid(True)\n",
    "        plt.tight_layout()\n",
    "        plt.ylim([0, 1])\n",
    "\n",
    "out = experiment.get_filename('plot.png')\n",
    "plt.savefig(out, dpi=300)"
   ]
  },
  {
   "cell_type": "code",
   "execution_count": null,
   "metadata": {},
   "outputs": [],
   "source": [
    "plt.figure(figsize=(5,3))\n",
    "plt.plot(score_fraction[0][0][0], '-', color='#afafaf', label='Complete')\n",
    "plt.plot(score_fraction[0][1][0], '-.', color='#afafaf', label='Lattice')\n",
    "plt.plot(score_fraction[0][2][0], '--', color='#0000ff', label='Pref. Attach.')\n",
    "plt.plot(score_fraction[0][3][0], '--', color='#7f7fff', label='Small World')\n",
    "plt.plot(score_fraction[0][4][0], ':', color='#afaf6f', label='ND: Long Path')\n",
    "plt.plot(score_fraction[0][5][0], ':', color='#6f6f00', label='ND: Random Group')\n",
    "plt.grid()\n",
    "#plt.legend()\n",
    "plt.ylim([0,1])\n",
    "plt.ylabel('Frac. Correct')\n",
    "plt.xlabel('Time Step')\n",
    "plt.tight_layout()\n",
    "out = experiment.get_filename('best-neighbor-fraction.png')\n",
    "plt.savefig(out, dpi=600)"
   ]
  },
  {
   "cell_type": "code",
   "execution_count": null,
   "metadata": {},
   "outputs": [],
   "source": [
    "plt.figure(figsize=(5,3))\n",
    "plt.plot(score_fraction[1][0][0], '-', color='#afafaf', label='Complete')\n",
    "plt.plot(score_fraction[1][1][0], '-.', color='#afafaf', label='Lattice')\n",
    "plt.plot(score_fraction[1][2][0], '--', color='#0000ff', label='Pref. Attach.')\n",
    "plt.plot(score_fraction[1][3][0], '--', color='#7f7fff', label='Small World')\n",
    "plt.plot(score_fraction[1][4][0], ':', color='#afaf6f', label='ND: Long Path')\n",
    "plt.plot(score_fraction[1][5][0], ':', color='#6f6f00', label='ND: Random Group')\n",
    "plt.grid()\n",
    "#plt.legend()\n",
    "plt.ylabel('Frac. Correct')\n",
    "plt.xlabel('Time Step')\n",
    "plt.ylim([0,1])\n",
    "plt.tight_layout()\n",
    "out = experiment.get_filename('conform-fraction.png')\n",
    "plt.savefig(out, dpi=600)"
   ]
  },
  {
   "cell_type": "code",
   "execution_count": null,
   "metadata": {},
   "outputs": [],
   "source": [
    "plt.figure(figsize=(5,3))\n",
    "plt.plot(score_fraction[2][0][0], '-', color='#afafaf', label='Complete')\n",
    "plt.plot(score_fraction[2][1][0], '-.', color='#afafaf', label='Lattice')\n",
    "plt.plot(score_fraction[2][2][0], '--', color='#0000ff', label='Pref. Attach.')\n",
    "plt.plot(score_fraction[2][3][0], '--', color='#7f7fff', label='Small World')\n",
    "plt.plot(score_fraction[2][4][0], ':', color='#afaf6f', label='ND: Long Path')\n",
    "plt.plot(score_fraction[2][5][0], ':', color='#6f6f00', label='ND: Random Group')\n",
    "plt.grid()\n",
    "#plt.legend(bbox_to_anchor=(0,0.4, 1, 1), loc=\"lower right\")\n",
    "plt.ylabel('Frac. Correct')\n",
    "plt.xlabel('Time Step')\n",
    "plt.ylim([0,1])\n",
    "plt.tight_layout()\n",
    "out = experiment.get_filename('local-majority-fraction.png')\n",
    "plt.savefig(out, dpi=600)"
   ]
  },
  {
   "cell_type": "code",
   "execution_count": null,
   "metadata": {},
   "outputs": [],
   "source": [
    "plt.figure(figsize=(9,3))\n",
    "for i, title in enumerate(learning_strategies):\n",
    "    plt.subplot(1,3,1+i)\n",
    "    plt.title(title)\n",
    "    xlabels = []\n",
    "    for j, title2 in enumerate(networks):\n",
    "        xlabels.append(title2)\n",
    "        y = score[i][j][0]\n",
    "        best = max(y)\n",
    "        converge_threshold = 0.99 * best\n",
    "        converge_time = None\n",
    "        for t, y_t in enumerate(y):\n",
    "            if y_t >= converge_threshold:\n",
    "                converge_time = t\n",
    "                break\n",
    "        err95 = 1.96 * np.array(score[i][j][1]) / math.sqrt(runs)\n",
    "        plt.errorbar(j, best, yerr=err95[t], fmt='.b')\n",
    "    plt.ylim([0, 1])\n",
    "    plt.grid(True)\n",
    "    plt.xticks(ticks=range(len(xlabels)), labels=xlabels, rotation=90)    \n",
    "plt.tight_layout()"
   ]
  },
  {
   "cell_type": "code",
   "execution_count": null,
   "metadata": {},
   "outputs": [],
   "source": []
  }
 ],
 "metadata": {
  "kernelspec": {
   "display_name": "Python 3",
   "language": "python",
   "name": "python3"
  },
  "language_info": {
   "codemirror_mode": {
    "name": "ipython",
    "version": 3
   },
   "file_extension": ".py",
   "mimetype": "text/x-python",
   "name": "python",
   "nbconvert_exporter": "python",
   "pygments_lexer": "ipython3",
   "version": "3.7.5"
  }
 },
 "nbformat": 4,
 "nbformat_minor": 4
}
