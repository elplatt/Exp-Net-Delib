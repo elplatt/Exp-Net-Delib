{
 "cells": [
  {
   "cell_type": "markdown",
   "metadata": {},
   "source": [
    "# Network Deliberation ABM\n",
    "## Discrete state, generated signal task"
   ]
  },
  {
   "cell_type": "code",
   "execution_count": null,
   "metadata": {},
   "outputs": [],
   "source": [
    "# Imports\n",
    "import configparser\n",
    "import math\n",
    "import random\n",
    "\n",
    "import networkx as nx\n",
    "import numpy as np\n",
    "from numpy import random as nprand\n",
    "import repsci\n",
    "from tqdm.notebook import tqdm\n",
    "\n",
    "import netdelib.soclearn.evaluate as sleval\n",
    "import netdelib.soclearn.models.generated as slgen\n",
    "import netdelib.soclearn.strategy as slstrat\n",
    "from netdelib.topologies.factories import *\n",
    "\n",
    "from discrete import run_discrete_trial"
   ]
  },
  {
   "cell_type": "code",
   "execution_count": null,
   "metadata": {},
   "outputs": [],
   "source": [
    "# Configuration\n",
    "config = configparser.ConfigParser()\n",
    "config.read('discrete_generated.cfg')\n",
    "\n",
    "N = config.getint('abm', 'N')\n",
    "M = config.getint('abm', 'M')\n",
    "runs = config.getint('abm', 'runs')\n",
    "stages = config.getint('abm', 'stages')\n",
    "steps = config.getint('abm', 'steps')\n",
    "\n",
    "bit_count = config.getint('abm', 'bit_count')\n",
    "p_error = config.getfloat('abm', 'p_error')\n",
    "\n",
    "small_world_k = config.getint('networks', 'small_world_k')\n",
    "small_world_a = config.getfloat('networks', 'small_world_a')\n",
    "barabasi_albert_m = config.getint('networks', 'barabasi_albert_m')\n",
    "\n",
    "# Configure plotting in Jupyter\n",
    "from matplotlib import pyplot as plt\n",
    "%matplotlib inline\n",
    "plt.rcParams.update({\n",
    "    'figure.figsize': (20, 20),\n",
    "    'axes.spines.right': False,\n",
    "    'axes.spines.left': False,\n",
    "    'axes.spines.top': False,\n",
    "    'axes.spines.bottom': False})\n",
    "\n",
    "all_networks = {\n",
    "    'Complete': CompleteFactory(N, M),\n",
    "    'Pref. Attach.': PreferentialFactory(N, M, barabasi_albert_m),\n",
    "    'Small World': SmallWorldFactory(N, M, small_world_k, small_world_a),\n",
    "    'Long Path': LongPathFactory(N, M),\n",
    "    'Random Group': RandomGroupFactory(N, M)   \n",
    "}\n",
    "networks = dict(\n",
    "    (k, v) for k, v in all_networks.items()\n",
    "    if k in config.get('networks', 'enabled').split(','))\n",
    "\n",
    "all_learning_strategies = {\n",
    "    'Best Neighbor': slstrat.best_neighbor,\n",
    "    'Conform': slstrat.conform,\n",
    "    'Local Majority': slstrat.local_majority,\n",
    "}\n",
    "learning_strategies = dict(\n",
    "    (k, v) for k, v in all_learning_strategies.items()\n",
    "    if k in config.get('strategies', 'enabled').split(','))\n"
   ]
  },
  {
   "cell_type": "markdown",
   "metadata": {},
   "source": [
    "# Run Simulation "
   ]
  },
  {
   "cell_type": "code",
   "execution_count": null,
   "metadata": {},
   "outputs": [],
   "source": [
    "experiment = repsci.Experiment(\"discrete_generated\", config=config)\n",
    "log = experiment.get_logger()\n",
    "\n",
    "num_net = len(networks)\n",
    "num_strat = len(learning_strategies)\n",
    "true_value = tuple([1 for bit in range(bit_count)])\n",
    "score_fraction = [[0 for strat in range(num_net)] for net in range(num_strat)]\n",
    "score_distance = [[0 for strat in range(num_net)] for net in range(num_strat)]\n",
    "\n",
    "for i, (title, learning_strategy) in enumerate(tqdm(learning_strategies.items())):\n",
    "    log.info('Running trials for strategy: {}'.format(title))\n",
    "    \n",
    "    for j, (title2, factory) in enumerate(networks.items()):\n",
    "        log.info('....Running trials for network: {}'.format(title2))\n",
    "        \n",
    "        # Record time series for scores\n",
    "        run_fraction = []\n",
    "        run_distance = []\n",
    "        for run in range(runs):\n",
    "            initial_beliefs = slgen.initial_beliefs_noisy(N, true_value, p_error=p_error)\n",
    "            objective = lambda belief: sum([1 for index, true_bit in enumerate(true_value) if belief[index] == true_bit])\n",
    "            beliefs = run_discrete_trial(\n",
    "                factory,\n",
    "                learning_strategy,\n",
    "                initial_beliefs,\n",
    "                objective,\n",
    "                N, M, stages, steps)\n",
    "            run_fraction.append(sleval.beliefs_correct(beliefs, true_value))\n",
    "            run_distance.append(sleval.belief_distance(beliefs, true_value))\n",
    "        # Fraction correct\n",
    "        mean = np.mean(run_fraction, axis=0)\n",
    "        std = np.std(run_fraction, axis=0)\n",
    "        score_fraction[i][j] = (mean, std)\n",
    "        # Mean distance\n",
    "        mean = np.mean(run_distance, axis=0)\n",
    "        std = np.std(run_distance, axis=0)\n",
    "        score_distance[i][j] = (mean, std)\n",
    "        \n",
    "log.info('All trials complete')"
   ]
  },
  {
   "cell_type": "code",
   "execution_count": null,
   "metadata": {},
   "outputs": [],
   "source": [
    "out = experiment.get_filename('score_fraction.npy')\n",
    "np.save(out, score_fraction)\n",
    "out = experiment.get_filename('score_distance.npy')\n",
    "np.save(out, score_distance)"
   ]
  },
  {
   "cell_type": "code",
   "execution_count": null,
   "metadata": {},
   "outputs": [],
   "source": []
  }
 ],
 "metadata": {
  "kernelspec": {
   "display_name": "Python 3",
   "language": "python",
   "name": "python3"
  },
  "language_info": {
   "codemirror_mode": {
    "name": "ipython",
    "version": 3
   },
   "file_extension": ".py",
   "mimetype": "text/x-python",
   "name": "python",
   "nbconvert_exporter": "python",
   "pygments_lexer": "ipython3",
   "version": "3.7.5"
  }
 },
 "nbformat": 4,
 "nbformat_minor": 4
}
