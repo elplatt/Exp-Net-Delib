{
 "cells": [
  {
   "cell_type": "markdown",
   "metadata": {},
   "source": [
    "# Network Deliberation ABM\n",
    "## Discrete state, interpreted NK Model task"
   ]
  },
  {
   "cell_type": "code",
   "execution_count": null,
   "metadata": {},
   "outputs": [],
   "source": [
    "# Imports\n",
    "import configparser\n",
    "import math\n",
    "import random\n",
    "\n",
    "import networkx as nx\n",
    "import nkmodel as nk\n",
    "import numpy as np\n",
    "from numpy import random as nprand\n",
    "import repsci\n",
    "from tqdm.notebook import tqdm\n",
    "\n",
    "import netdelib.soclearn.evaluate as sleval\n",
    "import netdelib.soclearn.models.interpreted as slint\n",
    "import netdelib.soclearn.strategy as slstrat\n",
    "from netdelib.topologies.factories import *\n",
    "\n",
    "from discrete_interpreted_nk import run_nk_trial"
   ]
  },
  {
   "cell_type": "code",
   "execution_count": null,
   "metadata": {},
   "outputs": [],
   "source": [
    "# Configuration\n",
    "config = configparser.ConfigParser()\n",
    "config.read('discrete_interpreted_nk.cfg')\n",
    "\n",
    "N = config.getint('abm', 'N')\n",
    "M = config.getint('abm', 'M')\n",
    "runs = config.getint('abm', 'runs')\n",
    "stages = config.getint('abm', 'stages')\n",
    "steps = config.getint('abm', 'steps')\n",
    "\n",
    "bit_count = config.getint('abm', 'bit_count')\n",
    "K = config.getint('abm', 'K')\n",
    "\n",
    "small_world_k = config.getint('networks', 'small_world_k')\n",
    "small_world_a = config.getfloat('networks', 'small_world_a')\n",
    "barabasi_albert_m = config.getint('networks', 'barabasi_albert_m')\n",
    "\n",
    "# Configure plotting in Jupyter\n",
    "from matplotlib import pyplot as plt\n",
    "%matplotlib inline\n",
    "plt.rcParams.update({\n",
    "    'figure.figsize': (20, 20),\n",
    "    'axes.spines.right': False,\n",
    "    'axes.spines.left': False,\n",
    "    'axes.spines.top': False,\n",
    "    'axes.spines.bottom': False})\n",
    "\n",
    "networks = {\n",
    "    'Complete': CompleteFactory(N, M),\n",
    "    'Pref. Attach.': PreferentialFactory(N, M, barabasi_albert_m),\n",
    "    'Small World': SmallWorldFactory(N, M, small_world_k, small_world_a),\n",
    "    'Long Path': LongPathFactory(N, M),\n",
    "    'Random Group': RandomGroupFactory(N, M)   \n",
    "}\n",
    "\n",
    "learning_strategies = {\n",
    "    'Best Neighbor': slstrat.best_neighbor,\n",
    "#    'Random bit': random_neighbor_bit,\n",
    "#    'Random list': random_neighbor_list,\n",
    "    'Conform': slstrat.conform,\n",
    "    'Local Majority': slstrat.local_majority,\n",
    "}"
   ]
  },
  {
   "cell_type": "markdown",
   "metadata": {},
   "source": [
    "# Run Simulation "
   ]
  },
  {
   "cell_type": "code",
   "execution_count": null,
   "metadata": {},
   "outputs": [],
   "source": [
    "experiment = repsci.Experiment(\"discrete_interpreted_nk\", config=config)\n",
    "log = experiment.get_logger()\n",
    "\n",
    "num_net = len(networks)\n",
    "num_strat = len(learning_strategies)\n",
    "score = [[0 for strat in range(num_net)] for net in range(num_strat)]\n",
    "\n",
    "for i, (title, learning_strategy) in enumerate(tqdm(learning_strategies.items())):\n",
    "    log.info('Running trials for strategy: {}'.format(title))\n",
    "    \n",
    "    for j, (title2, factory) in enumerate(networks.items()):\n",
    "        log.info('....Running trials for network: {}'.format(title2))\n",
    "        \n",
    "        # Record time series for scores\n",
    "        run_score = []\n",
    "        for run in range(runs):\n",
    "            model = nk.NK(bit_count, K)\n",
    "            beliefs_at_step = run_nk_trial(\n",
    "                factory,\n",
    "                learning_strategy,\n",
    "                model,\n",
    "                N, M, stages, steps)\n",
    "            scores_for_step_agent = [model.get_values(beliefs) for beliefs in beliefs_at_step]\n",
    "            # Have to convert scores from dict values to list, otherwise np gets confused\n",
    "            score_for_step = [\n",
    "                np.mean(list(scores.values()))\n",
    "                for scores in scores_for_step_agent]\n",
    "            run_score.append(score_for_step)\n",
    "        # Mean/std score for all runs\n",
    "        mean = np.mean(run_score, axis=0)\n",
    "        std = np.std(run_score, axis=0)\n",
    "        score[i][j] = (mean, std)\n",
    "        \n",
    "log.info('All trials complete')"
   ]
  },
  {
   "cell_type": "code",
   "execution_count": null,
   "metadata": {},
   "outputs": [],
   "source": [
    "plt.figure(figsize=(15, 9))\n",
    "for i, (title, learning_strategy) in enumerate(learning_strategies.items()):\n",
    "    for j, (title2, factory) in enumerate(networks.items()):\n",
    "        plt.subplot(num_strat, num_net, 1 + i * num_net + j)\n",
    "\n",
    "        y = score[i][j][0]\n",
    "        x = range(len(y))\n",
    "        err95 = 1.96 * np.array(score[i][j][1]) / math.sqrt(runs)\n",
    "        plt.fill_between(x, y - err95, y + err95, color=\"#aaaaff7f\")\n",
    "        plt.plot(x, y, 'b:')\n",
    "\n",
    "        plt.title(f'{title} - {title2}')\n",
    "        if j == 0:\n",
    "            plt.ylabel('Frac. Correct')\n",
    "        if i == 2:\n",
    "            plt.xlabel('Time Step')\n",
    "        plt.grid(True)\n",
    "        plt.tight_layout()\n",
    "        plt.ylim([0, 1])\n",
    "\n",
    "out = experiment.get_filename('plot.png')\n",
    "plt.savefig(out, dpi=300)"
   ]
  },
  {
   "cell_type": "code",
   "execution_count": null,
   "metadata": {},
   "outputs": [],
   "source": []
  }
 ],
 "metadata": {
  "kernelspec": {
   "display_name": "Python 3",
   "language": "python",
   "name": "python3"
  },
  "language_info": {
   "codemirror_mode": {
    "name": "ipython",
    "version": 3
   },
   "file_extension": ".py",
   "mimetype": "text/x-python",
   "name": "python",
   "nbconvert_exporter": "python",
   "pygments_lexer": "ipython3",
   "version": "3.7.5"
  }
 },
 "nbformat": 4,
 "nbformat_minor": 4
}
