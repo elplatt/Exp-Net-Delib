{
 "cells": [
  {
   "cell_type": "code",
   "execution_count": 1,
   "metadata": {},
   "outputs": [
    {
     "name": "stdout",
     "output_type": "stream",
     "text": [
      "Populating the interactive namespace from numpy and matplotlib\n"
     ]
    }
   ],
   "source": [
    "%pylab inline\n",
    "import repsci\n",
    "from matplotlib import pyplot as plt\n",
    "import networkx as nx\n",
    "from networkx import bipartite\n",
    "from networkx import NetworkXNoPath\n",
    "import random\n",
    "import scipy.stats as spstats\n",
    "import tqdm\n",
    "from netdelib.topologies.topologies import *\n",
    "exp = repsci.Experiment('connectivity')"
   ]
  },
  {
   "cell_type": "code",
   "execution_count": 2,
   "metadata": {},
   "outputs": [],
   "source": [
    "def get_layer_graph(stage_pods, self_weight=0, source=False, sink=False):\n",
    "    '''\n",
    "    stage_pods: [stage][pod][node]'''\n",
    "    G = nx.DiGraph()\n",
    "    all_nodes = [\n",
    "        elt\n",
    "        for pod in stage_pods[0]\n",
    "            for elt in pod]\n",
    "    final_stage = len(stage_pods)\n",
    "    for stage, pods in enumerate(stage_pods):\n",
    "        for pod in pods:\n",
    "            for v in pod:\n",
    "                if source:\n",
    "                    # Create labels for source node\n",
    "                    i_label = '0-{}'.format(v)\n",
    "                    # Add zero-weight shortcut edges to nodes after stage\n",
    "                    t_label = '{}-{}'.format(stage + 1, v)\n",
    "                    G.add_edge(i_label, t_label, weight=0)\n",
    "                if sink:\n",
    "                    # Create labels for sink nodes\n",
    "                    f_label = '{}-{}'.format(final_stage, v)\n",
    "                    # Add zero-weight shortcut edges to nodes before stage\n",
    "                    s_label = '{}-{}'.format(stage, v)\n",
    "                    G.add_edge(s_label, f_label, weight=0)\n",
    "                for w in pod:\n",
    "                    if v == w:\n",
    "                        continue\n",
    "                    # Create labels for target nodes\n",
    "                    s_label = '{}-{}'.format(stage, v)\n",
    "                    t_label = '{}-{}'.format(stage + 1, w)\n",
    "                    G.add_edge(s_label, t_label, weight=1)\n",
    "    return G"
   ]
  },
  {
   "cell_type": "code",
   "execution_count": 3,
   "metadata": {},
   "outputs": [],
   "source": [
    "def test_residue(M=5, D=3, all_N=range(20,80), lowest=2, link_adjacent=False):\n",
    "    '''Tests connectiity of long-path networks, considering only paths starting at t0.'''\n",
    "    result = {\n",
    "        'harmonic': [],\n",
    "        'finite': [],\n",
    "        'bounded': [],\n",
    "        'kcon': []\n",
    "    }\n",
    "    # Iterate through network sizes\n",
    "    for N in tqdm.tqdm(all_N):\n",
    "        # Initialize totals\n",
    "        harmonic_total = 0\n",
    "        kcon_total = 0\n",
    "        # Generate graph from list of groups at each stage\n",
    "        # Stage 0 groups adjacent nodes, treating all as the same modulus class\n",
    "        if link_adjacent:\n",
    "            lower = 0\n",
    "            upper = D\n",
    "        else:\n",
    "            lower = 1\n",
    "            upper = D + 1\n",
    "        stage_groups = [\n",
    "            get_long_path_stage_groups(N, M, i, lowest=lowest)\n",
    "            for i in range(lower, upper)]\n",
    "        G_residue = get_layer_graph(stage_groups, self_weight=1, source=True, sink=True)\n",
    "        residue_lengths = []\n",
    "        finite_lengths = []\n",
    "        bounded_lengths = []\n",
    "        for s in range(N):\n",
    "            # Construct source label and get all shortests paths from it\n",
    "            s_id = '0-{}'.format(s)\n",
    "            s_lengths = nx.shortest_path_length(\n",
    "                G_residue, source=s_id, weight='weight')\n",
    "            for t in range(N):\n",
    "                if s == t:\n",
    "                    continue\n",
    "                # Find path length from first stage to end-stage\n",
    "                t_id = '{}-{}'.format(D, t)\n",
    "                try:\n",
    "                    length = s_lengths[t_id]\n",
    "                    residue_lengths.append(length)\n",
    "                    finite_lengths.append(length)\n",
    "                    bounded_lengths.append(length)\n",
    "                    kcon_total += 1\n",
    "                except KeyError:\n",
    "                    residue_lengths.append(float('inf'))\n",
    "                    bounded_lengths.append(D + 1)\n",
    "        harmonic_total += spstats.hmean(residue_lengths)\n",
    "        result['harmonic'].append(harmonic_total)\n",
    "        result['finite'].append(sum(finite_lengths) / len(finite_lengths))\n",
    "        result['bounded'].append(sum(bounded_lengths) / len(bounded_lengths))\n",
    "        result['harmonic'].append(harmonic_total)\n",
    "        result['kcon'].append(kcon_total / N / (N - 1))\n",
    "    return result"
   ]
  },
  {
   "cell_type": "code",
   "execution_count": 4,
   "metadata": {},
   "outputs": [],
   "source": [
    "def test_random(M=5, D=3, all_N=range(20,80), num_iter=10):\n",
    "    '''Tests connectiity of random-pod networks, considering only paths starting at t0.'''\n",
    "    result = {\n",
    "        'harmonic': [],\n",
    "        'finite': [],\n",
    "        'bounded': [],\n",
    "        'kcon': []\n",
    "    }\n",
    "    # Iterate through network sizes\n",
    "    for N in tqdm.tqdm(all_N):\n",
    "        # Initialize totals\n",
    "        harmonic_total = 0\n",
    "        kcon_total = 0\n",
    "        finite_total = 0\n",
    "        bounded_total = 0\n",
    "        # Run multiple trials\n",
    "        for m in range(num_iter):\n",
    "            # Generate graph from list of groups at each stage\n",
    "            stage_groups = [\n",
    "                get_random_stage_groups(N, M, i)\n",
    "                for i in range(D)]\n",
    "            G_random = get_layer_graph(stage_groups, self_weight=1, source=False, sink=True)\n",
    "            random_lengths = []\n",
    "            finite_lengths = []\n",
    "            bounded_lengths = []\n",
    "            for s in range(N):\n",
    "                # Construct source label and get all shortests paths from it\n",
    "                s_id = '0-{}'.format(s)\n",
    "                s_lengths = nx.shortest_path_length(\n",
    "                            G_random, source=s_id, weight='weight')\n",
    "                for t in range(N):\n",
    "                    if s == t:\n",
    "                        continue\n",
    "                    # Find path length from first stage to end-stage\n",
    "                    s_id = '0-{}'.format(s)\n",
    "                    t_id = '{}-{}'.format(D, t)\n",
    "                    try:\n",
    "                        length = s_lengths[t_id]\n",
    "                        random_lengths.append(length)\n",
    "                        finite_lengths.append(length)\n",
    "                        bounded_lengths.append(length)\n",
    "                        kcon_total += 1\n",
    "                    except KeyError:\n",
    "                        random_lengths.append(float('inf'))\n",
    "                        bounded_lengths.append(D + 1)\n",
    "            harmonic_total += spstats.hmean(random_lengths)\n",
    "            bounded_total += sum(bounded_lengths) / len(bounded_lengths)\n",
    "            finite_total += sum(finite_lengths) / len(finite_lengths)\n",
    "        result['harmonic'].append(harmonic_total / num_iter)\n",
    "        result['finite'].append(finite_total / num_iter)\n",
    "        result['bounded'].append(bounded_total / num_iter)\n",
    "        result['kcon'].append(kcon_total / N / (N - 1) / num_iter)\n",
    "    return result"
   ]
  },
  {
   "cell_type": "code",
   "execution_count": 5,
   "metadata": {},
   "outputs": [],
   "source": [
    "def test_residue_all_stages(M=5, D=3, all_N=range(20,80), lowest=2, link_adjacent=False):\n",
    "    '''Tests connectiity of long-path networks,\n",
    "    considering all paths starting and ending on any stage.'''\n",
    "    result = {\n",
    "        'harmonic': [],\n",
    "        'kcon': []\n",
    "    }\n",
    "    # Iterate through network sizes\n",
    "    for N in tqdm.tqdm(all_N):\n",
    "        # Initialize totals\n",
    "        harmonic_total = 0\n",
    "        kcon_total = 0\n",
    "        possible_total = 0\n",
    "        # Generate graph from list of groups at each stage\n",
    "        # Stage 0 groups adjacent nodes, treating all as the same modulus class\n",
    "        if link_adjacent:\n",
    "            lower = 0\n",
    "            upper = D\n",
    "        else:\n",
    "            lower = 1\n",
    "            upper = D + 1\n",
    "        stage_groups = [\n",
    "            get_long_path_stage_groups(N, M, i, lowest=lowest)\n",
    "            for i in range(lower, upper)]\n",
    "        G_residue = get_layer_graph(stage_groups, self_weight=0, sink_source=False)\n",
    "        residue_lengths = []\n",
    "        for s_stage in range(D):\n",
    "            for t_stage in range(s_stage + 1, D+1):\n",
    "                for s in range(N):\n",
    "                    for t in range(N):\n",
    "                        possible_total += 1\n",
    "                        # Find path length from first stage to end-stage\n",
    "                        s_id = '{}-{}'.format(s_stage, s)\n",
    "                        t_id = '{}-{}'.format(t_stage, t)\n",
    "                        try:\n",
    "                            length = nx.shortest_path_length(\n",
    "                                G_residue, s_id, t_id, weight='weight')\n",
    "                            residue_lengths.append(length)\n",
    "                            kcon_total += 1\n",
    "                        except NetworkXNoPath:\n",
    "                            residue_lengths.append(float('inf'))\n",
    "        harmonic_total += spstats.hmean(residue_lengths)\n",
    "        result['harmonic'].append(harmonic_total)\n",
    "        result['kcon'].append(kcon_total / possible_total)\n",
    "    return result"
   ]
  },
  {
   "cell_type": "code",
   "execution_count": 6,
   "metadata": {},
   "outputs": [],
   "source": [
    "def test_random_all_stages(M=5, D=3, all_N=range(20,80), num_iter=10):\n",
    "    '''Tests connectiity of random-pod networks,\n",
    "    considering all paths starting and ending on any stage.'''\n",
    "    result = {\n",
    "        'harmonic': [],\n",
    "        'kcon': []\n",
    "    }\n",
    "    # Iterate through network sizes\n",
    "    for N in tqdm.tqdm(all_N):\n",
    "        # Initialize totals\n",
    "        harmonic_total = 0\n",
    "        kcon_total = 0\n",
    "        possible_total = 0\n",
    "        # Run multiple trials\n",
    "        for m in range(num_iter):\n",
    "            # Generate graph from list of groups at each stage\n",
    "            stage_groups = [\n",
    "                get_random_stage_groups(N, M, i)\n",
    "                for i in range(D)]\n",
    "            G_random = get_layer_graph(stage_groups, self_weight=0, sink_source=False)\n",
    "            random_lengths = []\n",
    "            for s_stage in range(D):\n",
    "                for t_stage in range(s_stage + 1, D + 1):\n",
    "                    for s in range(N):\n",
    "                        for t in range(N):\n",
    "                            possible_total += 1\n",
    "                            # Find path length from first stage to end-stage\n",
    "                            s_id = '{}-{}'.format(s_stage, s)\n",
    "                            t_id = '{}-{}'.format(t_stage, t)\n",
    "                            try:\n",
    "                                length = nx.shortest_path_length(\n",
    "                                    G_random, s_id, t_id, weight='weight')\n",
    "                                random_lengths.append(length)\n",
    "                                kcon_total += 1\n",
    "                            except NetworkXNoPath:\n",
    "                                random_lengths.append(float('inf'))\n",
    "            harmonic_total += spstats.hmean(random_lengths)\n",
    "        result['harmonic'].append(harmonic_total / num_iter)\n",
    "        result['kcon'].append(kcon_total / possible_total)\n",
    "    return result"
   ]
  },
  {
   "cell_type": "code",
   "execution_count": 7,
   "metadata": {},
   "outputs": [
    {
     "name": "stderr",
     "output_type": "stream",
     "text": [
      "100%|██████████████████████████████████████████| 35/35 [00:00<00:00, 242.73it/s]\n"
     ]
    }
   ],
   "source": [
    "M=5\n",
    "D=3\n",
    "lowest=2\n",
    "step=1\n",
    "all_N = range(15, 50, step)\n",
    "residue_result = test_residue(M=M, D=D, all_N=all_N, lowest=lowest, link_adjacent=True)"
   ]
  },
  {
   "cell_type": "code",
   "execution_count": 8,
   "metadata": {},
   "outputs": [
    {
     "name": "stderr",
     "output_type": "stream",
     "text": [
      "100%|███████████████████████████████████████████| 35/35 [00:01<00:00, 23.93it/s]\n"
     ]
    }
   ],
   "source": [
    "random_result = test_random(M=M, D=D, all_N=all_N)"
   ]
  },
  {
   "cell_type": "code",
   "execution_count": 9,
   "metadata": {},
   "outputs": [
    {
     "name": "stderr",
     "output_type": "stream",
     "text": [
      "The PostScript backend does not support transparency; partially transparent artists will be rendered opaque.\n",
      "The PostScript backend does not support transparency; partially transparent artists will be rendered opaque.\n"
     ]
    },
    {
     "data": {
      "image/png": "[encoded data removed]",
      "text/plain": [
       "<Figure size 432x288 with 1 Axes>"
      ]
     },
     "metadata": {
      "needs_background": "light"
     },
     "output_type": "display_data"
    }
   ],
   "source": [
    "plt.figure(figsize=(6,4))\n",
    "plt.title(\"M={}, T={}\".format(M, D), fontsize=16)\n",
    "plt.plot(all_N, random_result['kcon'], label=\"Random\")\n",
    "plt.plot(all_N, residue_result['kcon'], label=\"Long\")\n",
    "plt.legend(loc=\"lower left\")\n",
    "plt.xlabel(\"Participants\", fontsize=16)\n",
    "plt.ylabel(\"K-Connectivity\", fontsize=16)\n",
    "plt.xticks(fontsize=16)\n",
    "plt.yticks(fontsize=16)\n",
    "plt.grid()\n",
    "plt.ylim([0.3,1])\n",
    "plt.yticks([0.3, 0.4, 0.5, 0.6, 0.7, 0.8, 0.9, 1.0])\n",
    "plt.tight_layout()\n",
    "plt.savefig(exp.get_filename('kcon.png'), dpi=600)\n",
    "plt.savefig(exp.get_filename('kcon.eps'))"
   ]
  },
  {
   "cell_type": "code",
   "execution_count": null,
   "metadata": {},
   "outputs": [],
   "source": []
  }
 ],
 "metadata": {
  "kernelspec": {
   "display_name": "Python 3 (ipykernel)",
   "language": "python",
   "name": "python3"
  },
  "language_info": {
   "codemirror_mode": {
    "name": "ipython",
    "version": 3
   },
   "file_extension": ".py",
   "mimetype": "text/x-python",
   "name": "python",
   "nbconvert_exporter": "python",
   "pygments_lexer": "ipython3",
   "version": "3.9.5"
  }
 },
 "nbformat": 4,
 "nbformat_minor": 4
}
