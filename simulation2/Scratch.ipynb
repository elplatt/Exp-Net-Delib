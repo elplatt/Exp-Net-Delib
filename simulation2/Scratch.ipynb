{
 "cells": [
  {
   "cell_type": "code",
   "execution_count": 47,
   "id": "12709e94-8992-420e-8dba-743df591c6e6",
   "metadata": {
    "tags": []
   },
   "outputs": [],
   "source": [
    "import networkx as nx\n",
    "import pandas as pd"
   ]
  },
  {
   "cell_type": "code",
   "execution_count": 27,
   "id": "c813e636-4628-48bc-97b6-371704110888",
   "metadata": {
    "tags": []
   },
   "outputs": [],
   "source": [
    "G = nx.barabasi_albert_graph(100, 2)"
   ]
  },
  {
   "cell_type": "code",
   "execution_count": 28,
   "id": "42c472d5-1df4-4c65-aba6-2f68e716750c",
   "metadata": {
    "tags": []
   },
   "outputs": [
    {
     "data": {
      "text/plain": [
       "3.92"
      ]
     },
     "execution_count": 28,
     "metadata": {},
     "output_type": "execute_result"
    }
   ],
   "source": [
    "len(G.edges) / len(G.nodes) * 2"
   ]
  },
  {
   "cell_type": "code",
   "execution_count": 16,
   "id": "fda641b9-8fe0-4765-80a5-37bd6cceeed2",
   "metadata": {},
   "outputs": [],
   "source": [
    "G = nx.watts_strogatz_graph(100, 4, 0)"
   ]
  },
  {
   "cell_type": "code",
   "execution_count": 26,
   "id": "2cce932c-c4bf-455b-ac71-eb0705af49c3",
   "metadata": {
    "tags": []
   },
   "outputs": [
    {
     "data": {
      "text/plain": [
       "4.0"
      ]
     },
     "execution_count": 26,
     "metadata": {},
     "output_type": "execute_result"
    }
   ],
   "source": [
    "len(G.edges) / len(G.nodes) * 2"
   ]
  },
  {
   "cell_type": "code",
   "execution_count": 29,
   "id": "00017604-9aae-41eb-9208-309463583246",
   "metadata": {
    "tags": []
   },
   "outputs": [],
   "source": [
    "import nkmodel as nk"
   ]
  },
  {
   "cell_type": "code",
   "execution_count": 33,
   "id": "c172741b-dc13-411d-9e71-5cd80ccee433",
   "metadata": {},
   "outputs": [],
   "source": [
    "m = nk.NK(5, 2)"
   ]
  },
  {
   "cell_type": "code",
   "execution_count": 34,
   "id": "519b4cad-b52a-4f0b-851e-7a26181dccdd",
   "metadata": {
    "tags": []
   },
   "outputs": [
    {
     "data": {
      "text/plain": [
       "((0, 0, 0, 1, 0), 0.8641811348294542)"
      ]
     },
     "execution_count": 34,
     "metadata": {},
     "output_type": "execute_result"
    }
   ],
   "source": [
    "m.get_global_max()"
   ]
  },
  {
   "cell_type": "code",
   "execution_count": 36,
   "id": "181386d8-d77e-42c9-a3fe-54fdf08f7ead",
   "metadata": {
    "tags": []
   },
   "outputs": [
    {
     "data": {
      "text/plain": [
       "(0, 0, 0, 0, 0)"
      ]
     },
     "execution_count": 36,
     "metadata": {},
     "output_type": "execute_result"
    }
   ],
   "source": [
    "tuple([0]*5)"
   ]
  },
  {
   "cell_type": "code",
   "execution_count": 92,
   "id": "6c5e545f-0e20-4da4-b168-0f2f1d3d4959",
   "metadata": {
    "tags": []
   },
   "outputs": [
    {
     "name": "stdout",
     "output_type": "stream",
     "text": [
      "[1, 0, 0]\n",
      "[(0, 0, 1), (0, 1, 0), (1, 0, 0)]\n",
      "[0, 0, 0]\n"
     ]
    }
   ],
   "source": [
    "import scipy.stats as spstats\n",
    "import scipy.stats\n",
    "import pandas as pd\n",
    "import pandas\n",
    "import statistics\n",
    "\n",
    "data_3d = [\n",
    "    (1, 0, 0),\n",
    "    (0, 1, 0),\n",
    "    (0, 0, 1)]\n",
    "\n",
    "print(list( statistics.mode(data_3d) ))\n",
    "print(list( pandas.Series(data_3d).mode() ))\n",
    "print(list( scipy.stats.mode(data_3d, keepdims=False).mode ))"
   ]
  },
  {
   "cell_type": "code",
   "execution_count": 80,
   "id": "8c4f3705-6e5b-49c5-9a3f-320186a93dc1",
   "metadata": {
    "tags": []
   },
   "outputs": [
    {
     "data": {
      "text/plain": [
       "[(0, 0, 1), (0, 1, 0), (1, 0, 0)]"
      ]
     },
     "execution_count": 80,
     "metadata": {},
     "output_type": "execute_result"
    }
   ],
   "source": [
    "def find_mode(s):\n",
    "    return list(pd.Series(s).mode())\n",
    "\n",
    "data_2d = [\n",
    "    (1, 0, 0), (0, 1, 0), (0, 0, 1)\n",
    "]\n",
    "\n",
    "find_mode(data_2d)"
   ]
  },
  {
   "cell_type": "code",
   "execution_count": 96,
   "id": "5cf867b4-eb16-4fad-bced-89e6552ec3a3",
   "metadata": {
    "tags": []
   },
   "outputs": [],
   "source": [
    "import netdelib.soclearn.strategy as slstrat\n",
    "from netdelib import soclearn"
   ]
  },
  {
   "cell_type": "code",
   "execution_count": 99,
   "id": "755ec459-aa39-4beb-a6b3-13e6efebfbfb",
   "metadata": {
    "tags": []
   },
   "outputs": [],
   "source": [
    "G = nx.Graph()\n",
    "G.add_edges_from([\n",
    "    (0, 1), (0, 2), (0, 3), (0, 4),\n",
    "    (7, 3), (7, 4), (7, 5), (7, 6)\n",
    "])\n",
    "\n",
    "initial = {\n",
    "    0: [0, 0, 1, 0, 1, 0],\n",
    "    1: [1, 1, 1, 0, 1, 0],\n",
    "    2: [1, 0, 0, 0, 1, 0],\n",
    "    3: [1, 0, 1, 1, 1, 0],\n",
    "    4: [1, 0, 1, 0, 0, 0],\n",
    "    5: [1, 0, 1, 0, 1, 1],\n",
    "    6: [1, 0, 1, 0, 1, 1],\n",
    "    7: [1, 0, 1, 0, 1, 0]\n",
    "}\n"
   ]
  },
  {
   "cell_type": "code",
   "execution_count": 106,
   "id": "2af3380e-ce2e-4b44-b4d1-d2d46fd7c31b",
   "metadata": {
    "tags": []
   },
   "outputs": [],
   "source": [
    "current_beliefs = dict(initial)\n",
    "new_lists = dict((v, []) for v in G.nodes()) #a dict: intiates a list for each node v. \n",
    "\n",
    "for v in new_lists:\n",
    "    for w in G.neighbors(v):\n",
    "        new_lists[v].append(tuple(current_beliefs[w])) #appends the vals of all neighbors of v in new list[v]\n"
   ]
  },
  {
   "cell_type": "code",
   "execution_count": 107,
   "id": "8e182d2a-6b54-45d9-8837-4a9e754ec717",
   "metadata": {
    "tags": []
   },
   "outputs": [
    {
     "data": {
      "text/plain": [
       "[(1, 1, 1, 0, 1, 0),\n",
       " (1, 0, 0, 0, 1, 0),\n",
       " (1, 0, 1, 1, 1, 0),\n",
       " (1, 0, 1, 0, 0, 0)]"
      ]
     },
     "execution_count": 107,
     "metadata": {},
     "output_type": "execute_result"
    }
   ],
   "source": [
    "new_lists[0]"
   ]
  },
  {
   "cell_type": "code",
   "execution_count": 108,
   "id": "3ab60d55-f34e-4d9b-92b9-34e9d6fdf91f",
   "metadata": {
    "tags": []
   },
   "outputs": [
    {
     "data": {
      "text/plain": [
       "(1, 1, 1, 0, 1, 0)"
      ]
     },
     "execution_count": 108,
     "metadata": {},
     "output_type": "execute_result"
    }
   ],
   "source": [
    "slstrat.agent_conform(initial[0], new_lists[0])"
   ]
  },
  {
   "cell_type": "code",
   "execution_count": 109,
   "id": "9e7b9f58-0b16-44bb-a9d4-cbfd82d7428a",
   "metadata": {
    "tags": []
   },
   "outputs": [],
   "source": [
    "import statistics"
   ]
  },
  {
   "cell_type": "code",
   "execution_count": 110,
   "id": "2871a2b6-5497-4320-aa71-8013d9df0896",
   "metadata": {
    "tags": []
   },
   "outputs": [
    {
     "data": {
      "text/plain": [
       "(1, 1, 1, 0, 1, 0)"
      ]
     },
     "execution_count": 110,
     "metadata": {},
     "output_type": "execute_result"
    }
   ],
   "source": [
    "statistics.mode(new_lists[0])"
   ]
  },
  {
   "cell_type": "code",
   "execution_count": 111,
   "id": "04ddcb39-f994-4ecd-b248-b96211a22663",
   "metadata": {
    "tags": []
   },
   "outputs": [
    {
     "data": {
      "text/plain": [
       "1"
      ]
     },
     "execution_count": 111,
     "metadata": {},
     "output_type": "execute_result"
    }
   ],
   "source": [
    "statistics.mode([1, 1, 0, 0])"
   ]
  },
  {
   "cell_type": "code",
   "execution_count": null,
   "id": "8b24fc0c-d66e-4fb3-b38c-1bd5822a4618",
   "metadata": {},
   "outputs": [],
   "source": []
  }
 ],
 "metadata": {
  "kernelspec": {
   "display_name": "Python 3 (ipykernel)",
   "language": "python",
   "name": "python3"
  },
  "language_info": {
   "codemirror_mode": {
    "name": "ipython",
    "version": 3
   },
   "file_extension": ".py",
   "mimetype": "text/x-python",
   "name": "python",
   "nbconvert_exporter": "python",
   "pygments_lexer": "ipython3",
   "version": "3.10.12"
  }
 },
 "nbformat": 4,
 "nbformat_minor": 5
}
