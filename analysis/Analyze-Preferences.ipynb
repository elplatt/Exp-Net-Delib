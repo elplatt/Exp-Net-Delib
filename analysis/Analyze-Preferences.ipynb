{
 "cells": [
  {
   "cell_type": "code",
   "execution_count": 2,
   "metadata": {},
   "outputs": [],
   "source": [
    "from matplotlib import pyplot as plt\n",
    "import numpy as np\n",
    "import pandas as pd\n",
    "import random\n",
    "import scipy.stats as spstats\n",
    "%matplotlib inline"
   ]
  },
  {
   "cell_type": "code",
   "execution_count": 3,
   "metadata": {},
   "outputs": [],
   "source": [
    "def load_survey(round_number, filename):\n",
    "    df = pd.read_csv(filename, delimiter='\\t', encoding='utf-16').drop([0,1])[[\n",
    "        'IPAddress', 'participant_id', 'group_id', 'session_code', 'Q2_1', 'Q2_2', 'Q2_3', 'Q2_4'\n",
    "    ]]\n",
    "    df['group_id'] = pd.to_numeric(df.group_id)\n",
    "    df['participant_id'] = pd.to_numeric(df.participant_id)\n",
    "    na = df.group_id.isna()\n",
    "    df.loc[na, 'group_id'] = 100\n",
    "    return df\n"
   ]
  },
  {
   "cell_type": "code",
   "execution_count": 4,
   "metadata": {},
   "outputs": [],
   "source": [
    "df_a = load_survey(0, 'results/2018-12-21/Networked-Deliberation-01-A_December 21, 2018_11.41.tsv')\n",
    "df_b = load_survey(1, 'results/2018-12-21/Networked-Deliberation-01-B_December 21, 2018_11.42.tsv')\n",
    "df_c = load_survey(2, 'results/2018-12-21/Networked-Deliberation-01-C_December 21, 2018_11.43.tsv')\n",
    "df_d = load_survey(3, 'results/2018-12-21/Networked-Deliberation-01-D_December 21, 2018_11.44.tsv')\n",
    "\n",
    "df = pd.concat([df_a, df_b, df_c, df_d]).rename({\n",
    "    \"Q2_1\": \"item1_rank\",\n",
    "    \"Q2_2\": \"item2_rank\",\n",
    "    \"Q2_3\": \"item3_rank\",\n",
    "    \"Q2_4\": \"item4_rank\",\n",
    "}, axis=1)\n",
    "\n",
    "exclude_ids = set([1, 4])\n",
    "participant_ids = set(df.participant_id)\n",
    "df = df[df.participant_id.isin(participant_ids - exclude_ids)]"
   ]
  },
  {
   "cell_type": "code",
   "execution_count": 9,
   "metadata": {},
   "outputs": [
    {
     "data": {
      "text/plain": [
       "{2: [[4, 2, 3, 1], [4, 3, 2, 1], [4, 3, 2, 1], [4, 3, 2, 1]],\n",
       " 3: [[3, 4, 2, 1], [1, 3, 2, 4], [1, 3, 4, 2], [1, 3, 4, 2]],\n",
       " 5: [[1, 2, 3, 4], [1, 3, 4, 2], [1, 3, 4, 2], [1, 2, 4, 3]],\n",
       " 6: [[3, 4, 2, 1], [3, 1, 4, 2], [3, 1, 2, 4], [1, 3, 4, 2]],\n",
       " 7: [[3, 4, 2, 1], [3, 4, 2, 1], [3, 4, 2, 1], [3, 4, 2, 1]],\n",
       " 10: [[3, 1, 4, 2], [3, 1, 4, 2], [3, 1, 4, 2], [3, 4, 1, 2]],\n",
       " 11: [[3, 4, 2, 1], [3, 4, 2, 1], [3, 4, 2, 1], [3, 4, 2, 1]],\n",
       " 12: [[2, 4, 1, 3], [2, 4, 1, 3], [2, 1, 4, 3], [2, 1, 4, 3]],\n",
       " 13: [[3, 2, 4, 1], [3, 2, 4, 1], [3, 1, 2, 4], [3, 2, 1, 4]],\n",
       " 14: [[4, 2, 3, 1], [3, 1, 2, 4], [3, 4, 2, 1], [3, 1, 2, 4]],\n",
       " 15: [[4, 2, 3, 1], [3, 4, 2, 1], [3, 4, 2, 1], [3, 4, 2, 1]],\n",
       " 16: [[3, 1, 4, 2], [4, 3, 1, 2], [3, 1, 4, 2], [3, 4, 1, 2]],\n",
       " 17: [[3, 4, 1, 2], [3, 4, 1, 2], [3, 4, 1, 2], [3, 4, 1, 2]],\n",
       " 18: [[2, 3, 4, 1], [4, 2, 3, 1], [2, 3, 4, 1], [2, 4, 3, 1]],\n",
       " 19: [[1, 2, 3, 4], [1, 3, 2, 4], [3, 1, 4, 2], [3, 1, 4, 2]],\n",
       " 20: [[3, 1, 4, 2], [3, 1, 4, 2], [3, 1, 4, 2], [3, 1, 4, 2]]}"
      ]
     },
     "execution_count": 9,
     "metadata": {},
     "output_type": "execute_result"
    }
   ],
   "source": [
    "def ranked_to_ranks(alternatives):\n",
    "    rank_alt = enumerate(alternatives)\n",
    "    rank_alt = sorted(rank_alt, key=lambda x: x[1])\n",
    "    ranks = [x[0] for x in rank_alt]\n",
    "    return ranks\n",
    "\n",
    "def get_preferences(df, exclude_id=[]):\n",
    "    participant_ids = sorted(set(df.participant_id))\n",
    "    preferences = {}\n",
    "    for pid in participant_ids:\n",
    "        if pid in exclude_id:\n",
    "            continue\n",
    "        participant_df = df[df.participant_id == pid].sort_values('group_id')\n",
    "        preferences[pid] = []\n",
    "        for i, group_id in enumerate(sorted(set(participant_df.group_id))):\n",
    "            rank1 = list(participant_df.item1_rank)[i]\n",
    "            rank2 = list(participant_df.item2_rank)[i]\n",
    "            rank3 = list(participant_df.item3_rank)[i]\n",
    "            rank4 = list(participant_df.item4_rank)[i]\n",
    "            ranks = [(rank1, 1), (rank2, 2), (rank3, 3), (rank4, 4)]\n",
    "            preference = [x[1] for x in sorted(ranks)]\n",
    "            preferences[pid].append(preference)\n",
    "    return preferences\n",
    "   \n",
    "preferences = get_preferences(df)\n",
    "preferences"
   ]
  },
  {
   "cell_type": "code",
   "execution_count": 10,
   "metadata": {},
   "outputs": [],
   "source": [
    "def get_profile(df, exclude_id=[]):\n",
    "    preferences = get_preferences(df)\n",
    "    num_rounds = len(list(preferences.values())[0])\n",
    "    participants = preferences.keys()\n",
    "    profiles = []\n",
    "    for n in range(num_rounds):\n",
    "        profile = {}\n",
    "        profiles.append(profile)\n",
    "        for p in participants:\n",
    "            pref = preferences[p][n]\n",
    "            try:\n",
    "                profile[tuple(pref)] += 1\n",
    "            except KeyError:\n",
    "                profile[tuple(pref)] = 1\n",
    "    return profiles\n",
    "    \n",
    "profiles = get_profile(df, exclude_id=[1, 4])"
   ]
  },
  {
   "cell_type": "code",
   "execution_count": 43,
   "metadata": {},
   "outputs": [
    {
     "name": "stdout",
     "output_type": "stream",
     "text": [
      "(1, 2, 3, 4)\t2\t\t\t\n",
      "(1, 2, 4, 3)\t\t\t\t1\n",
      "(1, 3, 2, 4)\t\t2\t\t\n",
      "(1, 3, 4, 2)\t\t1\t2\t2\n",
      "(2, 1, 4, 3)\t\t\t1\t1\n",
      "(2, 3, 4, 1)\t1\t\t1\t\n",
      "(2, 4, 1, 3)\t1\t1\t\t\n",
      "(2, 4, 3, 1)\t\t\t\t1\n",
      "(3, 1, 2, 4)\t\t1\t2\t1\n",
      "(3, 1, 4, 2)\t3\t3\t4\t2\n",
      "(3, 2, 1, 4)\t\t\t\t1\n",
      "(3, 2, 4, 1)\t1\t1\t\t\n",
      "(3, 4, 1, 2)\t1\t1\t1\t3\n",
      "(3, 4, 2, 1)\t4\t3\t4\t3\n",
      "(4, 2, 3, 1)\t3\t1\t\t\n",
      "(4, 3, 1, 2)\t\t1\t\t\n",
      "(4, 3, 2, 1)\t\t1\t1\t1\n"
     ]
    }
   ],
   "source": [
    "def print_preference_evolution(df):\n",
    "    alternatives = sorted(set(sum([list(p.keys()) for p in profiles], [])))\n",
    "    counts = []\n",
    "    for alt in alternatives:\n",
    "        line = [repr(alt)]\n",
    "        for round_id in range(4):\n",
    "            line.append(str(profiles[round_id].get(alt, '')))\n",
    "        print('\\t'.join(line))\n",
    "print_preference_evolution(df)"
   ]
  },
  {
   "cell_type": "code",
   "execution_count": 44,
   "metadata": {},
   "outputs": [
    {
     "name": "stdout",
     "output_type": "stream",
     "text": [
      "(1, 2, 3, 4)\t-0.10\t\t\t\n",
      "(1, 2, 4, 3)\t\t\t\t-0.06\n",
      "(1, 3, 2, 4)\t\t-0.01\t\t\n",
      "(1, 3, 4, 2)\t\t+0.02\t+0.05\t+0.03\n",
      "(2, 1, 4, 3)\t\t\t-0.08\t-0.06\n",
      "(2, 3, 4, 1)\t+0.02\t\t-0.01\t\n",
      "(2, 4, 1, 3)\t-0.03\t-0.07\t\t\n",
      "(2, 4, 3, 1)\t\t\t\t-0.04\n",
      "(3, 1, 2, 4)\t\t+0.03\t+0.09\t+0.03\n",
      "(3, 1, 4, 2)\t+0.01\t+0.12\t+0.20\t+0.08\n",
      "(3, 2, 1, 4)\t\t\t\t+0.02\n",
      "(3, 2, 4, 1)\t+0.04\t+0.03\t\t\n",
      "(3, 4, 1, 2)\t+0.03\t+0.06\t+0.06\t+0.12\n",
      "(3, 4, 2, 1)\t+0.13\t+0.11\t+0.14\t+0.09\n",
      "(4, 2, 3, 1)\t+0.01\t-0.02\t\t\n",
      "(4, 3, 1, 2)\t\t+0.03\t\t\n",
      "(4, 3, 2, 1)\t\t+0.02\t+0.01\t+0.01\n"
     ]
    }
   ],
   "source": [
    "def print_spearman_evolution(df):\n",
    "    alternatives = sorted(set(sum([list(p.keys()) for p in profiles], [])))\n",
    "    counts = []\n",
    "    N = sum(profiles[0].values())\n",
    "    for pref_a in alternatives:\n",
    "        line = [repr(pref_a)]\n",
    "        for round_id in range(4):\n",
    "            total = 0\n",
    "            for pref_b in alternatives:\n",
    "                if pref_a == pref_b:\n",
    "                    n = profiles[round_id].get(pref_a, 0) * (profiles[round_id].get(pref_b, 0) - 1) / 2\n",
    "                else:\n",
    "                    n = profiles[round_id].get(pref_a, 0) * profiles[round_id].get(pref_b, 0)\n",
    "                a = ranked_to_ranks(pref_a)\n",
    "                b = ranked_to_ranks(pref_b)\n",
    "                r, p = spstats.spearmanr(a, b)\n",
    "                total += r * n\n",
    "            if total == 0:\n",
    "                line.append('')\n",
    "            else:\n",
    "                line.append('{:+0.2f}'.format(total / (N*(N-1)/2)))\n",
    "        print('\\t'.join(line))\n",
    "print_spearman_evolution(df)"
   ]
  },
  {
   "cell_type": "code",
   "execution_count": 45,
   "metadata": {},
   "outputs": [
    {
     "data": {
      "text/plain": [
       "{2: [[4, 2, 3, 1], [4, 3, 2, 1], [4, 3, 2, 1], [4, 3, 2, 1]],\n",
       " 3: [[3, 4, 2, 1], [1, 3, 2, 4], [1, 3, 4, 2], [1, 3, 4, 2]],\n",
       " 5: [[1, 2, 3, 4], [1, 3, 4, 2], [1, 3, 4, 2], [1, 2, 4, 3]],\n",
       " 6: [[3, 4, 2, 1], [3, 1, 4, 2], [3, 1, 2, 4], [1, 3, 4, 2]],\n",
       " 7: [[3, 4, 2, 1], [3, 4, 2, 1], [3, 4, 2, 1], [3, 4, 2, 1]],\n",
       " 10: [[3, 1, 4, 2], [3, 1, 4, 2], [3, 1, 4, 2], [3, 4, 1, 2]],\n",
       " 11: [[3, 4, 2, 1], [3, 4, 2, 1], [3, 4, 2, 1], [3, 4, 2, 1]],\n",
       " 12: [[2, 4, 1, 3], [2, 4, 1, 3], [2, 1, 4, 3], [2, 1, 4, 3]],\n",
       " 13: [[3, 2, 4, 1], [3, 2, 4, 1], [3, 1, 2, 4], [3, 2, 1, 4]],\n",
       " 14: [[4, 2, 3, 1], [3, 1, 2, 4], [3, 4, 2, 1], [3, 1, 2, 4]],\n",
       " 15: [[4, 2, 3, 1], [3, 4, 2, 1], [3, 4, 2, 1], [3, 4, 2, 1]],\n",
       " 16: [[3, 1, 4, 2], [4, 3, 1, 2], [3, 1, 4, 2], [3, 4, 1, 2]],\n",
       " 17: [[3, 4, 1, 2], [3, 4, 1, 2], [3, 4, 1, 2], [3, 4, 1, 2]],\n",
       " 18: [[2, 3, 4, 1], [4, 2, 3, 1], [2, 3, 4, 1], [2, 4, 3, 1]],\n",
       " 19: [[1, 2, 3, 4], [1, 3, 2, 4], [3, 1, 4, 2], [3, 1, 4, 2]],\n",
       " 20: [[3, 1, 4, 2], [3, 1, 4, 2], [3, 1, 4, 2], [3, 1, 4, 2]]}"
      ]
     },
     "execution_count": 45,
     "metadata": {},
     "output_type": "execute_result"
    }
   ],
   "source": [
    "get_preferences(df)"
   ]
  },
  {
   "cell_type": "code",
   "execution_count": 46,
   "metadata": {},
   "outputs": [
    {
     "name": "stdout",
     "output_type": "stream",
     "text": [
      "2\t+0.02\t+0.03\t+0.02\t+0.02\n",
      "3\t+0.05\t+0.01\t+0.04\t+0.03\n",
      "5\t-0.04\t+0.03\t+0.04\t-0.05\n",
      "6\t+0.05\t+0.06\t+0.06\t+0.03\n",
      "7\t+0.05\t+0.05\t+0.06\t+0.05\n",
      "10\t+0.02\t+0.06\t+0.07\t+0.06\n",
      "11\t+0.05\t+0.05\t+0.06\t+0.05\n",
      "12\t-0.02\t-0.06\t-0.07\t-0.06\n",
      "13\t+0.05\t+0.04\t+0.06\t+0.03\n",
      "14\t+0.02\t+0.04\t+0.06\t+0.04\n",
      "15\t+0.02\t+0.05\t+0.06\t+0.05\n",
      "16\t+0.02\t+0.04\t+0.07\t+0.06\n",
      "17\t+0.04\t+0.06\t+0.07\t+0.06\n",
      "18\t+0.03\t-0.01\t-0.00\t-0.03\n",
      "19\t-0.04\t+0.01\t+0.07\t+0.05\n",
      "20\t+0.02\t+0.06\t+0.07\t+0.05\n"
     ]
    }
   ],
   "source": [
    "def print_participant_spearman_evolution(df):\n",
    "    preferences = get_preferences(df)\n",
    "    profiles = get_profile(df)\n",
    "    participants = sorted(set(df.participant_id))\n",
    "    N = len(participants)\n",
    "    for part in participants:\n",
    "        line = [repr(part)]\n",
    "        for round_id in range(4):\n",
    "            pref_a = preferences[part][round_id]\n",
    "            total = 0\n",
    "            alternatives = profiles[round_id].keys()\n",
    "            for pref_b in alternatives:\n",
    "                n = profiles[round_id].get(pref_b, 0)\n",
    "                if pref_a == pref_b:\n",
    "                    n -= 1\n",
    "                a = ranked_to_ranks(pref_a)\n",
    "                b = ranked_to_ranks(pref_b)\n",
    "                r, p = spstats.spearmanr(a, b)\n",
    "                total += r * n\n",
    "            if total == 0:\n",
    "                line.append('')\n",
    "            else:\n",
    "                line.append('{:+0.2f}'.format(total / (N*(N-1)/2)))\n",
    "        print('\\t'.join(line))\n",
    "print_participant_spearman_evolution(df)"
   ]
  },
  {
   "cell_type": "code",
   "execution_count": 14,
   "metadata": {},
   "outputs": [
    {
     "name": "stdout",
     "output_type": "stream",
     "text": [
      "{3} [{3}, {4}, {1, 2}]\n",
      "{3} [{3}, {1, 4}, {2}]\n",
      "{3} [{3}, {1, 2}, {4}]\n",
      "{3} [{3}, {1}, {2}, {4}]\n"
     ]
    }
   ],
   "source": [
    "def score_majority(profile):\n",
    "    votes = {}\n",
    "    for pref, count in profile.items():\n",
    "        top = pref[0]\n",
    "        try:\n",
    "            votes[top] += count\n",
    "        except KeyError:\n",
    "            votes[top] = count\n",
    "    return votes\n",
    "\n",
    "def social_preference_majority(profile):\n",
    "    score = score_majority(profile)\n",
    "    ordered_scores = sorted(score.items(), reverse=True, key=lambda x: x[1])\n",
    "    social_preference = []\n",
    "    last_score = ordered_scores[0][1]\n",
    "    current_set = set()\n",
    "    for alternative, score in ordered_scores:\n",
    "        # If the score has changed, create a new set of alternatives\n",
    "        if score == last_score:\n",
    "            current_set.add(alternative)\n",
    "        else:\n",
    "            social_preference.append(current_set)\n",
    "            current_set = set([alternative])\n",
    "        last_score = score\n",
    "    social_preference.append(current_set)\n",
    "    return social_preference\n",
    "\n",
    "def social_choice_majority(profile):\n",
    "    social_preference = social_preference_majority(profile)\n",
    "    return social_preference[0]\n",
    "\n",
    "for p in profiles:\n",
    "    print(social_choice_majority(p), social_preference_majority(p))"
   ]
  },
  {
   "cell_type": "code",
   "execution_count": 19,
   "metadata": {},
   "outputs": [
    {
     "name": "stdout",
     "output_type": "stream",
     "text": [
      "{3} [{3}, {4}, {2}, {1}]\n",
      "{3} [{3}, {4}, {1}, {2}]\n",
      "{3} [{3}, {1, 4}, {2}]\n",
      "{3} [{3}, {4}, {1}, {2}]\n"
     ]
    }
   ],
   "source": [
    "def borda_count(profile):\n",
    "    borda = {}\n",
    "    for pref, count in profile.items():\n",
    "        for i, alternative in enumerate(reversed(pref)):\n",
    "            try:\n",
    "                borda[alternative] += i * count\n",
    "            except KeyError:\n",
    "                borda[alternative] = i * count\n",
    "    return borda\n",
    "\n",
    "def social_preference_borda(profile):\n",
    "    borda = borda_count(profile)\n",
    "    ordered_scores = sorted(borda.items(), key=lambda x: x[1], reverse=True)\n",
    "    social_preference = []\n",
    "    last_score = ordered_scores[0][1]\n",
    "    current_set = set()\n",
    "    for alternative, score in ordered_scores:\n",
    "        # If the score has changed, create a new set of alternatives\n",
    "        if score == last_score:\n",
    "            current_set.add(alternative)\n",
    "        else:\n",
    "            social_preference.append(current_set)\n",
    "            current_set = set([alternative])\n",
    "        last_score = score\n",
    "    social_preference.append(current_set)\n",
    "    return social_preference\n",
    "\n",
    "def social_choice_borda(profile):\n",
    "    return social_preference_borda(profile)[0]\n",
    "\n",
    "for profile in profiles:\n",
    "    print(social_choice_borda(profile), social_preference_borda(profile))"
   ]
  },
  {
   "cell_type": "code",
   "execution_count": 20,
   "metadata": {},
   "outputs": [
    {
     "name": "stdout",
     "output_type": "stream",
     "text": [
      "[{3}, {4}, {2}, {1}]\n",
      "[{3}, {4}, {1}, {2}]\n",
      "[{3}, {1}, {4}, {2}]\n",
      "[{3}, {4}, {1}, {2}]\n"
     ]
    }
   ],
   "source": [
    "import itertools\n",
    "def score_tideman(profile):\n",
    "    alternatives = set(sum([list(pref) for pref in profile.keys()], []))\n",
    "    pairs = set(itertools.product(alternatives, alternatives))\n",
    "    for alt in alternatives:\n",
    "        pairs.remove((alt, alt))\n",
    "    margins = dict((contest, 0) for contest in pairs)\n",
    "    for pref, count in profile.items():\n",
    "        for win in range(len(pref)):\n",
    "            for lose in range(win + 1, len(pref)):\n",
    "                margins[(pref[win], pref[lose])] += count\n",
    "    return margins\n",
    "        \n",
    "\n",
    "import networkx as nx\n",
    "def tideman_graph(profile):\n",
    "    margins = score_tideman(profile)\n",
    "    ordered_margins = sorted(margins.items(), key=lambda x: x[1], reverse=True)\n",
    "    G = nx.DiGraph()\n",
    "    counted = 0\n",
    "    skipped = 0\n",
    "    for contest, margin in ordered_margins:\n",
    "        s, t = contest\n",
    "        try:\n",
    "            if nx.has_path(G, t, s):\n",
    "                # Skip contest, would create cycle\n",
    "                skipped += margin\n",
    "                continue\n",
    "        except nx.NodeNotFound:\n",
    "            pass\n",
    "        # Add node to graph\n",
    "        G.add_edge(s, t)\n",
    "        counted += margin\n",
    "    return G, counted, skipped\n",
    "\n",
    "def social_preference_tideman(profile):\n",
    "    G, counted, skipped = tideman_graph(profile)\n",
    "    root = next(nx.topological_sort(G))\n",
    "    social_preference = []\n",
    "    done = set()\n",
    "    shell = set([root])\n",
    "    while len(shell) > 0:\n",
    "        next_shell = set()\n",
    "        # Remove alternatives ranked lower than others in shell\n",
    "        for s in list(shell):\n",
    "            for t in list(shell):\n",
    "                if G.has_edge(s, t):\n",
    "                    shell.remove(t)\n",
    "        # Update list of completed alternatives\n",
    "        done = done | shell\n",
    "        # Build next shell\n",
    "        for s in shell:\n",
    "            next_shell = (next_shell | set(G.successors(s))) - done\n",
    "        # Add current shell to preference\n",
    "        social_preference.append(shell)\n",
    "        shell = next_shell\n",
    "    return social_preference\n",
    "\n",
    "def social_choice_tideman(profile):\n",
    "    return social_preference_tideman(profile)[0]\n",
    "\n",
    "def concurrence_tideman(profile):\n",
    "    G, counted, skipped = tideman_graph(profile)\n",
    "    return counted / (counted + skipped)\n",
    "\n",
    "for p in profiles:\n",
    "    print(social_preference_tideman(p))"
   ]
  },
  {
   "cell_type": "markdown",
   "metadata": {},
   "source": [
    "## Group-level"
   ]
  },
  {
   "cell_type": "code",
   "execution_count": 11,
   "metadata": {},
   "outputs": [],
   "source": [
    "groups = sorted(set(df.group_id) - set([100.0]))\n",
    "group_profile = {}\n",
    "\n",
    "for g in groups:\n",
    "    dfg = df[df.group_id == g]\n",
    "    group_profile[g] = get_profile(dfg, exclude_id=[1, 4])"
   ]
  },
  {
   "cell_type": "code",
   "execution_count": 22,
   "metadata": {},
   "outputs": [
    {
     "data": {
      "text/plain": [
       "{13.0: [{3}],\n",
       " 14.0: [{1, 3, 4}],\n",
       " 15.0: [{3}],\n",
       " 16.0: [{3}],\n",
       " 17.0: [{4}],\n",
       " 18.0: [{3}],\n",
       " 19.0: [{3}],\n",
       " 20.0: [{3}],\n",
       " 21.0: [{1, 3}],\n",
       " 22.0: [{3}],\n",
       " 23.0: [{3}],\n",
       " 24.0: [{3}]}"
      ]
     },
     "execution_count": 22,
     "metadata": {},
     "output_type": "execute_result"
    }
   ],
   "source": [
    "group_majority = {}\n",
    "for g in groups:\n",
    "    group_majority[g] = [\n",
    "        social_choice_majority(p) for p in group_profile[g]]\n",
    "group_majority"
   ]
  },
  {
   "cell_type": "code",
   "execution_count": 23,
   "metadata": {},
   "outputs": [
    {
     "data": {
      "text/plain": [
       "{13.0: [{3}],\n",
       " 14.0: [{2, 3, 4}],\n",
       " 15.0: [{3}],\n",
       " 16.0: [{3}],\n",
       " 17.0: [{3}],\n",
       " 18.0: [{3}],\n",
       " 19.0: [{3}],\n",
       " 20.0: [{3}],\n",
       " 21.0: [{3}],\n",
       " 22.0: [{3}],\n",
       " 23.0: [{3}],\n",
       " 24.0: [{3}]}"
      ]
     },
     "execution_count": 23,
     "metadata": {},
     "output_type": "execute_result"
    }
   ],
   "source": [
    "group_borda = {}\n",
    "for g in groups:\n",
    "    group_borda[g] = [\n",
    "        social_choice_borda(p) for p in group_profile[g]]\n",
    "group_borda"
   ]
  },
  {
   "cell_type": "code",
   "execution_count": 24,
   "metadata": {},
   "outputs": [
    {
     "data": {
      "text/plain": [
       "{13.0: [{3}],\n",
       " 14.0: [{4}],\n",
       " 15.0: [{3}],\n",
       " 16.0: [{3}],\n",
       " 17.0: [{4}],\n",
       " 18.0: [{3}],\n",
       " 19.0: [{3}],\n",
       " 20.0: [{3}],\n",
       " 21.0: [{1}],\n",
       " 22.0: [{3}],\n",
       " 23.0: [{3}],\n",
       " 24.0: [{3}]}"
      ]
     },
     "execution_count": 24,
     "metadata": {},
     "output_type": "execute_result"
    }
   ],
   "source": [
    "group_tideman = {}\n",
    "for g in groups:\n",
    "    group_tideman[g] = [\n",
    "        social_choice_tideman(p) for p in group_profile[g]]\n",
    "group_tideman"
   ]
  },
  {
   "cell_type": "markdown",
   "metadata": {},
   "source": [
    "## Concurrence"
   ]
  },
  {
   "cell_type": "code",
   "execution_count": 50,
   "metadata": {},
   "outputs": [],
   "source": [
    "def sample_to_profile(sample):\n",
    "    profile = dict()\n",
    "    # Walk through sorted list of samples\n",
    "    # Walks through once total, faster than using count() many times\n",
    "    ordered_sample = sorted(sample)\n",
    "    current_alt = ordered_sample[0]\n",
    "    current_count = 0\n",
    "    for x in ordered_sample:\n",
    "        if x != current_alt:\n",
    "            profile[current_alt] = current_count\n",
    "            current_count = 1\n",
    "            current_alt = x\n",
    "        else:\n",
    "            current_count += 1\n",
    "    profile[current_alt] = current_count\n",
    "    return profile"
   ]
  },
  {
   "cell_type": "code",
   "execution_count": 51,
   "metadata": {},
   "outputs": [],
   "source": [
    "def bootstrap_profile(profile):\n",
    "    population = sum([[alt] * i for alt, i in profile.items()], [])\n",
    "    k = len(population)\n",
    "    sample = [\n",
    "        population[random.randint(0, k - 1)]\n",
    "        for i in range(k)]\n",
    "    profile = sample_to_profile(sample)\n",
    "    return profile"
   ]
  },
  {
   "cell_type": "code",
   "execution_count": 52,
   "metadata": {},
   "outputs": [],
   "source": [
    "def concurrence_spearman(profile):\n",
    "    total = 0\n",
    "    count = 0\n",
    "    for pref_a, count_a in profile.items():\n",
    "        for pref_b, count_b in profile.items():\n",
    "            if repr(pref_a) == repr(pref_b):\n",
    "                continue\n",
    "            a = ranked_to_ranks(pref_a)\n",
    "            b = ranked_to_ranks(pref_b)\n",
    "            r, p = spstats.spearmanr(a, b)\n",
    "            total += count_a * count_b * r\n",
    "            count += count_a * count_b\n",
    "    return total / count\n",
    "\n",
    "def concurrence_bootstrap(profile, f, N=1000, sigma=1.0):\n",
    "    estimates = [\n",
    "        f(bootstrap_profile(profile))\n",
    "        for n in range(N)]\n",
    "    error = np.std(estimates)\n",
    "    return sigma * error\n",
    "\n",
    "def concurrence_kendall(profile):\n",
    "    total = 0\n",
    "    count = 0\n",
    "    for pref_a, count_a in profile.items():\n",
    "        for pref_b, count_b in profile.items():\n",
    "            if repr(pref_a) == repr(pref_b):\n",
    "                continue\n",
    "            a = ranked_to_ranks(pref_a)\n",
    "            b = ranked_to_ranks(pref_b)\n",
    "            tau, p = spstats.kendalltau(a, b)\n",
    "            total += count_a * count_b * tau\n",
    "            count += count_a * count_b\n",
    "    return total / count\n",
    "\n",
    "\n",
    "            "
   ]
  },
  {
   "cell_type": "code",
   "execution_count": 53,
   "metadata": {},
   "outputs": [
    {
     "name": "stdout",
     "output_type": "stream",
     "text": [
      "-0.0019 +/- 0.1388\n",
      "0.1434 +/- 0.1260\n",
      "0.1962 +/- 0.1445\n",
      "0.0893 +/- 0.1490\n"
     ]
    }
   ],
   "source": [
    "spearman = []\n",
    "for p in profiles:\n",
    "    c = concurrence_spearman(p)\n",
    "    c_err = concurrence_bootstrap(p, concurrence_spearman, N=1000)\n",
    "    spearman.append(c)\n",
    "    print('{:0.4f} +/- {:0.4f}'.format(c, c_err))"
   ]
  },
  {
   "cell_type": "code",
   "execution_count": 35,
   "metadata": {},
   "outputs": [
    {
     "name": "stdout",
     "output_type": "stream",
     "text": [
      "0.0031 +/- 0.1116\n",
      "0.1003 +/- 0.1097\n",
      "0.1541 +/- 0.1234\n",
      "0.0565 +/- 0.1208\n"
     ]
    }
   ],
   "source": [
    "kendall = []\n",
    "for p in profiles:\n",
    "    c = concurrence_kendall(p)\n",
    "    c_err = concurrence_bootstrap(p, concurrence_kendall, N=1000)\n",
    "    kendall.append(c)\n",
    "    print('{:0.4f} +/- {:0.4f}'.format(c, c_err))"
   ]
  },
  {
   "cell_type": "code",
   "execution_count": 36,
   "metadata": {},
   "outputs": [
    {
     "name": "stdout",
     "output_type": "stream",
     "text": [
      "0.6875 +/- 0.0558\n",
      "0.6979 +/- 0.0483\n",
      "0.7396 +/- 0.0499\n",
      "0.6771 +/- 0.0570\n"
     ]
    }
   ],
   "source": [
    "tideman = []\n",
    "for p in profiles:\n",
    "    c = concurrence_tideman(p)\n",
    "    c_err = concurrence_bootstrap(p, concurrence_tideman, N=1000)\n",
    "    tideman.append(c)\n",
    "    print('{:0.4f} +/- {:0.4f}'.format(c, c_err))\n"
   ]
  },
  {
   "cell_type": "code",
   "execution_count": 15,
   "metadata": {},
   "outputs": [
    {
     "data": {
      "text/plain": [
       "<matplotlib.legend.Legend at 0x115f81668>"
      ]
     },
     "execution_count": 15,
     "metadata": {},
     "output_type": "execute_result"
    },
    {
     "data": {
      "image/png": "[encoded data removed]",
      "text/plain": [
       "<matplotlib.figure.Figure at 0x115ee32b0>"
      ]
     },
     "metadata": {},
     "output_type": "display_data"
    }
   ],
   "source": [
    "plt.plot(spearman, label='Spearman')\n",
    "plt.plot(kendall, label='Kendall')\n",
    "plt.plot(tideman, label='Tideman')\n",
    "plt.legend()"
   ]
  },
  {
   "cell_type": "markdown",
   "metadata": {},
   "source": [
    "## Group Level Analysis"
   ]
  },
  {
   "cell_type": "code",
   "execution_count": 20,
   "metadata": {},
   "outputs": [],
   "source": [
    "groups = [\n",
    "    [13, 14, 15, 16],\n",
    "    [17, 18, 19, 20],\n",
    "    [21, 22, 23, 24]\n",
    "]"
   ]
  },
  {
   "cell_type": "code",
   "execution_count": 79,
   "metadata": {},
   "outputs": [],
   "source": [
    "df['round_id'] = 0\n",
    "df.loc[df.group_id == 100.0, 'round_id'] = 3\n",
    "df.loc[df.group_id < 99, 'round_id'] = 2\n",
    "df.loc[df.group_id < 21, 'round_id'] = 1\n",
    "df.loc[df.group_id < 17, 'round_id'] = 0"
   ]
  },
  {
   "cell_type": "code",
   "execution_count": 87,
   "metadata": {},
   "outputs": [],
   "source": [
    "def get_group_profiles(df, group_id):\n",
    "    # Construct data frame for group\n",
    "    df_group = df[df.group_id == group_id]\n",
    "    participant_ids = set(df_group.participant_id)\n",
    "    round_id = list(df_group.round_id)[0]\n",
    "    next_round_id = round_id + 1\n",
    "    df_next = df[\n",
    "        df.participant_id.isin(participant_ids)\n",
    "        & (df.round_id == next_round_id)]\n",
    "    \n",
    "    profile = {}\n",
    "    for pid in participant_ids:\n",
    "        participant_df = df_group[df_group.participant_id == pid]\n",
    "        rank1 = list(participant_df.item1_rank)[0]\n",
    "        rank2 = list(participant_df.item2_rank)[0]\n",
    "        rank3 = list(participant_df.item3_rank)[0]\n",
    "        rank4 = list(participant_df.item4_rank)[0]\n",
    "        ranks = [(rank1, 1), (rank2, 2), (rank3, 3), (rank4, 4)]\n",
    "        preference = tuple([x[1] for x in sorted(ranks)])\n",
    "        try:\n",
    "            profile[preference] += 1\n",
    "        except KeyError:\n",
    "            profile[preference] = 1\n",
    "    \n",
    "    next_profile = {}\n",
    "    for pid in participant_ids:\n",
    "        participant_df = df_next[df_next.participant_id == pid]\n",
    "        rank1 = list(participant_df.item1_rank)[0]\n",
    "        rank2 = list(participant_df.item2_rank)[0]\n",
    "        rank3 = list(participant_df.item3_rank)[0]\n",
    "        rank4 = list(participant_df.item4_rank)[0]\n",
    "        ranks = [(rank1, 1), (rank2, 2), (rank3, 3), (rank4, 4)]\n",
    "        preference = tuple([x[1] for x in sorted(ranks)])\n",
    "        try:\n",
    "            next_profile[preference] += 1\n",
    "        except KeyError:\n",
    "            next_profile[preference] = 1\n",
    "    return (profile, next_profile)\n"
   ]
  },
  {
   "cell_type": "code",
   "execution_count": 91,
   "metadata": {},
   "outputs": [
    {
     "name": "stdout",
     "output_type": "stream",
     "text": [
      "Round\tGroup\tC\tC_next\tChange\n",
      "0 \t 13 \t +0.10\t+0.04\t-0.06\n",
      "0 \t 14 \t -0.40\t+0.73\t+1.13\n",
      "0 \t 15 \t +0.30\t+0.64\t+0.34\n",
      "0 \t 16 \t -0.23\t+0.10\t+0.33\n",
      "1 \t 17 \t -0.10\t-0.40\t-0.30\n",
      "1 \t 18 \t +0.67\t+0.67\t+0.00\n",
      "1 \t 19 \t -0.14\t-0.16\t-0.02\n",
      "1 \t 20 \t +0.48\t+0.20\t-0.28\n",
      "2 \t 21 \t +0.20\t-0.20\t-0.40\n",
      "2 \t 22 \t +0.60\t+0.60\t+0.00\n",
      "2 \t 23 \t +0.20\t+0.20\t+0.00\n",
      "2 \t 24 \t -0.44\t-0.17\t+0.27\n"
     ]
    }
   ],
   "source": [
    "print(\"Round\\tGroup\\tC\\tC_next\\tChange\")\n",
    "for round_id, round_groups in enumerate(groups):\n",
    "    for g in round_groups:\n",
    "        profile, next_profile = get_group_profiles(df, g)\n",
    "        c = concurrence_spearman(profile)\n",
    "        c_next = concurrence_spearman(next_profile)\n",
    "        print(round_id, '\\t', g, '\\t', '{:+0.2f}\\t{:+0.2f}\\t{:+0.2f}'.format(c, c_next, c_next - c))"
   ]
  },
  {
   "cell_type": "code",
   "execution_count": 81,
   "metadata": {},
   "outputs": [],
   "source": [
    "df_group = df[df.group_id == 21]\n",
    "participant_ids = set(df_group.participant_id)\n",
    "round_id = list(df_group.round_id)[0]\n",
    "next_round_id = round_id + 1\n",
    "df_next = df[\n",
    "    df.participant_id.isin(participant_ids)\n",
    "    & (df.round_id == next_round_id)]\n"
   ]
  },
  {
   "cell_type": "code",
   "execution_count": 128,
   "metadata": {},
   "outputs": [
    {
     "data": {
      "text/html": [
       "<div>\n",
       "<style scoped>\n",
       "    .dataframe tbody tr th:only-of-type {\n",
       "        vertical-align: middle;\n",
       "    }\n",
       "\n",
       "    .dataframe tbody tr th {\n",
       "        vertical-align: top;\n",
       "    }\n",
       "\n",
       "    .dataframe thead th {\n",
       "        text-align: right;\n",
       "    }\n",
       "</style>\n",
       "<table border=\"1\" class=\"dataframe\">\n",
       "  <thead>\n",
       "    <tr style=\"text-align: right;\">\n",
       "      <th></th>\n",
       "      <th>IPAddress</th>\n",
       "      <th>participant_id</th>\n",
       "      <th>group_id</th>\n",
       "      <th>session_code</th>\n",
       "      <th>item1_rank</th>\n",
       "      <th>item2_rank</th>\n",
       "      <th>item3_rank</th>\n",
       "      <th>item4_rank</th>\n",
       "      <th>round</th>\n",
       "      <th>round_id</th>\n",
       "    </tr>\n",
       "  </thead>\n",
       "  <tbody>\n",
       "    <tr>\n",
       "      <th>8</th>\n",
       "      <td>141.211.133.180</td>\n",
       "      <td>5</td>\n",
       "      <td>14.0</td>\n",
       "      <td>k7t2tuxk</td>\n",
       "      <td>1</td>\n",
       "      <td>2</td>\n",
       "      <td>3</td>\n",
       "      <td>4</td>\n",
       "      <td>0.0</td>\n",
       "      <td>0</td>\n",
       "    </tr>\n",
       "    <tr>\n",
       "      <th>2</th>\n",
       "      <td>141.211.133.180</td>\n",
       "      <td>5</td>\n",
       "      <td>18.0</td>\n",
       "      <td>k7t2tuxk</td>\n",
       "      <td>1</td>\n",
       "      <td>4</td>\n",
       "      <td>2</td>\n",
       "      <td>3</td>\n",
       "      <td>1.0</td>\n",
       "      <td>1</td>\n",
       "    </tr>\n",
       "    <tr>\n",
       "      <th>7</th>\n",
       "      <td>141.211.133.180</td>\n",
       "      <td>5</td>\n",
       "      <td>21.0</td>\n",
       "      <td>k7t2tuxk</td>\n",
       "      <td>1</td>\n",
       "      <td>4</td>\n",
       "      <td>2</td>\n",
       "      <td>3</td>\n",
       "      <td>2.0</td>\n",
       "      <td>2</td>\n",
       "    </tr>\n",
       "    <tr>\n",
       "      <th>8</th>\n",
       "      <td>141.211.133.180</td>\n",
       "      <td>5</td>\n",
       "      <td>100.0</td>\n",
       "      <td>NaN</td>\n",
       "      <td>1</td>\n",
       "      <td>2</td>\n",
       "      <td>4</td>\n",
       "      <td>3</td>\n",
       "      <td>2.0</td>\n",
       "      <td>3</td>\n",
       "    </tr>\n",
       "  </tbody>\n",
       "</table>\n",
       "</div>"
      ],
      "text/plain": [
       "         IPAddress  participant_id  group_id session_code item1_rank  \\\n",
       "8  141.211.133.180               5      14.0     k7t2tuxk          1   \n",
       "2  141.211.133.180               5      18.0     k7t2tuxk          1   \n",
       "7  141.211.133.180               5      21.0     k7t2tuxk          1   \n",
       "8  141.211.133.180               5     100.0          NaN          1   \n",
       "\n",
       "  item2_rank item3_rank item4_rank  round  round_id  \n",
       "8          2          3          4    0.0         0  \n",
       "2          4          2          3    1.0         1  \n",
       "7          4          2          3    2.0         2  \n",
       "8          2          4          3    2.0         3  "
      ]
     },
     "execution_count": 128,
     "metadata": {},
     "output_type": "execute_result"
    }
   ],
   "source": [
    "df[df.participant_id == 5]"
   ]
  },
  {
   "cell_type": "code",
   "execution_count": 74,
   "metadata": {},
   "outputs": [
    {
     "data": {
      "text/html": [
       "<div>\n",
       "<style scoped>\n",
       "    .dataframe tbody tr th:only-of-type {\n",
       "        vertical-align: middle;\n",
       "    }\n",
       "\n",
       "    .dataframe tbody tr th {\n",
       "        vertical-align: top;\n",
       "    }\n",
       "\n",
       "    .dataframe thead th {\n",
       "        text-align: right;\n",
       "    }\n",
       "</style>\n",
       "<table border=\"1\" class=\"dataframe\">\n",
       "  <thead>\n",
       "    <tr style=\"text-align: right;\">\n",
       "      <th></th>\n",
       "      <th>IPAddress</th>\n",
       "      <th>participant_id</th>\n",
       "      <th>group_id</th>\n",
       "      <th>session_code</th>\n",
       "      <th>item1_rank</th>\n",
       "      <th>item2_rank</th>\n",
       "      <th>item3_rank</th>\n",
       "      <th>item4_rank</th>\n",
       "      <th>round</th>\n",
       "      <th>round_id</th>\n",
       "    </tr>\n",
       "  </thead>\n",
       "  <tbody>\n",
       "  </tbody>\n",
       "</table>\n",
       "</div>"
      ],
      "text/plain": [
       "Empty DataFrame\n",
       "Columns: [IPAddress, participant_id, group_id, session_code, item1_rank, item2_rank, item3_rank, item4_rank, round, round_id]\n",
       "Index: []"
      ]
     },
     "execution_count": 74,
     "metadata": {},
     "output_type": "execute_result"
    }
   ],
   "source": [
    "df_next"
   ]
  },
  {
   "cell_type": "code",
   "execution_count": null,
   "metadata": {},
   "outputs": [],
   "source": []
  }
 ],
 "metadata": {
  "kernelspec": {
   "display_name": "Python 3",
   "language": "python",
   "name": "python3"
  },
  "language_info": {
   "codemirror_mode": {
    "name": "ipython",
    "version": 3
   },
   "file_extension": ".py",
   "mimetype": "text/x-python",
   "name": "python",
   "nbconvert_exporter": "python",
   "pygments_lexer": "ipython3",
   "version": "3.6.2"
  }
 },
 "nbformat": 4,
 "nbformat_minor": 2
}
