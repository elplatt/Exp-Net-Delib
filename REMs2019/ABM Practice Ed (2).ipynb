{
 "cells": [
  {
   "cell_type": "markdown",
   "metadata": {},
   "source": [
    "# Simulating Networks"
   ]
  },
  {
   "cell_type": "code",
   "execution_count": 1,
   "metadata": {},
   "outputs": [],
   "source": [
    "# Configure plotting in Jupyter\n",
    "from matplotlib import pyplot as plt\n",
    "%matplotlib inline\n",
    "plt.rcParams.update({\n",
    "    'figure.figsize': (7.5, 7.5),\n",
    "    'axes.spines.right': False,\n",
    "    'axes.spines.left': False,\n",
    "    'axes.spines.top': False,\n",
    "    'axes.spines.bottom': False})\n",
    "# Seed random number generator\n",
    "import random\n",
    "from numpy import random as nprand\n",
    "# Import NetworkX\n",
    "import networkx as nx\n",
    "import numpy as np"
   ]
  },
  {
   "cell_type": "code",
   "execution_count": 2,
   "metadata": {},
   "outputs": [],
   "source": [
    "#to handle stats error in learning step\n",
    "from statistics import mode\n",
    "from statistics import StatisticsError"
   ]
  },
  {
   "cell_type": "markdown",
   "metadata": {},
   "source": [
    "## Agent-Based Models"
   ]
  },
  {
   "cell_type": "code",
   "execution_count": 3,
   "metadata": {},
   "outputs": [],
   "source": [
    "G_karate = nx.karate_club_graph()"
   ]
  },
  {
   "cell_type": "code",
   "execution_count": 4,
   "metadata": {},
   "outputs": [],
   "source": [
    "def initial_beliefs(G, true_value=0, std=0.30):\n",
    "    #keys = G.nodes()\n",
    "    beliefs = {}\n",
    "    #what is the list\n",
    "    for v in G.nodes():\n",
    "        val = np.random.uniform(low=0, high=1, size = 1)\n",
    "        if val <= .3:\n",
    "            beliefs[v] = 0\n",
    "        else:\n",
    "            beliefs[v] =1\n",
    "    #print(beliefs)\n",
    "    return beliefs"
   ]
  },
  {
   "cell_type": "code",
   "execution_count": 5,
   "metadata": {},
   "outputs": [],
   "source": [
    "#initial_beliefs(G_karate)"
   ]
  },
  {
   "cell_type": "code",
   "execution_count": 6,
   "metadata": {},
   "outputs": [],
   "source": [
    "def find_neighbor_mode(G, v, beliefs):\n",
    "    '''Find the most common belief of node v's neighbors.\n",
    "    \n",
    "    # Params\n",
    "    G: a Graph\n",
    "    v: a node in G\n",
    "    beliefs: a dict mapping nodes of G to 1 or 0\n",
    "    \n",
    "    # Return value\n",
    "    The most common belief among v and its neighbors or beliefs[v] if there is a tie.\n",
    "    '''\n",
    "    neighbors_values = [] # list to keep values of neighbors\n",
    "    for w in G.neighbors(v):\n",
    "        neighbors_values.append(beliefs[w])        \n",
    "    try:\n",
    "        popular_val = mode(neighbors_values)\n",
    "    except StatisticsError: \n",
    "        popular_val = beliefs[v]\n",
    "    return popular_val"
   ]
  },
  {
   "cell_type": "code",
   "execution_count": 7,
   "metadata": {},
   "outputs": [],
   "source": [
    "#find_neighbor_mode(G_karate, v, beliefs)"
   ]
  },
  {
   "cell_type": "code",
   "execution_count": 15,
   "metadata": {},
   "outputs": [],
   "source": [
    "#Update each v value. Take the most common value among neighbors \n",
    "def learning_step(G, beliefs):\n",
    "    '''decleare an empty dict to hold the new belief values'''\n",
    "    new_beliefs = {}\n",
    "    for v in G.nodes():\n",
    "        #call function \n",
    "        new_beliefs[v] = find_neighbor_mode(G, v, beliefs)\n",
    "    return new_beliefs"
   ]
  },
  {
   "cell_type": "code",
   "execution_count": 17,
   "metadata": {},
   "outputs": [],
   "source": [
    "#learning_step(G_karate, initial_beliefs(G_karate))"
   ]
  },
  {
   "cell_type": "code",
   "execution_count": 18,
   "metadata": {},
   "outputs": [],
   "source": [
    "#initial_beliefs(G_karate)"
   ]
  },
  {
   "cell_type": "code",
   "execution_count": null,
   "metadata": {},
   "outputs": [],
   "source": [
    "def plot_beliefs(G, ini_beliefs, true_value=0, steps=10):\n",
    "    \n",
    "    current_beliefs = dict(ini_beliefs) # variable in the argument\n",
    "    beliefs = [current_beliefs]  \n",
    "    #we will just plot the values. below the values are in a list\n",
    "    x = dict((v, list()) for v in G.nodes())\n",
    "    y = []\n",
    "    #update the belief after each step\n",
    "    for i in range(steps + 1):\n",
    "        # 2. Set y[i] here by avereraging over current_belief values \n",
    "        list_values = [v for v in current_beliefs.values()]\n",
    "        print(current_beliefs)\n",
    "        y.append(sum(list_values) / len(list_values))\n",
    "        for v in G.nodes():\n",
    "            x[v].append(i) #add each step\n",
    "        if i < steps:\n",
    "            current_beliefs = learning_step(G, current_beliefs)\n",
    "            beliefs.append(current_beliefs)\n",
    "    #plot the change of belief over time\n",
    "    plt.plot(y, 'y-', alpha=0.4, linewidth=2)\n",
    "    print (y)\n",
    "    #add spines to plot\n",
    "    ax = plt.gca()\n",
    "    for spine in ax.spines.values():\n",
    "        spine.set_visible(True)\n",
    "    plt.xlim([0, steps]) \n",
    "    plt.ylim([0, 1])"
   ]
  },
  {
   "cell_type": "code",
   "execution_count": null,
   "metadata": {},
   "outputs": [],
   "source": [
    "#in enumerate keep a count of iterations\n",
    "plt.subplot(1, 1, 1)\n",
    "plt.title(\"Karate club\")\n",
    "beliefs = initial_beliefs(G_karate)\n",
    "plot_beliefs(G_karate, beliefs, 1)\n",
    "plt.tight_layout()"
   ]
  },
  {
   "cell_type": "code",
   "execution_count": null,
   "metadata": {},
   "outputs": [],
   "source": [
    "#in enumerate keep a count of iterations\n",
    "plt.subplot(1, 1, 1)\n",
    "plt.title(\"SW\")\n",
    "G_SW = nx.watts_strogatz_graph(1000, 4, 0.001)\n",
    "beliefs = initial_beliefs(G_SW)\n",
    "plot_beliefs(G_SW, beliefs, steps = 20)\n",
    "plt.tight_layout()"
   ]
  },
  {
   "cell_type": "code",
   "execution_count": null,
   "metadata": {},
   "outputs": [],
   "source": [
    "G = nx.Graph()\n",
    "## Make graph \n",
    "G.add_edge('A', 'B')\n",
    "G.add_edges_from([('B','C'),('C','D'),('D','E'),\n",
    "                  ('E','F'),('F','G'),('G','A'),\n",
    "                  ('A','C'),('A','F'),('B','G'),('B','D'),\n",
    "                  ('C','E'),('D','F'),('E','G')])\n",
    "beliefs = {}\n",
    "beliefs['A'] = 0\n",
    "beliefs['B'] = 1\n",
    "beliefs['C'] = 1 \n",
    "beliefs['D'] = 0\n",
    "beliefs['E'] = 1\n",
    "beliefs['F'] = 0\n",
    "beliefs['G'] = 1\n",
    "\n",
    "plot_beliefs(G, beliefs, steps = 10)\n",
    "\n",
    "plt.figure(figsize=(7.5, 7.5))\n",
    "nx.draw_networkx(G)\n"
   ]
  },
  {
   "cell_type": "code",
   "execution_count": null,
   "metadata": {},
   "outputs": [],
   "source": []
  },
  {
   "cell_type": "code",
   "execution_count": null,
   "metadata": {},
   "outputs": [],
   "source": []
  },
  {
   "cell_type": "code",
   "execution_count": null,
   "metadata": {},
   "outputs": [],
   "source": []
  }
 ],
 "metadata": {
  "kernelspec": {
   "display_name": "Python 3",
   "language": "python",
   "name": "python3"
  },
  "language_info": {
   "codemirror_mode": {
    "name": "ipython",
    "version": 3
   },
   "file_extension": ".py",
   "mimetype": "text/x-python",
   "name": "python",
   "nbconvert_exporter": "python",
   "pygments_lexer": "ipython3",
   "version": "3.6.5"
  }
 },
 "nbformat": 4,
 "nbformat_minor": 2
}
