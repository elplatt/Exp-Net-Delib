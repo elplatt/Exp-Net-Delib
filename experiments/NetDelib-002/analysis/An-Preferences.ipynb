{
 "cells": [
  {
   "cell_type": "code",
   "execution_count": null,
   "metadata": {},
   "outputs": [],
   "source": [
    "import math\n",
    "import matplotlib\n",
    "from matplotlib import pyplot as plt\n",
    "import numpy as np\n",
    "import numpy.random as nprand\n",
    "import pandas as pd\n",
    "import random\n",
    "import repsci\n",
    "import scipy.stats as spstats\n",
    "%matplotlib inline\n",
    "\n",
    "from loomio import *\n",
    "from socialchoice import *\n",
    "from netdelib import *\n",
    "\n",
    "matplotlib.rcParams['font.size'] = 9\n",
    "matplotlib.rcParams['figure.dpi'] = 150\n",
    "matplotlib.rcParams['lines.markersize'] = 9"
   ]
  },
  {
   "cell_type": "code",
   "execution_count": null,
   "metadata": {},
   "outputs": [],
   "source": [
    "exp = repsci.Experiment(\"preferences\")"
   ]
  },
  {
   "cell_type": "code",
   "execution_count": null,
   "metadata": {},
   "outputs": [],
   "source": [
    "df_score, proposal_map, proposal_rev_map = load_loomio_score('results/results_2_3.tsv')\n",
    "stage_profiles = [\n",
    "    Profile.from_score(df_score[df_score.stage == stage])\n",
    "    for stage in sorted(set(df_score.stage))]\n",
    "\n",
    "Methods = [Condorcet, Majority, Borda, Tideman]\n",
    "header = '\\t'.join(['stage'] + [M.__name__ for M in Methods])\n",
    "print(header)\n",
    "rows=[]\n",
    "for stage, profile in enumerate(stage_profiles):\n",
    "    winners = [\"/\".join(sorted(M(profile).social_choice())) for M in Methods]\n",
    "    row = '\\t'.join([str(stage)] + winners)\n",
    "    rows.append(row)\n",
    "    print(row)\n",
    "    \n",
    "with open(exp.get_filename('results-combined.tsv'), 'w') as f:\n",
    "    f.write('\\n'.join([header] + rows))\n"
   ]
  },
  {
   "cell_type": "markdown",
   "metadata": {},
   "source": [
    "## Group-Level Results"
   ]
  },
  {
   "cell_type": "code",
   "execution_count": null,
   "metadata": {},
   "outputs": [],
   "source": [
    "df_score, proposal_map, proposal_rev_map = load_loomio_score('results/results_2_3.tsv')\n",
    "df_score.groupby(['treatment', 'stage']).count()"
   ]
  },
  {
   "cell_type": "code",
   "execution_count": null,
   "metadata": {},
   "outputs": [],
   "source": [
    "treatments = {\n",
    "    1: \"control\",\n",
    "    2: \"random-pod\",\n",
    "}\n",
    "\n",
    "for treatment in [1, 2]:\n",
    "    print(\"Treatment: {}\".format(treatments[treatment]))\n",
    "    stage_profiles = [\n",
    "        Profile.from_score(df_score[(df_score.stage == stage) & (df_score.treatment == treatment)])\n",
    "        for stage in sorted(set(df_score.stage))]\n",
    "\n",
    "    Methods = [Condorcet, Majority, Borda, Tideman]\n",
    "    header = '\\t'.join(['stage'] + [M.__name__ for M in Methods])\n",
    "    print(header)\n",
    "    rows = []\n",
    "    for stage, profile in enumerate(stage_profiles):\n",
    "        winners = [\"/\".join(sorted(M(profile).social_choice())) for M in Methods]\n",
    "        row = '\\t'.join([str(stage)] + winners)\n",
    "        rows.append(row)\n",
    "        print(row)\n",
    "    print()\n",
    "    \n",
    "    with open(exp.get_filename('results-{}.tsv'.format(treatments[treatment])), 'w') as f:\n",
    "        f.write('\\n'.join([header] + rows))\n",
    "\n"
   ]
  },
  {
   "cell_type": "code",
   "execution_count": null,
   "metadata": {},
   "outputs": [],
   "source": [
    "for treatment in [1, 2]:\n",
    "    stage_profiles = [\n",
    "        Profile.from_score(df_score[(df_score.stage == stage) & (df_score.treatment == treatment)])\n",
    "        for stage in sorted(set(df_score.stage))]\n",
    "    for stage, profile in enumerate(stage_profiles):\n",
    "        for pref in KemenyYoung(profile).social_preference_set():\n",
    "            print(\"{}\\t\".format(stage), pref)\n",
    "    print(\"\")\n"
   ]
  },
  {
   "cell_type": "markdown",
   "metadata": {},
   "source": [
    "### Group-Level Agreement"
   ]
  },
  {
   "cell_type": "code",
   "execution_count": null,
   "metadata": {},
   "outputs": [],
   "source": [
    "df_score, proposal_map, proposal_rev_map = load_loomio_score('results/results_2_3.tsv')\n",
    "netdelib = NetDelibAgreement(df_score)"
   ]
  },
  {
   "cell_type": "code",
   "execution_count": null,
   "metadata": {},
   "outputs": [],
   "source": [
    "plt.figure(figsize=(6,3))\n",
    "plt.subplot(1,2,1)\n",
    "netdelib.plot_kendall([0.06, 0.18])\n",
    "plt.subplot(1,2,2)\n",
    "netdelib.plot_crossing([-0.45, -0.15])\n",
    "plt.tight_layout()\n",
    "plt.savefig(exp.get_filename('fig-agreement.png'), dpi=600)\n",
    "plt.savefig(exp.get_filename('fig-agreement.eps'))"
   ]
  },
  {
   "cell_type": "markdown",
   "metadata": {},
   "source": [
    "## Group-Level Results (Remove Attrition)"
   ]
  },
  {
   "cell_type": "code",
   "execution_count": null,
   "metadata": {},
   "outputs": [],
   "source": [
    "df_score, proposal_map, proposal_rev_map = load_loomio_score('results/results_2_3.tsv')\n",
    "df_score = remove_attrition(df_score)\n",
    "\n",
    "treatments = {\n",
    "    1: \"Single Group\",\n",
    "    2: \"Random Pod\",\n",
    "}\n",
    "\n",
    "for treatment in [1, 2]:\n",
    "    print(\"Treatment: {}\".format(treatments[treatment]))\n",
    "    stage_profiles = [\n",
    "        Profile.from_score(df_score[(df_score.stage == stage) & (df_score.treatment == treatment)])\n",
    "        for stage in sorted(set(df_score.stage))]\n",
    "\n",
    "    Methods = [Condorcet, Majority, Borda, Tideman]\n",
    "    header = '\\t'.join(['stage'] + [M.__name__ for M in Methods])\n",
    "    print(header)\n",
    "    rows = []\n",
    "    for stage, profile in enumerate(stage_profiles):\n",
    "        winners = [\"/\".join(sorted(M(profile).social_choice())) for M in Methods]\n",
    "        row = '\\t'.join([str(stage)] + winners)\n",
    "        rows.append(row)\n",
    "        print(row)\n",
    "    print()\n",
    "    \n",
    "    with open(exp.get_filename('results-{}-rmattr.tsv'.format(treatments[treatment])), 'w') as f:\n",
    "        f.write('\\n'.join([header] + rows))"
   ]
  },
  {
   "cell_type": "markdown",
   "metadata": {},
   "source": [
    "### Group-Level Agreement (Remove Attrition)"
   ]
  },
  {
   "cell_type": "code",
   "execution_count": null,
   "metadata": {},
   "outputs": [],
   "source": [
    "netdelib = NetDelibAgreement(df_score)"
   ]
  },
  {
   "cell_type": "code",
   "execution_count": null,
   "metadata": {},
   "outputs": [],
   "source": [
    "plt.figure(figsize=(6,3))\n",
    "plt.subplot(1,2,1)\n",
    "netdelib.plot_kendall([0.06, 0.18])\n",
    "plt.subplot(1,2,2)\n",
    "netdelib.plot_crossing([-0.45, -0.15])\n",
    "plt.tight_layout()\n",
    "plt.savefig(exp.get_filename('fig-agreement-rmattr.png'), dpi=600)\n",
    "plt.savefig(exp.get_filename('fig-agreement-rmattr.eps'))"
   ]
  },
  {
   "cell_type": "markdown",
   "metadata": {},
   "source": [
    "## Group-Level Results (Forward-Fill Attrition)"
   ]
  },
  {
   "cell_type": "code",
   "execution_count": null,
   "metadata": {},
   "outputs": [],
   "source": [
    "df_score, proposal_map, proposal_rev_map = load_loomio_score('results/results_2_3.tsv')\n",
    "df_score = fill_attrition(df_score)\n",
    "\n",
    "treatments = {\n",
    "    1: \"Single Group\",\n",
    "    2: \"Random Pod\",\n",
    "}\n",
    "\n",
    "for treatment in [1, 2]:\n",
    "    print(\"Treatment: {}\".format(treatments[treatment]))\n",
    "    stage_profiles = [\n",
    "        Profile.from_score(df_score[(df_score.stage == stage) & (df_score.treatment == treatment)])\n",
    "        for stage in sorted(set(df_score.stage))]\n",
    "\n",
    "    Methods = [Condorcet, Majority, Borda, Tideman]\n",
    "    header = '\\t'.join(['stage'] + [M.__name__ for M in Methods])\n",
    "    print(header)\n",
    "    rows = []\n",
    "    for stage, profile in enumerate(stage_profiles):\n",
    "        winners = [\"/\".join(sorted(M(profile).social_choice())) for M in Methods]\n",
    "        row = '\\t'.join([str(stage)] + winners)\n",
    "        rows.append(row)\n",
    "        print(row)\n",
    "    print()\n",
    "    \n",
    "    with open(exp.get_filename('results-{}-fillattr.tsv'.format(treatments[treatment])), 'w') as f:\n",
    "        f.write('\\n'.join([header] + rows))"
   ]
  },
  {
   "cell_type": "markdown",
   "metadata": {},
   "source": [
    "### Group-Level Agreement (Forward-Fill Attrition)"
   ]
  },
  {
   "cell_type": "code",
   "execution_count": null,
   "metadata": {},
   "outputs": [],
   "source": [
    "netdelib = NetDelibAgreement(df_score)"
   ]
  },
  {
   "cell_type": "code",
   "execution_count": null,
   "metadata": {},
   "outputs": [],
   "source": [
    "plt.figure(figsize=(6,3))\n",
    "plt.subplot(1,2,1)\n",
    "netdelib.plot_kendall([0.06, 0.18])\n",
    "plt.subplot(1,2,2)\n",
    "netdelib.plot_crossing([-0.45, -0.15])\n",
    "plt.tight_layout()\n",
    "plt.savefig(exp.get_filename('fig-agreement-fillattr.png'), dpi=600)\n",
    "plt.savefig(exp.get_filename('fig-agreement-fillattr.eps'))"
   ]
  },
  {
   "cell_type": "code",
   "execution_count": null,
   "metadata": {},
   "outputs": [],
   "source": []
  }
 ],
 "metadata": {
  "kernelspec": {
   "display_name": "Python 3 (ipykernel)",
   "language": "python",
   "name": "python3"
  },
  "language_info": {
   "codemirror_mode": {
    "name": "ipython",
    "version": 3
   },
   "file_extension": ".py",
   "mimetype": "text/x-python",
   "name": "python",
   "nbconvert_exporter": "python",
   "pygments_lexer": "ipython3",
   "version": "3.9.5"
  }
 },
 "nbformat": 4,
 "nbformat_minor": 4
}
