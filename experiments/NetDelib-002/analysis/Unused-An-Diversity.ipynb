{
 "cells": [
  {
   "cell_type": "code",
   "execution_count": null,
   "id": "f25b1819-e509-492b-a4ac-03d6493b3a5d",
   "metadata": {},
   "outputs": [],
   "source": [
    "import math\n",
    "from matplotlib import pyplot as plt\n",
    "import numpy as np\n",
    "import numpy.random as nprand\n",
    "import pandas as pd\n",
    "import random\n",
    "import scipy.stats as spstats\n",
    "%matplotlib inline\n",
    "\n",
    "from loomio import *\n",
    "from socialchoice import *\n",
    "from netdelib import *"
   ]
  },
  {
   "cell_type": "code",
   "execution_count": null,
   "id": "1d85b911-8b21-4dc8-8159-7e13b51035da",
   "metadata": {},
   "outputs": [],
   "source": [
    "def simpson(l):\n",
    "    N = sum(l)\n",
    "    return sum([n*n for n in l]) / (N*N)\n",
    "\n",
    "def inverse_simpson(l):\n",
    "    return 1 / simpson(l)"
   ]
  },
  {
   "cell_type": "code",
   "execution_count": null,
   "id": "ed7a0a63-d2b8-46eb-ac79-e33aeb0dc2a8",
   "metadata": {},
   "outputs": [],
   "source": [
    "df_score, proposal_map, proposal_rev_map = load_loomio_score('results/results_2_3.tsv')\n",
    "df_score = fill_attrition(df_score)\n",
    "\n",
    "treatments = {\n",
    "    1: \"Single Group\",\n",
    "    2: \"Random Pod\",\n",
    "}"
   ]
  },
  {
   "cell_type": "code",
   "execution_count": null,
   "id": "e4699a20-1172-4829-a22b-a9f2968a4a7b",
   "metadata": {},
   "outputs": [],
   "source": [
    "stage_entropy = dict()\n",
    "stage_simpson = dict()\n",
    "for treatment in [1, 2]:\n",
    "    stage_profiles = [\n",
    "        Profile.from_score(df_score[(df_score.stage == stage) & (df_score.treatment == treatment)])\n",
    "        for stage in sorted(set(df_score.stage))]\n",
    "    stage_entropy[treatment] = [\n",
    "        spstats.entropy(list(prof.preference_counts.values()))\n",
    "        for prof in stage_profiles]\n",
    "    stage_simpson[treatment] = [\n",
    "        inverse_simpson(list(prof.preference_counts.values()))\n",
    "        for prof in stage_profiles]\n",
    "        "
   ]
  },
  {
   "cell_type": "code",
   "execution_count": null,
   "id": "0e787a89-3845-45ac-84cb-ea85d394d917",
   "metadata": {},
   "outputs": [],
   "source": [
    "plt.figure(figsize=(8,4))\n",
    "\n",
    "plt.subplot(1,2,1)\n",
    "plt.plot(stage_entropy[1], label=\"Control\")\n",
    "plt.plot(stage_entropy[2], label=\"Random-Pod\")\n",
    "plt.xticks(range(4), labels=range(4))\n",
    "plt.xlabel(\"Stage\")\n",
    "plt.ylabel(\"Entropy\")\n",
    "plt.ylim([0,3.5])\n",
    "plt.title(\"Diversity of Preferences\")\n",
    "plt.grid()\n",
    "plt.legend()\n",
    "\n",
    "plt.subplot(1,2,2)\n",
    "plt.plot(stage_simpson[1], label=\"Control\")\n",
    "plt.plot(stage_simpson[2], label=\"Random-Pod\")\n",
    "plt.xticks(range(4), labels=range(4))\n",
    "plt.xlabel(\"Stage\")\n",
    "plt.ylim([0,33])\n",
    "plt.ylabel(\"Inverse Simpson\")\n",
    "plt.title(\"Diversity of Preferences\")\n",
    "plt.grid()\n",
    "plt.legend()\n",
    "\n",
    "plt.tight_layout()"
   ]
  },
  {
   "cell_type": "code",
   "execution_count": null,
   "id": "f5be0e53-5f58-419a-b641-63af3a77c9ed",
   "metadata": {},
   "outputs": [],
   "source": [
    "stage_entropy = dict()\n",
    "stage_simpson = dict()\n",
    "for treatment in [1, 2]:\n",
    "    stage_profiles = [\n",
    "        Profile.from_score(df_score[(df_score.stage == stage) & (df_score.treatment == treatment)])\n",
    "        for stage in sorted(set(df_score.stage))]\n",
    "    stage_entropy[treatment] = [\n",
    "        spstats.entropy(list(prof.first_place_distribution().values()))\n",
    "        for prof in stage_profiles]\n",
    "    stage_simpson[treatment] = [\n",
    "        inverse_simpson(list(prof.first_place_distribution().values()))\n",
    "        for prof in stage_profiles]\n",
    "    "
   ]
  },
  {
   "cell_type": "code",
   "execution_count": null,
   "id": "9d992c1d-7c77-41f0-a403-1c0638e087f1",
   "metadata": {},
   "outputs": [],
   "source": [
    "plt.figure(figsize=(8,4))\n",
    "\n",
    "plt.subplot(1,2,1)\n",
    "plt.plot(stage_entropy[1], label=\"Control\")\n",
    "plt.plot(stage_entropy[2], label=\"Random-Pod\")\n",
    "plt.xticks(range(4), labels=range(4))\n",
    "plt.ylim([0, 1.8])\n",
    "plt.xlabel(\"Stage\")\n",
    "plt.ylabel(\"Entropy\")\n",
    "plt.title(\"Diversity of First-Place\")\n",
    "plt.grid()\n",
    "plt.legend()\n",
    "\n",
    "plt.subplot(1,2,2)\n",
    "plt.plot(stage_simpson[1], label=\"Control\")\n",
    "plt.plot(stage_simpson[2], label=\"Random-Pod\")\n",
    "plt.xticks(range(4), labels=range(4))\n",
    "plt.xlabel(\"Stage\")\n",
    "plt.ylabel(\"Inverse Simpson\")\n",
    "plt.ylim([0,6])\n",
    "plt.title(\"Diversity of First-Place\")\n",
    "plt.grid()\n",
    "plt.legend()\n",
    "\n",
    "plt.tight_layout()"
   ]
  },
  {
   "cell_type": "code",
   "execution_count": null,
   "id": "ea339c22-dd47-4055-8aa1-6ac087fac5ed",
   "metadata": {},
   "outputs": [],
   "source": [
    "stage_unique = dict()\n",
    "for treatment in [1, 2]:\n",
    "    stage_profiles = [\n",
    "        Profile.from_score(df_score[(df_score.stage == stage) & (df_score.treatment == treatment)])\n",
    "        for stage in sorted(set(df_score.stage))]\n",
    "    stage_unique[treatment] = [\n",
    "        len(set(prof.first_place_distribution().keys()))\n",
    "        for prof in stage_profiles]\n"
   ]
  },
  {
   "cell_type": "code",
   "execution_count": null,
   "id": "70f6160e-9792-4bce-9ce7-207f5eba4608",
   "metadata": {},
   "outputs": [],
   "source": [
    "plt.plot(stage_unique[1], label=\"Control\")\n",
    "plt.plot(stage_unique[2], label=\"Random-Pod\")\n",
    "plt.xticks(range(4), labels=range(4))\n",
    "plt.yticks(range(3,8), labels=range(3,8))\n",
    "plt.xlabel(\"Stage\")\n",
    "plt.ylabel(\"Count\")\n",
    "plt.title(\"Unique First-Places Present\")\n",
    "plt.grid()\n",
    "plt.legend()"
   ]
  },
  {
   "cell_type": "code",
   "execution_count": null,
   "id": "72acaf92-0970-4d35-807a-d002e8b21dfb",
   "metadata": {},
   "outputs": [],
   "source": [
    "stage_explored = {1:[], 2:[]}\n",
    "for treatment in [1, 2]:\n",
    "    stage_profiles = [\n",
    "        Profile.from_score(df_score[(df_score.stage == stage) & (df_score.treatment == treatment)])\n",
    "        for stage in sorted(set(df_score.stage))]\n",
    "    stage_cumulative = set()\n",
    "    for prof in stage_profiles:\n",
    "        stage_cumulative = stage_cumulative.union(set(prof.first_place_distribution().keys()))\n",
    "        stage_explored[treatment].append(len(stage_cumulative))\n"
   ]
  },
  {
   "cell_type": "code",
   "execution_count": null,
   "id": "2abc5987-04fa-4ee7-b3a2-ddbce4aaf02a",
   "metadata": {},
   "outputs": [],
   "source": [
    "plt.plot(stage_explored[1], label=\"Control\")\n",
    "plt.plot(stage_explored[2], label=\"Random-Pod\")\n",
    "plt.xlabel(\"Stage\")\n",
    "plt.xticks(range(4), labels=range(4))\n",
    "plt.ylabel(\"Count\")\n",
    "plt.title(\"Unique Cumulative First-Places\")\n",
    "plt.grid()\n",
    "plt.legend()"
   ]
  },
  {
   "cell_type": "code",
   "execution_count": null,
   "id": "4b70b1da-02b9-4821-be09-942ad1252b18",
   "metadata": {},
   "outputs": [],
   "source": [
    "stage_explored = {1:[], 2:[]}\n",
    "for treatment in [1, 2]:\n",
    "    stage_profiles = [\n",
    "        Profile.from_score(df_score[(df_score.stage == stage) & (df_score.treatment == treatment)])\n",
    "        for stage in sorted(set(df_score.stage))]\n",
    "    stage_cumulative = set()\n",
    "    for prof in stage_profiles:\n",
    "        stage_cumulative = stage_cumulative.union(set(prof.preference_counts.keys()))\n",
    "        stage_explored[treatment].append(len(stage_cumulative))\n"
   ]
  },
  {
   "cell_type": "code",
   "execution_count": null,
   "id": "6b5ebc63-ce52-40f3-9bce-963de5a0e96d",
   "metadata": {},
   "outputs": [],
   "source": [
    "plt.plot(stage_explored[1], label=\"Control\")\n",
    "plt.plot(stage_explored[2], label=\"Random-Pod\")\n",
    "plt.xlabel(\"Stage\")\n",
    "plt.ylabel(\"Count\")\n",
    "plt.xticks(range(4), labels=range(4))\n",
    "plt.title(\"Unique Cumulative Preferences\")\n",
    "plt.ylim([0,132])\n",
    "plt.grid()\n",
    "plt.legend()"
   ]
  },
  {
   "cell_type": "code",
   "execution_count": null,
   "id": "5ae57b08-9697-4870-be92-9cc489b7e811",
   "metadata": {},
   "outputs": [],
   "source": []
  }
 ],
 "metadata": {
  "kernelspec": {
   "display_name": "Python 3 (ipykernel)",
   "language": "python",
   "name": "python3"
  },
  "language_info": {
   "codemirror_mode": {
    "name": "ipython",
    "version": 3
   },
   "file_extension": ".py",
   "mimetype": "text/x-python",
   "name": "python",
   "nbconvert_exporter": "python",
   "pygments_lexer": "ipython3",
   "version": "3.9.5"
  }
 },
 "nbformat": 4,
 "nbformat_minor": 5
}
