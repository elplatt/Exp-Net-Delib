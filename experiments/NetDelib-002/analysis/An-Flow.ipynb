{
 "cells": [
  {
   "cell_type": "code",
   "execution_count": 1,
   "id": "f25b1819-e509-492b-a4ac-03d6493b3a5d",
   "metadata": {},
   "outputs": [],
   "source": [
    "import math\n",
    "import random\n",
    "\n",
    "import matplotlib\n",
    "from matplotlib import pyplot as plt\n",
    "from matplotlib.colors import LinearSegmentedColormap\n",
    "import numpy as np\n",
    "import numpy.random as nprand\n",
    "import pandas as pd\n",
    "import plotly.graph_objects as go\n",
    "import plotly.express as pex\n",
    "import repsci\n",
    "import scipy.stats as spstats\n",
    "\n",
    "from loomio import *\n",
    "from socialchoice import *\n",
    "from netdelib import *\n",
    "\n",
    "%matplotlib inline\n",
    "\n",
    "matplotlib.rcParams['font.size'] = 9\n",
    "matplotlib.rcParams['figure.dpi'] = 150\n",
    "matplotlib.rcParams['lines.markersize'] = 9"
   ]
  },
  {
   "cell_type": "code",
   "execution_count": 2,
   "id": "20bfa776-a8b9-4383-aef6-5c47b408f760",
   "metadata": {},
   "outputs": [],
   "source": [
    "exp = repsci.Experiment('flow')"
   ]
  },
  {
   "cell_type": "code",
   "execution_count": 3,
   "id": "ed7a0a63-d2b8-46eb-ac79-e33aeb0dc2a8",
   "metadata": {},
   "outputs": [],
   "source": [
    "df_score, proposal_map, proposal_rev_map = load_loomio_score('results/results_2_3.tsv')\n",
    "df_score = fill_attrition(df_score, min_stages=2)\n",
    "\n",
    "treatments = {\n",
    "    1: \"Single Group\",\n",
    "    2: \"Random Pod\",\n",
    "}\n",
    "\n",
    "df_control = df_score[df_score.treatment == 1]\n",
    "df_random = df_score[df_score.treatment == 2]"
   ]
  },
  {
   "cell_type": "code",
   "execution_count": 4,
   "id": "e4699a20-1172-4829-a22b-a9f2968a4a7b",
   "metadata": {},
   "outputs": [],
   "source": [
    "control_preferences = make_preference_sequence_collection(df_control)\n",
    "random_preferences = make_preference_sequence_collection(df_random)"
   ]
  },
  {
   "cell_type": "code",
   "execution_count": 5,
   "id": "f0039cb3-761b-4a44-bc08-08f0e7fe92cc",
   "metadata": {},
   "outputs": [],
   "source": [
    "def get_counts(preferences):\n",
    "    alternatives = ['prop1', 'prop2', 'prop3', 'prop4', 'prop5', 'prop6']\n",
    "\n",
    "    stages = range(4)\n",
    "    counts = dict([(alt, [0]*4) for alt in alternatives])\n",
    "\n",
    "    for part, seq in preferences.items():\n",
    "        for stage in stages:\n",
    "            alt = seq[stage].first_place()\n",
    "            counts[alt][stage] += 1\n",
    "\n",
    "    return counts"
   ]
  },
  {
   "cell_type": "code",
   "execution_count": 6,
   "id": "49390528-8e08-46ef-8a21-94c2b5659a67",
   "metadata": {},
   "outputs": [],
   "source": [
    "alternatives = ['prop1', 'prop2', 'prop3', 'prop4', 'prop5', 'prop6']\n",
    "stages = range(4)\n",
    "\n",
    "def plot_counts(counts):\n",
    "    bar_width = 0.8\n",
    "\n",
    "    colors = [\n",
    "        '#848',\n",
    "        '#b6b',\n",
    "        '#488',\n",
    "        '#6bb',\n",
    "        '#884',\n",
    "        '#bb6',\n",
    "    ]\n",
    "\n",
    "    y_offset = np.zeros(4)\n",
    "    for i, alt in enumerate(alternatives):\n",
    "        plt.bar(stages, counts[alt], bar_width, bottom=y_offset, color=colors[i])\n",
    "        y_offset = y_offset + counts[alt]\n"
   ]
  },
  {
   "cell_type": "code",
   "execution_count": 7,
   "id": "09bc3f11-d6d8-4123-b2fc-20d96b379b15",
   "metadata": {},
   "outputs": [
    {
     "data": {
      "image/png": "[encoded data removed]",
      "text/plain": [
       "<Figure size 450x450 with 2 Axes>"
      ]
     },
     "metadata": {
      "needs_background": "light"
     },
     "output_type": "display_data"
    }
   ],
   "source": [
    "\n",
    "plt.figure(figsize=(3,3))\n",
    "\n",
    "ax = plt.subplot(2,1,1)\n",
    "plot_counts(get_counts(control_preferences))\n",
    "plt.ylim([0,len(control_preferences)])\n",
    "plt.ylabel('Control')\n",
    "plt.xlim([-.5,3.5])\n",
    "plt.xticks(range(4), labels=range(4))\n",
    "plt.grid(which='minor', axis='y', linewidth=1)\n",
    "ax.set_axisbelow(True)\n",
    "\n",
    "plt.subplot(2,1,2)\n",
    "plot_counts(get_counts(random_preferences))\n",
    "plt.ylim([0,len(random_preferences)])\n",
    "plt.ylabel('Random-Pod')\n",
    "plt.xlabel('Round')\n",
    "plt.xlim([-.5,3.5])\n",
    "plt.xticks(range(4), labels=range(4))\n",
    "\n",
    "plt.tight_layout()\n",
    "plt.savefig(exp.get_filename('fig-counts.eps'))\n",
    "plt.savefig(exp.get_filename('fig-counts.png'), dpi=600)"
   ]
  },
  {
   "cell_type": "code",
   "execution_count": 8,
   "id": "4bb07781-8261-433e-b233-af89f317b10d",
   "metadata": {},
   "outputs": [
    {
     "data": {
      "text/plain": [
       "{'prop1': [8, 15, 10, 12],\n",
       " 'prop2': [13, 9, 10, 6],\n",
       " 'prop3': [5, 4, 5, 2],\n",
       " 'prop4': [4, 2, 3, 7],\n",
       " 'prop5': [3, 2, 4, 4],\n",
       " 'prop6': [0, 1, 1, 2]}"
      ]
     },
     "execution_count": 8,
     "metadata": {},
     "output_type": "execute_result"
    }
   ],
   "source": [
    "get_counts(control_preferences)"
   ]
  },
  {
   "cell_type": "code",
   "execution_count": 9,
   "id": "277ec176-026a-46e7-9fe2-7e8c15568e22",
   "metadata": {},
   "outputs": [
    {
     "data": {
      "text/plain": [
       "{'prop1': [5, 2, 6, 7],\n",
       " 'prop2': [13, 16, 14, 12],\n",
       " 'prop3': [5, 3, 5, 7],\n",
       " 'prop4': [3, 4, 4, 3],\n",
       " 'prop5': [4, 5, 1, 1],\n",
       " 'prop6': [2, 2, 2, 2]}"
      ]
     },
     "execution_count": 9,
     "metadata": {},
     "output_type": "execute_result"
    }
   ],
   "source": [
    "get_counts(random_preferences)"
   ]
  },
  {
   "cell_type": "code",
   "execution_count": 10,
   "id": "8817da32-d444-4b08-9be5-2ef8bd116b4e",
   "metadata": {},
   "outputs": [],
   "source": [
    "def get_transition_matrix(preferences, stage_i=0, stage_f=3):\n",
    "    alternatives = ['prop1', 'prop2', 'prop3', 'prop4', 'prop5', 'prop6']\n",
    "    alt_map = dict((alt, i) for i, alt in enumerate(alternatives))\n",
    "\n",
    "    result = np.zeros(shape=(6,6))\n",
    "    \n",
    "    for part, seq in preferences.items():\n",
    "        alt_from = seq[stage_i].first_place()\n",
    "        alt_to = seq[stage_f].first_place()\n",
    "        result[alt_map[alt_from], alt_map[alt_to]] += 1\n",
    "\n",
    "    return result"
   ]
  },
  {
   "cell_type": "code",
   "execution_count": 11,
   "id": "7d5b7d79-50b7-4e7e-8bb8-856997106edc",
   "metadata": {},
   "outputs": [
    {
     "data": {
      "image/png": "[encoded data removed]",
      "text/plain": [
       "<Figure size 600x300 with 2 Axes>"
      ]
     },
     "metadata": {
      "needs_background": "light"
     },
     "output_type": "display_data"
    }
   ],
   "source": [
    "cdict = {\n",
    "    'red': [[0.0, 1.0, 1.0],\n",
    "            [1.0, 0.4, 0.4]],\n",
    "    'green': [[0.0, 1.0, 1.0],\n",
    "              [1.0, 0.4, 0.4]],\n",
    "    'blue': [[0.0, 1.0, 1.0],\n",
    "             [1.0, 1.0, 1.0]]\n",
    "}\n",
    "flow_map = LinearSegmentedColormap('flow', cdict)\n",
    "\n",
    "control_im = get_transition_matrix(control_preferences)\n",
    "random_im = get_transition_matrix(random_preferences)\n",
    "\n",
    "plt.figure(figsize=(4,2))\n",
    "\n",
    "ax = plt.subplot(1,2,1)\n",
    "plt.imshow(control_im, cmap=flow_map)\n",
    "ax.tick_params(labelbottom=False, labeltop=True)\n",
    "ax.xaxis.tick_top()\n",
    "plt.xticks(range(6), labels=range(1,7))\n",
    "plt.yticks(range(6), labels=range(1,7))\n",
    "plt.ylabel('Initial')\n",
    "plt.xlabel('Control', fontsize=11, labelpad=11)\n",
    "plt.title('Final', fontsize=9)\n",
    "\n",
    "ax = plt.subplot(1,2,2)\n",
    "ax.tick_params(labelbottom=False, labeltop=True)\n",
    "ax.xaxis.tick_top()\n",
    "plt.imshow(random_im, cmap=flow_map)\n",
    "plt.xticks(range(6), labels=range(1,7))\n",
    "plt.yticks(range(6), labels=range(1,7))\n",
    "plt.ylabel('Initial')\n",
    "plt.xlabel('Random-Pod', fontsize=11, labelpad=11)\n",
    "plt.title('Final', fontsize=9)\n",
    "\n",
    "plt.tight_layout()\n",
    "plt.savefig(exp.get_filename('fig-count-matrix.eps'))\n",
    "plt.savefig(exp.get_filename('fig-count-matrix.png'), dpi=600)"
   ]
  },
  {
   "cell_type": "code",
   "execution_count": 12,
   "id": "4e63dd60-9afe-4ba0-9159-1d08993d0d32",
   "metadata": {},
   "outputs": [
    {
     "data": {
      "image/png": "[encoded data removed]",
      "text/plain": [
       "<Figure size 900x600 with 6 Axes>"
      ]
     },
     "metadata": {
      "needs_background": "light"
     },
     "output_type": "display_data"
    }
   ],
   "source": [
    "flow_map = LinearSegmentedColormap('flow', cdict)\n",
    "\n",
    "plt.figure(figsize=(6,4))\n",
    "\n",
    "for stage in range(3):\n",
    "    si = stage\n",
    "    sf = stage + 1\n",
    "    control_im = get_transition_matrix(control_preferences, stage_i=si, stage_f=sf)\n",
    "    random_im = get_transition_matrix(random_preferences, stage_i=si, stage_f=sf)\n",
    "\n",
    "    ax = plt.subplot(2,3,1+stage)\n",
    "    plt.imshow(control_im, cmap=flow_map)\n",
    "    ax.tick_params(labelbottom=False, labeltop=True)\n",
    "    ax.xaxis.tick_top()\n",
    "    plt.xticks(range(6), labels=range(1,7))\n",
    "    plt.yticks(range(6), labels=range(1,7))\n",
    "    if stage == 0:\n",
    "        plt.ylabel('Initial')\n",
    "    else:\n",
    "        plt.ylabel('Round {}'.format(stage))\n",
    "    plt.xlabel('Control', fontsize=11)\n",
    "    if stage == 2:\n",
    "        plt.title('Final', fontsize=9)\n",
    "    else:\n",
    "        plt.title('Round {}'.format(stage+1), fontsize=9)\n",
    "\n",
    "    ax = plt.subplot(2,3,4+stage)\n",
    "    ax.tick_params(labelbottom=False, labeltop=True)\n",
    "    ax.xaxis.tick_top()\n",
    "    plt.imshow(random_im, cmap=flow_map)\n",
    "    plt.xticks(range(6), labels=range(1,7))\n",
    "    plt.yticks(range(6), labels=range(1,7))\n",
    "    if stage == 0:\n",
    "        plt.ylabel('Initial')\n",
    "    else:\n",
    "        plt.ylabel('Round {}'.format(stage))\n",
    "    plt.xlabel('Random-Pod', fontsize=11)\n",
    "    if stage == 2:\n",
    "        plt.title('Final', fontsize=9)\n",
    "    else:\n",
    "        plt.title('Round {}'.format(stage+1), fontsize=9)\n",
    "\n",
    "plt.tight_layout()\n",
    "plt.savefig(exp.get_filename('fig-round-matrix.eps'))\n",
    "plt.savefig(exp.get_filename('fig-round-matrix.png'), dpi=600)"
   ]
  },
  {
   "cell_type": "code",
   "execution_count": 13,
   "id": "8d1a7d55-647a-423b-9a75-f37194c138d2",
   "metadata": {},
   "outputs": [
    {
     "data": {
      "image/png": "[encoded data removed]",
      "text/plain": [
       "<Figure size 600x300 with 2 Axes>"
      ]
     },
     "metadata": {
      "needs_background": "light"
     },
     "output_type": "display_data"
    }
   ],
   "source": [
    "cdict = {\n",
    "    'red': [[0.0, 1.0, 1.0],\n",
    "            [1.0, 0.4, 0.4]],\n",
    "    'green': [[0.0, 1.0, 1.0],\n",
    "              [1.0, 0.4, 0.4]],\n",
    "    'blue': [[0.0, 1.0, 1.0],\n",
    "             [1.0, 1.0, 1.0]]\n",
    "}\n",
    "flow_map = LinearSegmentedColormap('flow', cdict)\n",
    "\n",
    "control_im = get_transition_matrix(control_preferences, stage_i=1, stage_f=3)\n",
    "random_im = get_transition_matrix(random_preferences, stage_i=1, stage_f=3)\n",
    "\n",
    "plt.figure(figsize=(4,2))\n",
    "\n",
    "ax = plt.subplot(1,2,1)\n",
    "plt.imshow(control_im, cmap=flow_map)\n",
    "ax.tick_params(labelbottom=False, labeltop=True)\n",
    "ax.xaxis.tick_top()\n",
    "plt.xticks(range(6), labels=range(1,7))\n",
    "plt.yticks(range(6), labels=range(1,7))\n",
    "plt.ylabel('Initial')\n",
    "plt.xlabel('Control', fontsize=11, labelpad=11)\n",
    "plt.title('Final', fontsize=9)\n",
    "\n",
    "ax = plt.subplot(1,2,2)\n",
    "ax.tick_params(labelbottom=False, labeltop=True)\n",
    "ax.xaxis.tick_top()\n",
    "plt.imshow(random_im, cmap=flow_map)\n",
    "plt.xticks(range(6), labels=range(1,7))\n",
    "plt.yticks(range(6), labels=range(1,7))\n",
    "plt.ylabel('Initial')\n",
    "plt.xlabel('Random-Pod', fontsize=11, labelpad=11)\n",
    "plt.title('Final', fontsize=9)\n",
    "\n",
    "plt.tight_layout()"
   ]
  },
  {
   "cell_type": "code",
   "execution_count": 14,
   "id": "5f7faea2-8b10-4cc5-aa84-97a9e23de591",
   "metadata": {},
   "outputs": [
    {
     "name": "stdout",
     "output_type": "stream",
     "text": [
      "8\n",
      "\tprop1\tprop2\tprop3\tprop4\tprop5\tprop6\n",
      "\tprop1\tprop2\tprop3\tprop4\tprop5\tprop6\n",
      "\tprop1\tprop2\tprop3\tprop4\tprop5\tprop6\n",
      "\tprop1\tprop2\tprop4\tprop3\tprop5\tprop6\n",
      "\n",
      "17\n",
      "\tprop1\tprop6\tprop5\tprop3\tprop4\tprop2\n",
      "\tprop1\tprop5\tprop6\tprop3\tprop4\tprop2\n",
      "\tprop1\tprop5\tprop6\tprop3\tprop4\tprop2\n",
      "\tprop1\tprop5\tprop6\tprop3\tprop4\tprop2\n",
      "\n",
      "19\n",
      "\tprop1\tprop3\tprop2\tprop5\tprop4\tprop6\n",
      "\tprop1\tprop2\tprop5\tprop3\tprop4\tprop6\n",
      "\tprop1\tprop5\tprop3\tprop2\tprop4\tprop6\n",
      "\tprop1\tprop5\tprop3\tprop2\tprop4\tprop6\n",
      "\n",
      "32\n",
      "\tprop1\tprop2\tprop4\tprop3\tprop5\tprop6\n",
      "\tprop2\tprop1\tprop4\tprop3\tprop6\tprop5\n",
      "\tprop1\tprop2\tprop3\tprop4\tprop6\tprop5\n",
      "\tprop1\tprop2\tprop3\tprop4\tprop6\tprop5\n",
      "\n",
      "33\n",
      "\tprop1\tprop2\tprop4\tprop3\tprop6\tprop5\n",
      "\tprop1\tprop2\tprop4\tprop3\tprop5\tprop6\n",
      "\tprop1\tprop2\tprop3\tprop4\tprop6\tprop5\n",
      "\tprop1\tprop2\tprop4\tprop3\tprop6\tprop5\n",
      "\n",
      "57\n",
      "\tprop1\tprop3\tprop5\tprop4\tprop6\tprop2\n",
      "\tprop1\tprop3\tprop6\tprop2\tprop5\tprop4\n",
      "\tprop3\tprop5\tprop1\tprop4\tprop6\tprop2\n",
      "\tprop5\tprop3\tprop1\tprop2\tprop4\tprop6\n",
      "\n",
      "58\n",
      "\tprop1\tprop2\tprop6\tprop4\tprop5\tprop3\n",
      "\tprop1\tprop4\tprop6\tprop2\tprop5\tprop3\n",
      "\tprop2\tprop6\tprop1\tprop4\tprop5\tprop3\n",
      "\tprop5\tprop2\tprop3\tprop6\tprop4\tprop1\n",
      "\n",
      "61\n",
      "\tprop1\tprop6\tprop4\tprop5\tprop3\tprop2\n",
      "\tprop1\tprop5\tprop6\tprop4\tprop2\tprop3\n",
      "\tprop6\tprop5\tprop4\tprop3\tprop1\tprop2\n",
      "\tprop6\tprop5\tprop4\tprop1\tprop3\tprop2\n",
      "\n"
     ]
    }
   ],
   "source": [
    "changed = []\n",
    "for part, seq in control_preferences.items():\n",
    "    if seq[0].first_place() == 'prop1':\n",
    "        changed.append(part)\n",
    "        print(part)\n",
    "        print(seq.display())"
   ]
  },
  {
   "cell_type": "code",
   "execution_count": 20,
   "id": "8404a296-7132-4302-9aa6-0a1aa05e3657",
   "metadata": {},
   "outputs": [
    {
     "name": "stdout",
     "output_type": "stream",
     "text": [
      "\tprop3\tprop5\tprop4\tprop1\tprop2\tprop6\n",
      "\tprop1\tprop2\tprop3\tprop4\tprop5\tprop6\n",
      "\tprop3\tprop2\tprop1\tprop6\tprop5\tprop4\n",
      "\tprop4\tprop3\tprop2\tprop1\tprop6\tprop5\n",
      "\n"
     ]
    }
   ],
   "source": [
    "print(control_preferences[7].display())"
   ]
  },
  {
   "cell_type": "code",
   "execution_count": null,
   "id": "b7c992a9-2e0c-4b5b-b1d1-e3e884d5a950",
   "metadata": {},
   "outputs": [],
   "source": []
  }
 ],
 "metadata": {
  "kernelspec": {
   "display_name": "Python 3 (ipykernel)",
   "language": "python",
   "name": "python3"
  },
  "language_info": {
   "codemirror_mode": {
    "name": "ipython",
    "version": 3
   },
   "file_extension": ".py",
   "mimetype": "text/x-python",
   "name": "python",
   "nbconvert_exporter": "python",
   "pygments_lexer": "ipython3",
   "version": "3.9.5"
  }
 },
 "nbformat": 4,
 "nbformat_minor": 5
}
