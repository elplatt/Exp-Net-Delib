{
 "cells": [
  {
   "cell_type": "code",
   "execution_count": null,
   "id": "d18aef93-17c3-4036-8726-6cedc42d8518",
   "metadata": {},
   "outputs": [],
   "source": [
    "import math\n",
    "\n",
    "from matplotlib import pyplot as plt\n",
    "import numpy as np\n",
    "import pandas as pd\n",
    "import repsci\n",
    "import scipy.stats as spstats\n",
    "\n",
    "%pylab inline\n",
    "\n",
    "matplotlib.rcParams['font.size'] = 9\n",
    "matplotlib.rcParams['figure.dpi'] = 150\n",
    "matplotlib.rcParams['lines.markersize'] = 9"
   ]
  },
  {
   "cell_type": "code",
   "execution_count": null,
   "id": "40dca481-3918-4b4a-b9ed-8646b399e5e3",
   "metadata": {},
   "outputs": [],
   "source": [
    "exp = repsci.Experiment('comments')"
   ]
  },
  {
   "cell_type": "code",
   "execution_count": null,
   "id": "407c9055-9950-4f63-8527-958a0f8c8e04",
   "metadata": {},
   "outputs": [],
   "source": [
    "df = pd.read_csv('../results/comments_2_3.tsv', delimiter='\\t')\n",
    "df = df.set_index('comment_id')\n",
    "pods = sorted(set(df.pod))"
   ]
  },
  {
   "cell_type": "code",
   "execution_count": null,
   "id": "69d1da21-02c9-4b59-a1bc-0e0a4a6e72ce",
   "metadata": {},
   "outputs": [],
   "source": [
    "df_pods = pd.read_csv('results/pods_2_3.tsv', delimiter='\\t')\n",
    "df_pods = df_pods.set_index('pod_id')"
   ]
  },
  {
   "cell_type": "code",
   "execution_count": null,
   "id": "64783119-8ad9-4bf6-8bed-96a418a7aef3",
   "metadata": {},
   "outputs": [],
   "source": [
    "pod_data = {}\n",
    "\n",
    "total = 0\n",
    "treatments = {\n",
    "    1: \"Control\",\n",
    "    2: \"Random-Pod\"\n",
    "}\n",
    "\n",
    "for pod in pods:\n",
    "    data = \"Stage {} - Pod {} ({})\\n\\n\".format(\n",
    "        df_pods.stage[pod] + 1, pod, treatments[df_pods.treatment[pod]]\n",
    "    )\n",
    "    df_pod = df[df.pod == pod]\n",
    "    top_level = df_pod[df_pod.parent_id.isna()]\n",
    "    for parent in sorted(set(top_level.index)):\n",
    "        total += 1\n",
    "        parent_data = []\n",
    "        body = top_level.body[parent].replace('<br/>', \"\\n\")\n",
    "        parent_data.append(\"P{}: \".format(top_level.user_id[parent]) + body)\n",
    "        df_children = df_pod[df_pod.parent_id == parent]\n",
    "        for child in sorted(set(df_children.index)):\n",
    "            body = df_children.body[child].replace('<br/>', \"\\n|.   \")\n",
    "            parent_data.append(\"|   P{}: \".format(df_children.user_id[child]) + body)\n",
    "            total += 1\n",
    "        data += \"\\n---\\n\".join(parent_data) + \"\\n===\\n\\n\"\n",
    "    pod_data[pod] = data"
   ]
  },
  {
   "cell_type": "code",
   "execution_count": null,
   "id": "54de4496-c5a7-488c-a65a-47d99feb546d",
   "metadata": {},
   "outputs": [],
   "source": [
    "for pod in pods:\n",
    "    with open(\"comments-{:03d}.txt\".format(pod), \"w\") as f:\n",
    "        f.write(pod_data[pod])"
   ]
  },
  {
   "cell_type": "code",
   "execution_count": null,
   "id": "5e019eb1-9b77-4229-8344-cf352e621f83",
   "metadata": {},
   "outputs": [],
   "source": [
    "df = df.join(df_pods, on='pod')"
   ]
  },
  {
   "cell_type": "code",
   "execution_count": null,
   "id": "11b57319-fab0-4233-b443-12d922ff875e",
   "metadata": {},
   "outputs": [],
   "source": [
    "df_control = df[df.treatment == 1]\n",
    "df_random = df[df.treatment == 2]"
   ]
  },
  {
   "cell_type": "code",
   "execution_count": null,
   "id": "fbe4f87f-84a2-47f0-8a81-758cadb9ef9c",
   "metadata": {},
   "outputs": [],
   "source": [
    "def activity_counts(df):\n",
    "    df_counts = df.groupby(['user_id', 'stage']).count()\n",
    "    participants = sorted(set(df.user_id))\n",
    "    stages = range(3)\n",
    "    counts = []\n",
    "    for stage in stages:\n",
    "        stage_counts = []\n",
    "        for part in participants:\n",
    "            try:\n",
    "                stage_counts.append(df_counts.body[(part, stage)])\n",
    "            except KeyError:\n",
    "                pass\n",
    "        counts.append(stage_counts)\n",
    "    return counts"
   ]
  },
  {
   "cell_type": "code",
   "execution_count": null,
   "id": "817ad38f-bae4-46c3-9f88-ad8229832ec8",
   "metadata": {},
   "outputs": [],
   "source": [
    "control_counts = activity_counts(df_control)\n",
    "random_counts = activity_counts(df_random)\n",
    "\n",
    "plt.figure(figsize=(6,2))\n",
    "\n",
    "for i in range(3):\n",
    "    ax = plt.subplot(1,3,1 + i)\n",
    "    plt.hist(\n",
    "        [control_counts[i], random_counts[i]],\n",
    "        bins=[0.5, 1.5, 2.5, 3.5, 4.5],\n",
    "        label=['Control', 'Random-Pod'], zorder=3)\n",
    "    plt.ylim([0,30])\n",
    "    plt.xticks(range(1,5))\n",
    "    plt.xlabel('Comment Ct.')\n",
    "    plt.ylabel('Participant Ct.')\n",
    "    plt.grid(axis=\"y\")\n",
    "    plt.title(\"Stage {}\".format(i+1))\n",
    "    if i == 2:\n",
    "        plt.legend(fontsize=6)\n",
    "\n",
    "plt.tight_layout()\n",
    "plt.savefig(exp.get_filename('fig-comment-counts.eps'))\n",
    "plt.savefig(exp.get_filename('fig-comment-counts.png'), dpi=600)"
   ]
  },
  {
   "cell_type": "code",
   "execution_count": null,
   "id": "90fbfe83-b0de-47d5-b5c6-7ce84bcfac0e",
   "metadata": {},
   "outputs": [],
   "source": [
    "control_counts = activity_counts(df_control)\n",
    "random_counts = activity_counts(df_random)\n",
    "\n",
    "control_totals = [sum(stage) for stage in control_counts]\n",
    "random_totals = [sum(stage) for stage in random_counts]\n",
    "\n",
    "control_entropy = [spstats.entropy(stage) for stage in control_counts]\n",
    "random_entropy = [spstats.entropy(stage) for stage in random_counts]\n",
    "\n",
    "plt.figure(figsize=(6,3))\n",
    "\n",
    "plt.subplot(1,2,1)\n",
    "plt.plot(control_totals, '.-', label='Control')\n",
    "plt.plot(random_totals, '.-', label='Random-Pod')\n",
    "plt.ylim([0,55])\n",
    "plt.xticks(range(3), labels=range(1,4))\n",
    "plt.xlabel('Stage')\n",
    "plt.ylabel('Total Comments')\n",
    "plt.grid()\n",
    "plt.legend()\n",
    "\n",
    "plt.subplot(1,2,2)\n",
    "plt.plot(control_entropy, '.-', label='Control')\n",
    "plt.plot(random_entropy, '.-', label='Random-Pod')\n",
    "plt.xticks(range(3), labels=range(1,4))\n",
    "plt.xlabel('Stage')\n",
    "plt.ylabel('Entropy')\n",
    "plt.grid()\n",
    "plt.legend()\n",
    "\n",
    "plt.tight_layout()\n",
    "\n",
    "plt.savefig(exp.get_filename('fig-comment-stages.eps'))\n",
    "plt.savefig(exp.get_filename('fig-comment-stages.png'), dpi=600)"
   ]
  },
  {
   "cell_type": "code",
   "execution_count": null,
   "id": "9a526317-e3f2-4afb-afdc-1c9baf907e49",
   "metadata": {},
   "outputs": [],
   "source": []
  }
 ],
 "metadata": {
  "kernelspec": {
   "display_name": "Python 3 (ipykernel)",
   "language": "python",
   "name": "python3"
  },
  "language_info": {
   "codemirror_mode": {
    "name": "ipython",
    "version": 3
   },
   "file_extension": ".py",
   "mimetype": "text/x-python",
   "name": "python",
   "nbconvert_exporter": "python",
   "pygments_lexer": "ipython3",
   "version": "3.9.5"
  }
 },
 "nbformat": 4,
 "nbformat_minor": 5
}
