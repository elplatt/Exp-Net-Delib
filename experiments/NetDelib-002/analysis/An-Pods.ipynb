{
 "cells": [
  {
   "cell_type": "code",
   "execution_count": null,
   "id": "f25b1819-e509-492b-a4ac-03d6493b3a5d",
   "metadata": {},
   "outputs": [],
   "source": [
    "import math\n",
    "from matplotlib import pyplot as plt\n",
    "import numpy as np\n",
    "import numpy.random as nprand\n",
    "import pandas as pd\n",
    "import random\n",
    "import scipy.stats as spstats\n",
    "%matplotlib inline\n",
    "\n",
    "from loomio import *\n",
    "from socialchoice import *\n",
    "from netdelib import *"
   ]
  },
  {
   "cell_type": "code",
   "execution_count": null,
   "id": "ed7a0a63-d2b8-46eb-ac79-e33aeb0dc2a8",
   "metadata": {},
   "outputs": [],
   "source": [
    "df_score, proposal_map, proposal_rev_map = load_loomio_score('results/results_2_3.tsv')\n",
    "df_score = fill_attrition(df_score)\n",
    "\n",
    "treatments = {\n",
    "    1: \"Single Group\",\n",
    "    2: \"Random Pod\",\n",
    "}\n",
    "\n",
    "df_control = df_score[df_score.treatment == 1]\n",
    "df_random = df_score[df_score.treatment == 2]"
   ]
  },
  {
   "cell_type": "code",
   "execution_count": null,
   "id": "e4699a20-1172-4829-a22b-a9f2968a4a7b",
   "metadata": {},
   "outputs": [],
   "source": [
    "control_preferences = make_preference_sequence_collection(df_control)\n",
    "random_preferences = make_preference_sequence_collection(df_random)"
   ]
  },
  {
   "cell_type": "code",
   "execution_count": null,
   "id": "8fed7242-bf13-49d1-aca1-32efe42127c2",
   "metadata": {},
   "outputs": [],
   "source": [
    "# Note: in this file, stages 0-2 correspond to deliberation pods.\n",
    "# Stage 3 is the final survey.\n",
    "df_pods = pd.read_csv('results/pods_2_3.tsv', delimiter='\\t')\n",
    "df_random_pods = df_pods[df_pods.treatment == 2]"
   ]
  },
  {
   "cell_type": "code",
   "execution_count": null,
   "id": "17e491a1-2092-43bb-ac88-9c8d6449f35d",
   "metadata": {},
   "outputs": [],
   "source": [
    "stages = [1,2,3]\n",
    "\n",
    "all_pods = {}\n",
    "\n",
    "t = []\n",
    "delta = []\n",
    "\n",
    "for stage in stages:\n",
    "    stage_pods = set()\n",
    "    pre_stage = stage - 1\n",
    "    post_stage = stage\n",
    "    df_stage = df_random_pods[df_random_pods.stage == pre_stage]\n",
    "    pods = set(df_stage.pod)\n",
    "    for pod in pods:\n",
    "        df_pod = df_stage[df_stage.pod == pod]\n",
    "        pod_participants = frozenset(df_pod.user_id)\n",
    "        if len(pod_participants) < 2:\n",
    "            continue\n",
    "        pre_preferences = [random_preferences[part][pre_stage] for part in pod_participants]\n",
    "        post_preferences = [random_preferences[part][post_stage] for part in pod_participants]\n",
    "        pre_profile = Profile(pre_preferences)\n",
    "        post_profile = Profile(post_preferences)\n",
    "        d = post_profile.agreement_crossing() - pre_profile.agreement_crossing()\n",
    "        t.append(stage)\n",
    "        delta.append(d)\n",
    "    all_pods[stage] = stage_pods"
   ]
  },
  {
   "cell_type": "code",
   "execution_count": null,
   "id": "df5243fc-3d45-4ccb-9ced-6b444eb8d908",
   "metadata": {},
   "outputs": [],
   "source": [
    "plt.figure(figsize=(4,4))\n",
    "plt.plot(t, delta, '.')\n",
    "plt.grid()\n",
    "plt.xticks([1,2,3])\n",
    "plt.yticks([-2, -1, 0, 1, 2])\n",
    "plt.xlim([0.5,3.5])\n",
    "plt.tight_layout()\n",
    "plt.xlabel('Stage')\n",
    "plt.ylabel('Change in Pod Agreement (crossing)')"
   ]
  },
  {
   "cell_type": "code",
   "execution_count": null,
   "id": "f0039cb3-761b-4a44-bc08-08f0e7fe92cc",
   "metadata": {},
   "outputs": [],
   "source": []
  }
 ],
 "metadata": {
  "kernelspec": {
   "display_name": "Python 3 (ipykernel)",
   "language": "python",
   "name": "python3"
  },
  "language_info": {
   "codemirror_mode": {
    "name": "ipython",
    "version": 3
   },
   "file_extension": ".py",
   "mimetype": "text/x-python",
   "name": "python",
   "nbconvert_exporter": "python",
   "pygments_lexer": "ipython3",
   "version": "3.9.5"
  }
 },
 "nbformat": 4,
 "nbformat_minor": 5
}
