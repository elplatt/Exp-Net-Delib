{
 "cells": [
  {
   "cell_type": "code",
   "execution_count": null,
   "id": "f25b1819-e509-492b-a4ac-03d6493b3a5d",
   "metadata": {},
   "outputs": [],
   "source": [
    "import math\n",
    "\n",
    "import matplotlib\n",
    "from matplotlib import pyplot as plt\n",
    "import numpy as np\n",
    "import numpy.random as nprand\n",
    "import pandas as pd\n",
    "import random\n",
    "import scipy.stats as spstats\n",
    "%matplotlib inline\n",
    "\n",
    "from loomio import *\n",
    "from socialchoice import *\n",
    "from netdelib import *\n",
    "\n",
    "matplotlib.rcParams['font.size'] = 9\n",
    "matplotlib.rcParams['figure.dpi'] = 150\n",
    "matplotlib.rcParams['lines.markersize'] = 9"
   ]
  },
  {
   "cell_type": "code",
   "execution_count": null,
   "id": "ed7a0a63-d2b8-46eb-ac79-e33aeb0dc2a8",
   "metadata": {},
   "outputs": [],
   "source": [
    "df_score, proposal_map, proposal_rev_map = load_loomio_score('results/results_2_3.tsv')\n",
    "\n",
    "treatments = {\n",
    "    1: \"Single Group\",\n",
    "    2: \"Random Pod\",\n",
    "}\n",
    "\n",
    "df_control = df_score[df_score.treatment == 1]\n",
    "df_random = df_score[df_score.treatment == 2]"
   ]
  },
  {
   "cell_type": "code",
   "execution_count": null,
   "id": "549f76f1-3206-453f-8412-72158d99e674",
   "metadata": {},
   "outputs": [],
   "source": [
    "df_counts = df_score.groupby('participant_id').count()\n",
    "attrition = df_counts[df_counts.stage < 4].index\n",
    "df_attrition = df_score.query('participant_id in ' + str(list(attrition)))\n",
    "control_attrition_prefs = make_preference_sequence_collection(df_attrition[df_attrition.treatment == 1])\n",
    "random_attrition_prefs = make_preference_sequence_collection(df_attrition[df_attrition.treatment == 2])"
   ]
  },
  {
   "cell_type": "code",
   "execution_count": null,
   "id": "426c1e2b-7de4-4b60-a2fb-e455d894356c",
   "metadata": {},
   "outputs": [],
   "source": [
    "print(control_attrition_prefs.display())"
   ]
  },
  {
   "cell_type": "code",
   "execution_count": null,
   "id": "c00744f8-928e-464d-aa7b-76be0104e503",
   "metadata": {},
   "outputs": [],
   "source": [
    "print(random_attrition_prefs.display())"
   ]
  },
  {
   "cell_type": "code",
   "execution_count": null,
   "id": "06156cd9-9b2b-440a-98f9-c7c8d569f2e2",
   "metadata": {},
   "outputs": [],
   "source": []
  },
  {
   "cell_type": "code",
   "execution_count": null,
   "id": "77ef74fc-ad11-4dc8-850e-9da732949864",
   "metadata": {},
   "outputs": [],
   "source": []
  }
 ],
 "metadata": {
  "kernelspec": {
   "display_name": "Python 3 (ipykernel)",
   "language": "python",
   "name": "python3"
  },
  "language_info": {
   "codemirror_mode": {
    "name": "ipython",
    "version": 3
   },
   "file_extension": ".py",
   "mimetype": "text/x-python",
   "name": "python",
   "nbconvert_exporter": "python",
   "pygments_lexer": "ipython3",
   "version": "3.9.5"
  }
 },
 "nbformat": 4,
 "nbformat_minor": 5
}
