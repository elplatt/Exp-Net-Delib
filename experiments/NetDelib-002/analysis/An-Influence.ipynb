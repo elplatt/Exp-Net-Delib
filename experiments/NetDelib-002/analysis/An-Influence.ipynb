{
 "cells": [
  {
   "cell_type": "code",
   "execution_count": null,
   "id": "f25b1819-e509-492b-a4ac-03d6493b3a5d",
   "metadata": {},
   "outputs": [],
   "source": [
    "import math\n",
    "from matplotlib import pyplot as plt\n",
    "import numpy as np\n",
    "import numpy.random as nprand\n",
    "import pandas as pd\n",
    "import random\n",
    "import scipy.stats as spstats\n",
    "%matplotlib inline\n",
    "\n",
    "from loomio import *\n",
    "from socialchoice import *\n",
    "from netdelib import *"
   ]
  },
  {
   "cell_type": "code",
   "execution_count": null,
   "id": "ed7a0a63-d2b8-46eb-ac79-e33aeb0dc2a8",
   "metadata": {},
   "outputs": [],
   "source": [
    "df_score, proposal_map, proposal_rev_map = load_loomio_score('results/results_2_3.tsv')\n",
    "df_score = fill_attrition(df_score)\n",
    "\n",
    "treatments = {\n",
    "    1: \"Single Group\",\n",
    "    2: \"Random Pod\",\n",
    "}\n",
    "\n",
    "df_control = df_score[df_score.treatment == 1]\n",
    "df_random = df_score[df_score.treatment == 2]"
   ]
  },
  {
   "cell_type": "code",
   "execution_count": null,
   "id": "e4699a20-1172-4829-a22b-a9f2968a4a7b",
   "metadata": {},
   "outputs": [],
   "source": [
    "control_preferences = make_preference_sequence_collection(df_control)\n",
    "random_preferences = make_preference_sequence_collection(df_random)\n",
    "        "
   ]
  },
  {
   "cell_type": "code",
   "execution_count": null,
   "id": "5ae57b08-9697-4870-be92-9cc489b7e811",
   "metadata": {},
   "outputs": [],
   "source": [
    "\n",
    "def attraction(participant_id, preferences):\n",
    "    p = preferences[participant_id]\n",
    "    attraction_q = []\n",
    "    for q_id, q in preferences.items():\n",
    "        if q_id == participant_id:\n",
    "            # Avoid self-comparison\n",
    "            continue\n",
    "        # Calculate distances\n",
    "        initial = p[0].crossing_dissimilarity(q[0])\n",
    "        final = p[3].crossing_dissimilarity(q[3])\n",
    "        dp = p[0].crossing_dissimilarity(p[3])\n",
    "        dq = q[0].crossing_dissimilarity(q[3])\n",
    "        # Calculate attraction\n",
    "        try:\n",
    "            attraction_q.append(-1 * (final - initial) * (dq / (dq + dp)))\n",
    "        except ZeroDivisionError:\n",
    "            # Both dq and dp are zero, no contribution to influence of p\n",
    "            attraction_q.append(0)\n",
    "    return np.mean(attraction_q)\n",
    "\n",
    "def attraction_all(preferences):\n",
    "    results = {}\n",
    "    for p_id, p in preferences.items():\n",
    "        results[p_id] = attraction(p_id, preferences)\n",
    "    return results\n",
    "\n",
    "control_attraction = list(attraction_all(control_preferences).values())\n",
    "random_attraction = list(attraction_all(random_preferences).values())\n"
   ]
  },
  {
   "cell_type": "code",
   "execution_count": null,
   "id": "fd0e978c-37ba-4ff4-ae6b-828554d1924e",
   "metadata": {},
   "outputs": [],
   "source": [
    "plt.hist([control_attraction, random_attraction], label=[\"Control\", \"Random-Pod\"])\n",
    "plt.legend()"
   ]
  },
  {
   "cell_type": "code",
   "execution_count": null,
   "id": "2f24b27a-2507-496c-9d62-a51b9bc4b14f",
   "metadata": {},
   "outputs": [],
   "source": [
    "plt.figure(figsize=(8,4))\n",
    "\n",
    "plt.subplot(1,2,1)\n",
    "x = np.array(sorted(control_attraction,reverse=True))\n",
    "plt.plot(range(1, len(x)+1), x, label=\"Control\")\n",
    "x = np.array(sorted(random_attraction, reverse=True))\n",
    "plt.plot(range(1, len(x)+1), x, label=\"Random-Pod\")\n",
    "plt.xticks([1, 9, 17, 26, 33])\n",
    "plt.ylim([-0.15, 0.15])\n",
    "plt.xlabel('Participant')\n",
    "plt.ylabel('Hipness')\n",
    "plt.grid()\n",
    "plt.legend()\n",
    "\n",
    "plt.subplot(1,2,2)\n",
    "x = np.array(sorted(control_attraction,reverse=True))\n",
    "plt.plot([0] + [sum(x[:i+1]) for i, xi in enumerate(x)], label=\"Control\")\n",
    "x = np.array(sorted(random_attraction, reverse=True))\n",
    "plt.plot([0] + [sum(x[:i+1]) for i, xi in enumerate(x)], label=\"Random-Pod\")\n",
    "plt.xticks([1, 9, 17, 26, 33])\n",
    "plt.ylim([-0.75, 0.75])\n",
    "plt.xlabel('Participant')\n",
    "plt.ylabel('Hipness (cumulative)')\n",
    "plt.grid()\n",
    "plt.legend()\n",
    "\n",
    "plt.tight_layout()\n",
    "plt.savefig('fig-hipness.eps')"
   ]
  },
  {
   "cell_type": "code",
   "execution_count": null,
   "id": "69f9a977-f144-4556-baa6-8e3fd8d79514",
   "metadata": {},
   "outputs": [],
   "source": [
    "control_dict = attraction_all(control_preferences)\n",
    "random_dict = attraction_all(random_preferences)\n"
   ]
  },
  {
   "cell_type": "code",
   "execution_count": null,
   "id": "d5e2d840-40c9-4960-9410-fc1cf622d470",
   "metadata": {},
   "outputs": [],
   "source": [
    "control_sorted = sorted(control_dict.items(), key=lambda x: x[1])\n",
    "random_sorted = sorted(random_dict.items(), key=lambda x: x[1])\n"
   ]
  },
  {
   "cell_type": "code",
   "execution_count": null,
   "id": "bdfdb678-7f7d-4fa8-b4ae-70ff869592f1",
   "metadata": {},
   "outputs": [],
   "source": [
    "control_low = control_sorted[0][0]\n",
    "control_high = control_sorted[-1][0]\n",
    "random_low = random_sorted[0][0]\n",
    "random_high = random_sorted[-1][0]"
   ]
  },
  {
   "cell_type": "code",
   "execution_count": null,
   "id": "ed8a2604-665c-4549-b145-470150049b07",
   "metadata": {},
   "outputs": [],
   "source": [
    "print(control_preferences[control_low].display())\n",
    "print(control_preferences[control_high].display())"
   ]
  },
  {
   "cell_type": "code",
   "execution_count": null,
   "id": "e8972417-7ac3-4996-b8d2-b8e18470d20f",
   "metadata": {},
   "outputs": [],
   "source": [
    "def conformity(participant_id, preferences):\n",
    "    p = preferences[participant_id]\n",
    "    conformity_q = []\n",
    "    for q_id, q in preferences.items():\n",
    "        if q_id == participant_id:\n",
    "            # Avoid self-comparison\n",
    "            continue\n",
    "        # Calculate distances\n",
    "        initial = p[0].crossing_dissimilarity(q[0])\n",
    "        final = p[3].crossing_dissimilarity(q[3])\n",
    "        dp = p[0].crossing_dissimilarity(p[3])\n",
    "        dq = q[0].crossing_dissimilarity(q[3])\n",
    "        # Calculate confority\n",
    "        try:\n",
    "            conformity_q.append(-1 * (final - initial) * (dp / (dq + dp)))\n",
    "        except ZeroDivisionError:\n",
    "            # Both dq and dp are zero, no contribution to influence of p\n",
    "            conformity_q.append(0)\n",
    "    return np.mean(conformity_q)\n",
    "\n",
    "def conformity_all(preferences):\n",
    "    results = {}\n",
    "    for p_id, p in preferences.items():\n",
    "        results[p_id] = conformity(p_id, preferences)\n",
    "    return results"
   ]
  },
  {
   "cell_type": "code",
   "execution_count": null,
   "id": "50541e4a-c955-48cc-a267-4d6ad61111b6",
   "metadata": {},
   "outputs": [],
   "source": [
    "control_conformity = list(conformity_all(control_preferences).values())\n",
    "random_conformity = list(conformity_all(random_preferences).values())\n"
   ]
  },
  {
   "cell_type": "code",
   "execution_count": null,
   "id": "ffc32ee5-c5c6-45f8-8ffa-dcaf0de57675",
   "metadata": {},
   "outputs": [],
   "source": [
    "plt.figure(figsize=(8,4))\n",
    "\n",
    "plt.subplot(1,2,1)\n",
    "x = np.array(sorted(control_conformity,reverse=True))\n",
    "plt.plot(range(1, len(x)+1), x, label=\"Control\")\n",
    "x = np.array(sorted(random_conformity, reverse=True))\n",
    "plt.plot(range(1, len(x)+1), x, label=\"Random-Pod\")\n",
    "plt.xlabel('Participant')\n",
    "plt.ylabel('Conformity')\n",
    "plt.xticks([1, 9, 17, 26, 33])\n",
    "plt.ylim([-0.25, 0.25])\n",
    "plt.grid()\n",
    "plt.legend()\n",
    "\n",
    "plt.subplot(1,2,2)\n",
    "x = np.array(sorted(control_conformity,reverse=True))\n",
    "plt.plot([0] + [sum(x[:i+1]) for i, xi in enumerate(x)], label=\"Control\")\n",
    "x = np.array(sorted(random_conformity, reverse=True))\n",
    "plt.plot([0] + [sum(x[:i+1]) for i, xi in enumerate(x)], label=\"Random-Pod\")\n",
    "plt.xlabel('Participant')\n",
    "plt.ylabel('Conformity (cumulative)')\n",
    "plt.xticks([1, 9, 17, 26, 33])\n",
    "plt.ylim([-1.25, 1.25])\n",
    "plt.grid()\n",
    "plt.legend()\n",
    "\n",
    "plt.tight_layout()\n",
    "plt.savefig('fig-conformity.eps')"
   ]
  },
  {
   "cell_type": "code",
   "execution_count": null,
   "id": "d8b6eebb-d337-4599-a7d6-ce517cd71f2c",
   "metadata": {},
   "outputs": [],
   "source": [
    "sum(control_conformity)"
   ]
  },
  {
   "cell_type": "code",
   "execution_count": null,
   "id": "0f00754a-a537-4eae-8952-d3e86630af35",
   "metadata": {},
   "outputs": [],
   "source": [
    "sum(random_conformity)"
   ]
  },
  {
   "cell_type": "code",
   "execution_count": null,
   "id": "8fed7242-bf13-49d1-aca1-32efe42127c2",
   "metadata": {},
   "outputs": [],
   "source": []
  }
 ],
 "metadata": {
  "kernelspec": {
   "display_name": "Python 3 (ipykernel)",
   "language": "python",
   "name": "python3"
  },
  "language_info": {
   "codemirror_mode": {
    "name": "ipython",
    "version": 3
   },
   "file_extension": ".py",
   "mimetype": "text/x-python",
   "name": "python",
   "nbconvert_exporter": "python",
   "pygments_lexer": "ipython3",
   "version": "3.9.5"
  }
 },
 "nbformat": 4,
 "nbformat_minor": 5
}
