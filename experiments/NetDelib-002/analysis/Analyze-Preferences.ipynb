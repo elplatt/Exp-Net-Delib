{
 "cells": [
  {
   "cell_type": "code",
   "execution_count": null,
   "metadata": {},
   "outputs": [],
   "source": [
    "import math\n",
    "from matplotlib import pyplot as plt\n",
    "import numpy as np\n",
    "import numpy.random as nprand\n",
    "import pandas as pd\n",
    "import random\n",
    "import scipy.stats as spstats\n",
    "%matplotlib inline\n",
    "\n",
    "from loomio import *\n",
    "from socialchoice import *\n",
    "from timeseries import *"
   ]
  },
  {
   "cell_type": "code",
   "execution_count": null,
   "metadata": {},
   "outputs": [],
   "source": [
    "df_score, proposal_map, proposal_rev_map = load_loomio_score('results/results_2_3.tsv')\n",
    "stage_profiles = [\n",
    "    Profile.from_score(df_score[df_score.stage == stage])\n",
    "    for stage in sorted(set(df_score.stage))]\n",
    "\n",
    "Methods = [Majority, Borda, Tideman]\n",
    "print('stage\\t' + '\\t'.join([M.__name__ for M in Methods]))\n",
    "for stage, profile in enumerate(stage_profiles):\n",
    "    winners = [repr(M(profile).social_choice()) for M in Methods]\n",
    "    print(str(stage) + '\\t' + '\\t'.join(winners))\n"
   ]
  },
  {
   "cell_type": "markdown",
   "metadata": {},
   "source": [
    "## Group-Level Results"
   ]
  },
  {
   "cell_type": "code",
   "execution_count": null,
   "metadata": {},
   "outputs": [],
   "source": [
    "df_score, proposal_map, proposal_rev_map = load_loomio_score('results/results_2_3.tsv')\n",
    "\n",
    "treatments = {\n",
    "    1: \"Single Group\",\n",
    "    2: \"Random Pod\",\n",
    "}\n",
    "\n",
    "for treatment in [1, 2]:\n",
    "    print(\"Treatment: {}\".format(treatments[treatment]))\n",
    "    stage_profiles = [\n",
    "        Profile.from_score(df_score[(df_score.stage == stage) & (df_score.treatment == treatment)])\n",
    "        for stage in sorted(set(df_score.stage))]\n",
    "\n",
    "    Methods = [Majority, Borda, Tideman]\n",
    "    print('stage\\t' + '\\t'.join([M.__name__ for M in Methods]))\n",
    "    for stage, profile in enumerate(stage_profiles):\n",
    "        winners = [repr(M(profile).social_choice()) for M in Methods]\n",
    "        print(str(stage) + '\\t' + '\\t'.join(winners))\n",
    "    print(\"\")\n"
   ]
  },
  {
   "cell_type": "markdown",
   "metadata": {},
   "source": [
    "### Group-Level Agreement"
   ]
  },
  {
   "cell_type": "code",
   "execution_count": null,
   "metadata": {},
   "outputs": [],
   "source": [
    "control_profiles = [\n",
    "    Profile.from_score(df_score[(df_score.stage == stage) & (df_score.treatment == 1)])\n",
    "    for stage in sorted(set(df_score.stage))]\n",
    "\n",
    "random_profiles = [\n",
    "    Profile.from_score(df_score[(df_score.stage == stage) & (df_score.treatment == 2)])\n",
    "    for stage in sorted(set(df_score.stage))]\n",
    "\n",
    "bootstrap_runs = 10\n",
    "\n",
    "kendall_control = TimeSeriesResult()\n",
    "spearman_control = TimeSeriesResult()\n",
    "tideman_control = TimeSeriesResult()\n",
    "print('Single Group')\n",
    "print('stage\\tkendall\\tspearman\\ttideman')\n",
    "for stage, profile in enumerate(control_profiles):\n",
    "    \n",
    "    kendall_control.add_y(profile.agreement_kendall())\n",
    "    spearman_control.add_y(profile.agreement_spearman())\n",
    "    tideman_control.add_y(Tideman(profile).agreement_tideman())\n",
    "    \n",
    "    for run in range(bootstrap_runs):\n",
    "        p = profile.sample_bootstrap()\n",
    "        kendall_control.add_sample(stage, p.agreement_kendall())\n",
    "        spearman_control.add_sample(stage, p.agreement_spearman())\n",
    "        tideman_control.add_sample(stage, Tideman(p).agreement_tideman())\n",
    "    \n",
    "    print(\"{}\\t{}\\t{}\\t{}\".format(\n",
    "        stage,\n",
    "        kendall_control.y()[stage],\n",
    "        spearman_control.y()[stage],\n",
    "        tideman_control.y()[stage]))\n",
    "\n",
    "    \n",
    "kendall_random = TimeSeriesResult()\n",
    "spearman_random = TimeSeriesResult()\n",
    "tideman_random = TimeSeriesResult()\n",
    "print('\\nRandom Pod')\n",
    "print('stage\\tkendall\\tspearman\\ttideman')\n",
    "for stage, profile in enumerate(random_profiles):\n",
    "    \n",
    "    kendall_random.add_y(profile.agreement_kendall())\n",
    "    spearman_random.add_y(profile.agreement_spearman())\n",
    "    tideman_random.add_y(Tideman(profile).agreement_tideman())\n",
    "    \n",
    "    for run in range(bootstrap_runs):\n",
    "        p = profile.sample_bootstrap()\n",
    "        kendall_random.add_sample(stage, p.agreement_kendall())\n",
    "        spearman_random.add_sample(stage, p.agreement_spearman())\n",
    "        tideman_random.add_sample(stage, Tideman(p).agreement_tideman())\n",
    "    \n",
    "    print(\"{}\\t{}\\t{}\\t{}\".format(\n",
    "        stage,\n",
    "        kendall_random.y()[stage],\n",
    "        spearman_random.y()[stage],\n",
    "        tideman_random.y()[stage]))"
   ]
  },
  {
   "cell_type": "code",
   "execution_count": null,
   "metadata": {},
   "outputs": [],
   "source": [
    "plt.errorbar(range(4), kendall_control.y(), yerr=kendall_control.yerr95(), label='Single Group', capsize=6)\n",
    "plt.errorbar(range(4), kendall_random.y(), yerr=kendall_random.yerr95(), label='Random Pod', capsize=6)\n",
    "plt.xticks(range(4))\n",
    "plt.ylim(0,0.25)\n",
    "plt.xlabel('Stage')\n",
    "plt.ylabel('Kendall Correlation')\n",
    "plt.grid()\n",
    "plt.legend()\n",
    "plt.title('Agreement (Kendall)')"
   ]
  },
  {
   "cell_type": "code",
   "execution_count": null,
   "metadata": {},
   "outputs": [],
   "source": [
    "plt.errorbar(range(4), spearman_control.y(), yerr=spearman_random.yerr95(), label='Single Group', capsize=6)\n",
    "plt.errorbar(range(4), spearman_random.y(), yerr=spearman_random.yerr95(), label='Random Pod', capsize=6)\n",
    "plt.xticks(range(4))\n",
    "plt.ylim(0,0.25)\n",
    "plt.xlabel('Stage')\n",
    "plt.ylabel('Spearman Correlation')\n",
    "plt.grid()\n",
    "plt.legend()\n",
    "plt.title('Agreement (Spearman)')"
   ]
  },
  {
   "cell_type": "code",
   "execution_count": null,
   "metadata": {},
   "outputs": [],
   "source": [
    "plt.plot(range(4), tideman_control.y(), label='Single Group')\n",
    "plt.plot(range(4), tideman_random.y(),  label='Random Pod')\n",
    "plt.xticks(range(4))\n",
    "plt.xlabel('Stage')\n",
    "plt.ylabel('Agreement (tideman)')\n",
    "plt.grid()\n",
    "plt.legend()\n",
    "plt.title('Agreement (tideman)')"
   ]
  },
  {
   "cell_type": "code",
   "execution_count": null,
   "metadata": {},
   "outputs": [],
   "source": []
  },
  {
   "cell_type": "markdown",
   "metadata": {},
   "source": [
    "## Group-Level Results (Remove Attrition)"
   ]
  },
  {
   "cell_type": "code",
   "execution_count": null,
   "metadata": {},
   "outputs": [],
   "source": [
    "df_score, proposal_map, proposal_rev_map = load_loomio_score('results/results_2_3.tsv')\n",
    "df_score = remove_attrition(df_score)\n",
    "\n",
    "treatments = {\n",
    "    1: \"Single Group\",\n",
    "    2: \"Random Pod\",\n",
    "}\n",
    "\n",
    "for treatment in [1, 2]:\n",
    "    print(\"Treatment: {}\".format(treatments[treatment]))\n",
    "    stage_profiles = [\n",
    "        Profile.from_score(df_score[(df_score.stage == stage) & (df_score.treatment == treatment)])\n",
    "        for stage in sorted(set(df_score.stage))]\n",
    "\n",
    "    Methods = [Majority, Borda, Tideman]\n",
    "    print('stage\\t' + '\\t'.join([M.__name__ for M in Methods]))\n",
    "    for stage, profile in enumerate(stage_profiles):\n",
    "        winners = [repr(M(profile).social_choice()) for M in Methods]\n",
    "        print(str(stage) + '\\t' + '\\t'.join(winners))\n",
    "    print(\"\")\n"
   ]
  },
  {
   "cell_type": "markdown",
   "metadata": {},
   "source": [
    "### Group-Level Agreement (Remove Attrition)"
   ]
  },
  {
   "cell_type": "code",
   "execution_count": null,
   "metadata": {},
   "outputs": [],
   "source": [
    "control_profiles = [\n",
    "    Profile.from_score(df_score[(df_score.stage == stage) & (df_score.treatment == 1)])\n",
    "    for stage in sorted(set(df_score.stage))]\n",
    "\n",
    "random_profiles = [\n",
    "    Profile.from_score(df_score[(df_score.stage == stage) & (df_score.treatment == 2)])\n",
    "    for stage in sorted(set(df_score.stage))]\n",
    "\n",
    "bootstrap_runs = 10\n",
    "\n",
    "kendall_control = TimeSeriesResult()\n",
    "spearman_control = TimeSeriesResult()\n",
    "tideman_control = TimeSeriesResult()\n",
    "print('Single Group')\n",
    "print('stage\\tkendall\\tspearman\\ttideman')\n",
    "for stage, profile in enumerate(control_profiles):\n",
    "    \n",
    "    kendall_control.add_y(profile.agreement_kendall())\n",
    "    spearman_control.add_y(profile.agreement_spearman())\n",
    "    tideman_control.add_y(Tideman(profile).agreement_tideman())\n",
    "    \n",
    "    for run in range(bootstrap_runs):\n",
    "        p = profile.sample_bootstrap()\n",
    "        kendall_control.add_sample(stage, p.agreement_kendall())\n",
    "        spearman_control.add_sample(stage, p.agreement_spearman())\n",
    "        tideman_control.add_sample(stage, Tideman(p).agreement_tideman())\n",
    "    \n",
    "    print(\"{}\\t{}\\t{}\\t{}\".format(\n",
    "        stage,\n",
    "        kendall_control.y()[stage],\n",
    "        spearman_control.y()[stage],\n",
    "        tideman_control.y()[stage]))\n",
    "\n",
    "    \n",
    "kendall_random = TimeSeriesResult()\n",
    "spearman_random = TimeSeriesResult()\n",
    "tideman_random = TimeSeriesResult()\n",
    "print('\\nRandom Pod')\n",
    "print('stage\\tkendall\\tspearman\\ttideman')\n",
    "for stage, profile in enumerate(random_profiles):\n",
    "    \n",
    "    kendall_random.add_y(profile.agreement_kendall())\n",
    "    spearman_random.add_y(profile.agreement_spearman())\n",
    "    tideman_random.add_y(Tideman(profile).agreement_tideman())\n",
    "    \n",
    "    for run in range(bootstrap_runs):\n",
    "        p = profile.sample_bootstrap()\n",
    "        kendall_random.add_sample(stage, p.agreement_kendall())\n",
    "        spearman_random.add_sample(stage, p.agreement_spearman())\n",
    "        tideman_random.add_sample(stage, Tideman(p).agreement_tideman())\n",
    "    \n",
    "    print(\"{}\\t{}\\t{}\\t{}\".format(\n",
    "        stage,\n",
    "        kendall_random.y()[stage],\n",
    "        spearman_random.y()[stage],\n",
    "        tideman_random.y()[stage]))"
   ]
  },
  {
   "cell_type": "code",
   "execution_count": null,
   "metadata": {},
   "outputs": [],
   "source": [
    "plt.errorbar(range(4), kendall_control.y(), yerr=kendall_control.yerr95(), label='Single Group', capsize=6)\n",
    "plt.errorbar(range(4), kendall_random.y(), yerr=kendall_random.yerr95(), label='Random Pod', capsize=6)\n",
    "plt.xticks(range(4))\n",
    "plt.ylim(0,0.25)\n",
    "plt.xlabel('Stage')\n",
    "plt.ylabel('Kendall Correlation')\n",
    "plt.grid()\n",
    "plt.legend()\n",
    "plt.title('Agreement (Kendall)')"
   ]
  },
  {
   "cell_type": "code",
   "execution_count": null,
   "metadata": {},
   "outputs": [],
   "source": [
    "plt.errorbar(range(4), spearman_control.y(), yerr=spearman_random.yerr95(), label='Single Group', capsize=6)\n",
    "plt.errorbar(range(4), spearman_random.y(), yerr=spearman_random.yerr95(), label='Random Pod', capsize=6)\n",
    "plt.xticks(range(4))\n",
    "plt.ylim(0,0.25)\n",
    "plt.xlabel('Stage')\n",
    "plt.ylabel('Spearman Correlation')\n",
    "plt.grid()\n",
    "plt.legend()\n",
    "plt.title('Agreement (Spearman)')"
   ]
  },
  {
   "cell_type": "code",
   "execution_count": null,
   "metadata": {},
   "outputs": [],
   "source": [
    "plt.plot(range(4), tideman_control.y(), label='Single Group')\n",
    "plt.plot(range(4), tideman_random.y(),  label='Random Pod')\n",
    "plt.xticks(range(4))\n",
    "plt.xlabel('Stage')\n",
    "plt.ylabel('Agreement (tideman)')\n",
    "plt.grid()\n",
    "plt.legend()\n",
    "plt.title('Agreement (tideman)')"
   ]
  },
  {
   "cell_type": "code",
   "execution_count": null,
   "metadata": {},
   "outputs": [],
   "source": []
  },
  {
   "cell_type": "markdown",
   "metadata": {},
   "source": [
    "## Group-Level Results (Forward-Fill Attrition)"
   ]
  },
  {
   "cell_type": "code",
   "execution_count": null,
   "metadata": {},
   "outputs": [],
   "source": [
    "df_score, proposal_map, proposal_rev_map = load_loomio_score('results/results_2_3.tsv')\n",
    "df_score = fill_attrition(df_score)\n",
    "\n",
    "treatments = {\n",
    "    1: \"Single Group\",\n",
    "    2: \"Random Pod\",\n",
    "}\n",
    "\n",
    "for treatment in [1, 2]:\n",
    "    print(\"Treatment: {}\".format(treatments[treatment]))\n",
    "    stage_profiles = [\n",
    "        Profile.from_score(df_score[(df_score.stage == stage) & (df_score.treatment == treatment)])\n",
    "        for stage in sorted(set(df_score.stage))]\n",
    "\n",
    "    Methods = [Majority, Borda, Tideman]\n",
    "    print('stage\\t' + '\\t'.join([M.__name__ for M in Methods]))\n",
    "    for stage, profile in enumerate(stage_profiles):\n",
    "        winners = [repr(M(profile).social_choice()) for M in Methods]\n",
    "        print(str(stage) + '\\t' + '\\t'.join(winners))\n",
    "    print(\"\")\n"
   ]
  },
  {
   "cell_type": "markdown",
   "metadata": {},
   "source": [
    "### Group-Level Agreement (Forward-Fill Attrition)"
   ]
  },
  {
   "cell_type": "code",
   "execution_count": null,
   "metadata": {},
   "outputs": [],
   "source": [
    "control_profiles = [\n",
    "    Profile.from_score(df_score[(df_score.stage == stage) & (df_score.treatment == 1)])\n",
    "    for stage in sorted(set(df_score.stage))]\n",
    "\n",
    "random_profiles = [\n",
    "    Profile.from_score(df_score[(df_score.stage == stage) & (df_score.treatment == 2)])\n",
    "    for stage in sorted(set(df_score.stage))]\n",
    "\n",
    "bootstrap_runs = 10\n",
    "\n",
    "kendall_control = TimeSeriesResult()\n",
    "spearman_control = TimeSeriesResult()\n",
    "tideman_control = TimeSeriesResult()\n",
    "print('Single Group')\n",
    "print('stage\\tkendall\\tspearman\\ttideman')\n",
    "for stage, profile in enumerate(control_profiles):\n",
    "    \n",
    "    kendall_control.add_y(profile.agreement_kendall())\n",
    "    spearman_control.add_y(profile.agreement_spearman())\n",
    "    tideman_control.add_y(Tideman(profile).agreement_tideman())\n",
    "    \n",
    "    for run in range(bootstrap_runs):\n",
    "        p = profile.sample_bootstrap()\n",
    "        kendall_control.add_sample(stage, p.agreement_kendall())\n",
    "        spearman_control.add_sample(stage, p.agreement_spearman())\n",
    "        tideman_control.add_sample(stage, Tideman(p).agreement_tideman())\n",
    "    \n",
    "    print(\"{}\\t{}\\t{}\\t{}\".format(\n",
    "        stage,\n",
    "        kendall_control.y()[stage],\n",
    "        spearman_control.y()[stage],\n",
    "        tideman_control.y()[stage]))\n",
    "\n",
    "    \n",
    "kendall_random = TimeSeriesResult()\n",
    "spearman_random = TimeSeriesResult()\n",
    "tideman_random = TimeSeriesResult()\n",
    "print('\\nRandom Pod')\n",
    "print('stage\\tkendall\\tspearman\\ttideman')\n",
    "for stage, profile in enumerate(random_profiles):\n",
    "    \n",
    "    kendall_random.add_y(profile.agreement_kendall())\n",
    "    spearman_random.add_y(profile.agreement_spearman())\n",
    "    tideman_random.add_y(Tideman(profile).agreement_tideman())\n",
    "    \n",
    "    for run in range(bootstrap_runs):\n",
    "        p = profile.sample_bootstrap()\n",
    "        kendall_random.add_sample(stage, p.agreement_kendall())\n",
    "        spearman_random.add_sample(stage, p.agreement_spearman())\n",
    "        tideman_random.add_sample(stage, Tideman(p).agreement_tideman())\n",
    "    \n",
    "    print(\"{}\\t{}\\t{}\\t{}\".format(\n",
    "        stage,\n",
    "        kendall_random.y()[stage],\n",
    "        spearman_random.y()[stage],\n",
    "        tideman_random.y()[stage]))"
   ]
  },
  {
   "cell_type": "code",
   "execution_count": null,
   "metadata": {},
   "outputs": [],
   "source": [
    "plt.errorbar(range(4), kendall_control.y(), yerr=kendall_control.yerr95(), label='Single Group', capsize=6)\n",
    "plt.errorbar(range(4), kendall_random.y(), yerr=kendall_random.yerr95(), label='Random Pod', capsize=6)\n",
    "plt.xticks(range(4))\n",
    "plt.ylim(0,0.25)\n",
    "plt.xlabel('Stage')\n",
    "plt.ylabel('Kendall Correlation')\n",
    "plt.grid()\n",
    "plt.legend()\n",
    "plt.title('Agreement (Kendall)')"
   ]
  },
  {
   "cell_type": "code",
   "execution_count": null,
   "metadata": {},
   "outputs": [],
   "source": [
    "plt.errorbar(range(4), spearman_control.y(), yerr=spearman_random.yerr95(), label='Single Group', capsize=6)\n",
    "plt.errorbar(range(4), spearman_random.y(), yerr=spearman_random.yerr95(), label='Random Pod', capsize=6)\n",
    "plt.xticks(range(4))\n",
    "plt.ylim(0,0.25)\n",
    "plt.xlabel('Stage')\n",
    "plt.ylabel('Spearman Correlation')\n",
    "plt.grid()\n",
    "plt.legend()\n",
    "plt.title('Agreement (Spearman)')"
   ]
  },
  {
   "cell_type": "code",
   "execution_count": null,
   "metadata": {},
   "outputs": [],
   "source": [
    "plt.plot(range(4), tideman_control.y(), label='Single Group')\n",
    "plt.plot(range(4), tideman_random.y(),  label='Random Pod')\n",
    "plt.xticks(range(4))\n",
    "plt.xlabel('Stage')\n",
    "plt.ylabel('Agreement (tideman)')\n",
    "plt.grid()\n",
    "plt.legend()\n",
    "plt.title('Agreement (tideman)')"
   ]
  },
  {
   "cell_type": "code",
   "execution_count": null,
   "metadata": {},
   "outputs": [],
   "source": []
  },
  {
   "cell_type": "code",
   "execution_count": null,
   "metadata": {},
   "outputs": [],
   "source": []
  }
 ],
 "metadata": {
  "kernelspec": {
   "display_name": "Python 3 (ipykernel)",
   "language": "python",
   "name": "python3"
  },
  "language_info": {
   "codemirror_mode": {
    "name": "ipython",
    "version": 3
   },
   "file_extension": ".py",
   "mimetype": "text/x-python",
   "name": "python",
   "nbconvert_exporter": "python",
   "pygments_lexer": "ipython3",
   "version": "3.9.5"
  }
 },
 "nbformat": 4,
 "nbformat_minor": 4
}
