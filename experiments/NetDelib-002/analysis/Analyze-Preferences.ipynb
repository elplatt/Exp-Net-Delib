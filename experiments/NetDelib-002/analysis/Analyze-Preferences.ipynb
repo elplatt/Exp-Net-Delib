{
 "cells": [
  {
   "cell_type": "code",
   "execution_count": null,
   "metadata": {},
   "outputs": [],
   "source": [
    "import math\n",
    "from matplotlib import pyplot as plt\n",
    "import numpy as np\n",
    "import numpy.random as nprand\n",
    "import pandas as pd\n",
    "import random\n",
    "import scipy.stats as spstats\n",
    "%matplotlib inline\n",
    "\n",
    "from loomio import *\n",
    "from socialchoice import *\n",
    "from netdelib import *"
   ]
  },
  {
   "cell_type": "code",
   "execution_count": null,
   "metadata": {},
   "outputs": [],
   "source": [
    "df_score, proposal_map, proposal_rev_map = load_loomio_score('results/results_2_3.tsv')\n",
    "stage_profiles = [\n",
    "    Profile.from_score(df_score[df_score.stage == stage])\n",
    "    for stage in sorted(set(df_score.stage))]\n",
    "\n",
    "Methods = [Condorcet, Majority, Borda, Tideman]\n",
    "print('stage\\t' + '\\t'.join([M.__name__ for M in Methods]))\n",
    "for stage, profile in enumerate(stage_profiles):\n",
    "    winners = [repr(M(profile).social_choice()) for M in Methods]\n",
    "    print(str(stage) + '\\t' + '\\t'.join(winners))\n"
   ]
  },
  {
   "cell_type": "markdown",
   "metadata": {},
   "source": [
    "## Group-Level Results"
   ]
  },
  {
   "cell_type": "code",
   "execution_count": null,
   "metadata": {},
   "outputs": [],
   "source": [
    "df_score, proposal_map, proposal_rev_map = load_loomio_score('results/results_2_3.tsv')\n",
    "df_score.groupby(['treatment', 'stage']).count()"
   ]
  },
  {
   "cell_type": "code",
   "execution_count": null,
   "metadata": {},
   "outputs": [],
   "source": [
    "treatments = {\n",
    "    1: \"Single Group\",\n",
    "    2: \"Random Pod\",\n",
    "}\n",
    "\n",
    "for treatment in [1, 2]:\n",
    "    print(\"Treatment: {}\".format(treatments[treatment]))\n",
    "    stage_profiles = [\n",
    "        Profile.from_score(df_score[(df_score.stage == stage) & (df_score.treatment == treatment)])\n",
    "        for stage in sorted(set(df_score.stage))]\n",
    "\n",
    "    Methods = [Condorcet, Majority, Borda, Tideman]\n",
    "    print('stage\\t' + '\\t'.join([M.__name__ for M in Methods]))\n",
    "    for stage, profile in enumerate(stage_profiles):\n",
    "        winners = [repr(M(profile).social_choice()) for M in Methods]\n",
    "        print(str(stage) + '\\t' + '\\t'.join(winners))\n",
    "    print(\"\")\n"
   ]
  },
  {
   "cell_type": "code",
   "execution_count": null,
   "metadata": {},
   "outputs": [],
   "source": [
    "for treatment in [1, 2]:\n",
    "    stage_profiles = [\n",
    "        Profile.from_score(df_score[(df_score.stage == stage) & (df_score.treatment == treatment)])\n",
    "        for stage in sorted(set(df_score.stage))]\n",
    "    for stage, profile in enumerate(stage_profiles):\n",
    "        for pref in KemenyYoung(profile).social_preference_set():\n",
    "            print(\"{}\\t\".format(stage), pref)\n",
    "    print(\"\")\n"
   ]
  },
  {
   "cell_type": "markdown",
   "metadata": {},
   "source": [
    "### Group-Level Agreement"
   ]
  },
  {
   "cell_type": "code",
   "execution_count": null,
   "metadata": {},
   "outputs": [],
   "source": [
    "df_score, proposal_map, proposal_rev_map = load_loomio_score('results/results_2_3.tsv')\n",
    "netdelib = NetDelibAgreement(df_score)"
   ]
  },
  {
   "cell_type": "code",
   "execution_count": null,
   "metadata": {},
   "outputs": [],
   "source": [
    "plt.figure(figsize=(8,4))\n",
    "plt.subplot(1,2,1)\n",
    "netdelib.plot_kendall()\n",
    "plt.subplot(1,2,2)\n",
    "netdelib.plot_swap()\n",
    "plt.tight_layout()"
   ]
  },
  {
   "cell_type": "markdown",
   "metadata": {},
   "source": [
    "## Group-Level Results (Remove Attrition)"
   ]
  },
  {
   "cell_type": "code",
   "execution_count": null,
   "metadata": {},
   "outputs": [],
   "source": [
    "df_score, proposal_map, proposal_rev_map = load_loomio_score('results/results_2_3.tsv')\n",
    "df_score = remove_attrition(df_score)\n",
    "\n",
    "treatments = {\n",
    "    1: \"Single Group\",\n",
    "    2: \"Random Pod\",\n",
    "}\n",
    "\n",
    "for treatment in [1, 2]:\n",
    "    print(\"Treatment: {}\".format(treatments[treatment]))\n",
    "    stage_profiles = [\n",
    "        Profile.from_score(df_score[(df_score.stage == stage) & (df_score.treatment == treatment)])\n",
    "        for stage in sorted(set(df_score.stage))]\n",
    "\n",
    "    Methods = [Majority, Borda, Tideman]\n",
    "    print('stage\\t' + '\\t'.join([M.__name__ for M in Methods]))\n",
    "    for stage, profile in enumerate(stage_profiles):\n",
    "        winners = [repr(M(profile).social_choice()) for M in Methods]\n",
    "        print(str(stage) + '\\t' + '\\t'.join(winners))\n",
    "    print(\"\")\n"
   ]
  },
  {
   "cell_type": "markdown",
   "metadata": {},
   "source": [
    "### Group-Level Agreement (Remove Attrition)"
   ]
  },
  {
   "cell_type": "code",
   "execution_count": null,
   "metadata": {},
   "outputs": [],
   "source": [
    "netdelib = NetDelibAgreement(df_score)"
   ]
  },
  {
   "cell_type": "code",
   "execution_count": null,
   "metadata": {},
   "outputs": [],
   "source": [
    "plt.figure(figsize=(8,4))\n",
    "plt.subplot(1,2,1)\n",
    "netdelib.plot_kendall()\n",
    "plt.subplot(1,2,2)\n",
    "netdelib.plot_swap()\n",
    "plt.tight_layout()"
   ]
  },
  {
   "cell_type": "markdown",
   "metadata": {},
   "source": [
    "## Group-Level Results (Forward-Fill Attrition)"
   ]
  },
  {
   "cell_type": "code",
   "execution_count": null,
   "metadata": {},
   "outputs": [],
   "source": [
    "df_score, proposal_map, proposal_rev_map = load_loomio_score('results/results_2_3.tsv')\n",
    "df_score = fill_attrition(df_score)\n",
    "\n",
    "treatments = {\n",
    "    1: \"Single Group\",\n",
    "    2: \"Random Pod\",\n",
    "}\n",
    "\n",
    "for treatment in [1, 2]:\n",
    "    print(\"Treatment: {}\".format(treatments[treatment]))\n",
    "    stage_profiles = [\n",
    "        Profile.from_score(df_score[(df_score.stage == stage) & (df_score.treatment == treatment)])\n",
    "        for stage in sorted(set(df_score.stage))]\n",
    "\n",
    "    Methods = [Majority, Borda, Tideman]\n",
    "    print('stage\\t' + '\\t'.join([M.__name__ for M in Methods]))\n",
    "    for stage, profile in enumerate(stage_profiles):\n",
    "        winners = [repr(M(profile).social_choice()) for M in Methods]\n",
    "        print(str(stage) + '\\t' + '\\t'.join(winners))\n",
    "    print(\"\")\n"
   ]
  },
  {
   "cell_type": "markdown",
   "metadata": {},
   "source": [
    "### Group-Level Agreement (Forward-Fill Attrition)"
   ]
  },
  {
   "cell_type": "code",
   "execution_count": null,
   "metadata": {},
   "outputs": [],
   "source": [
    "netdelib = NetDelibAgreement(df_score)"
   ]
  },
  {
   "cell_type": "code",
   "execution_count": null,
   "metadata": {},
   "outputs": [],
   "source": [
    "plt.figure(figsize=(8,4))\n",
    "plt.subplot(1,2,1)\n",
    "netdelib.plot_kendall()\n",
    "plt.subplot(1,2,2)\n",
    "netdelib.plot_swap()\n",
    "plt.tight_layout()"
   ]
  },
  {
   "cell_type": "code",
   "execution_count": null,
   "metadata": {},
   "outputs": [],
   "source": []
  }
 ],
 "metadata": {
  "kernelspec": {
   "display_name": "Python 3 (ipykernel)",
   "language": "python",
   "name": "python3"
  },
  "language_info": {
   "codemirror_mode": {
    "name": "ipython",
    "version": 3
   },
   "file_extension": ".py",
   "mimetype": "text/x-python",
   "name": "python",
   "nbconvert_exporter": "python",
   "pygments_lexer": "ipython3",
   "version": "3.9.5"
  }
 },
 "nbformat": 4,
 "nbformat_minor": 4
}
