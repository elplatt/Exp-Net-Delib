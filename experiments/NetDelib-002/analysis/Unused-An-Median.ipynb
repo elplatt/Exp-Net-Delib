{
 "cells": [
  {
   "cell_type": "code",
   "execution_count": null,
   "metadata": {},
   "outputs": [],
   "source": [
    "import math\n",
    "from matplotlib import pyplot as plt\n",
    "import numpy as np\n",
    "import numpy.random as nprand\n",
    "import pandas as pd\n",
    "import random\n",
    "import scipy.stats as spstats\n",
    "%matplotlib inline\n",
    "\n",
    "from loomio import *\n",
    "from socialchoice import *\n",
    "from netdelib import *"
   ]
  },
  {
   "cell_type": "markdown",
   "metadata": {},
   "source": [
    "### Median Evolution"
   ]
  },
  {
   "cell_type": "code",
   "execution_count": null,
   "metadata": {},
   "outputs": [],
   "source": [
    "df_score, proposal_map, proposal_rev_map = load_loomio_score('results/results_2_3.tsv')\n",
    "df_score = fill_attrition(df_score)\n",
    "\n",
    "treatments = {\n",
    "    1: \"Single Group\",\n",
    "    2: \"Random Pod\",\n",
    "}\n",
    "\n",
    "df_control = df_score[df_score.treatment == 1]\n",
    "df_random = df_score[df_score.treatment == 2]\n",
    "\n",
    "control_preferences = [make_crossing_set(df_control, stage) for stage in range(4)]\n",
    "random_preferences = [make_crossing_set(df_random, stage) for stage in range(4)]\n"
   ]
  },
  {
   "cell_type": "code",
   "execution_count": null,
   "metadata": {},
   "outputs": [],
   "source": [
    "preferences = control_preferences\n",
    "similarity = []\n",
    "similarity_kendall = []\n",
    "print(\"Control\")\n",
    "for stage in range(0,4):\n",
    "    total = 0\n",
    "    count = 0\n",
    "    total_kendall = 0\n",
    "    for p in list(preferences[0]):\n",
    "        for q in list(preferences[stage]):\n",
    "            print(\"{}\\t{}\".format(stage, Preference(q).display()))\n",
    "            total += 1 - 2 * Preference(p).crossing_dissimilarity(q)\n",
    "            total_kendall += 1 - 2 * Preference(p).kendall_tau(q, normalize=True)\n",
    "            count += 1\n",
    "    similarity.append(total / count)\n",
    "    similarity_kendall.append(total_kendall / count)\n",
    "    print('-')\n",
    "control_similarity = similarity\n",
    "control_similarity_kendall = similarity_kendall\n",
    "                     \n",
    "preferences = random_preferences\n",
    "similarity = []\n",
    "similarity_kendall = []\n",
    "print(\"Random-Pod\")\n",
    "for stage in range(0,4):\n",
    "    total = 0\n",
    "    count = 0\n",
    "    total_kendall = 0\n",
    "    for p in list(preferences[0]):\n",
    "        for q in list(preferences[stage]):\n",
    "            print(\"{}\\t{}\".format(stage, Preference(q).display()))\n",
    "            total += 1 - 2 * Preference(p).crossing_dissimilarity(q)\n",
    "            total_kendall += 1 - 2 * Preference(p).kendall_tau(q, normalize=True)\n",
    "            count += 1\n",
    "    similarity.append(total / count)\n",
    "    similarity_kendall.append(total_kendall / count)\n",
    "    print('-')\n",
    "random_similarity = similarity\n",
    "random_similarity_kendall = similarity_kendall\n",
    "                     "
   ]
  },
  {
   "cell_type": "code",
   "execution_count": null,
   "metadata": {},
   "outputs": [],
   "source": [
    "plt.figure(figsize=(8,4))\n",
    "\n",
    "plt.subplot(1,2,1)\n",
    "plt.plot(range(4), control_similarity_kendall, label=\"Control\")\n",
    "plt.plot(range(4), random_similarity_kendall, label=\"Random-Pod\")\n",
    "plt.legend()\n",
    "plt.grid()\n",
    "\n",
    "plt.subplot(1,2,2)\n",
    "plt.plot(range(4), control_similarity, label=\"Control\")\n",
    "plt.plot(range(4), random_similarity, label=\"Random-Pod\")\n",
    "plt.legend()\n",
    "plt.grid()\n",
    "\n",
    "plt.tight_layout()"
   ]
  },
  {
   "cell_type": "code",
   "execution_count": null,
   "metadata": {},
   "outputs": [],
   "source": []
  }
 ],
 "metadata": {
  "kernelspec": {
   "display_name": "Python 3 (ipykernel)",
   "language": "python",
   "name": "python3"
  },
  "language_info": {
   "codemirror_mode": {
    "name": "ipython",
    "version": 3
   },
   "file_extension": ".py",
   "mimetype": "text/x-python",
   "name": "python",
   "nbconvert_exporter": "python",
   "pygments_lexer": "ipython3",
   "version": "3.9.5"
  }
 },
 "nbformat": 4,
 "nbformat_minor": 4
}
