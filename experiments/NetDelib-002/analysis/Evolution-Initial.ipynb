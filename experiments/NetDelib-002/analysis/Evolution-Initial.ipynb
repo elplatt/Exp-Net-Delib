{
 "cells": [
  {
   "cell_type": "code",
   "execution_count": null,
   "metadata": {},
   "outputs": [],
   "source": [
    "import math\n",
    "from matplotlib import pyplot as plt\n",
    "import numpy as np\n",
    "import numpy.random as nprand\n",
    "import pandas as pd\n",
    "import random\n",
    "import scipy.stats as spstats\n",
    "%matplotlib inline\n",
    "\n",
    "from loomio import *\n",
    "from socialchoice import *\n",
    "from timeseries import *"
   ]
  },
  {
   "cell_type": "markdown",
   "metadata": {},
   "source": [
    "## Evolution - Combined"
   ]
  },
  {
   "cell_type": "code",
   "execution_count": null,
   "metadata": {},
   "outputs": [],
   "source": [
    "df_score, proposal_map, proposal_rev_map = load_loomio_score('results/results_2_3.tsv')\n",
    "collection = make_preference_sequence_collection(df_score)\n",
    "\n",
    "participant_ids = collection.participant_ids()\n",
    "kendall = TimeSeriesResult()\n",
    "spearman = TimeSeriesResult()\n",
    "for stage in range(0, 4):\n",
    "    for participant_id in participant_ids:\n",
    "        initial_preference = collection[participant_id][0]\n",
    "        try:\n",
    "            stage_preference = collection[participant_id][stage]\n",
    "            r, p = spstats.kendalltau(initial_preference.ranks(), stage_preference.ranks())\n",
    "            kendall.add_sample(stage, r)\n",
    "            r, p = spstats.spearmanr(initial_preference.ranks(), stage_preference.ranks())\n",
    "            spearman.add_sample(stage, r)\n",
    "        except:\n",
    "            continue\n"
   ]
  },
  {
   "cell_type": "code",
   "execution_count": null,
   "metadata": {},
   "outputs": [],
   "source": [
    "kendall.totals, kendall.squares"
   ]
  },
  {
   "cell_type": "code",
   "execution_count": null,
   "metadata": {},
   "outputs": [],
   "source": [
    "plt.errorbar(range(0,4), kendall.mean(), yerr=kendall.yerr95(), label=\"Kendall\", capsize=6)\n",
    "plt.errorbar(range(0,4), spearman.mean(), yerr=spearman.yerr95(), label=\"Spearman\", capsize=6)\n",
    "plt.xticks(range(4))\n",
    "plt.xlabel('Stage')\n",
    "plt.ylabel('Agreement')\n",
    "plt.grid()\n",
    "plt.legend()\n",
    "plt.title('Self-Agreement (Combined)')"
   ]
  },
  {
   "cell_type": "markdown",
   "metadata": {},
   "source": [
    "## Evolution - Group Level"
   ]
  },
  {
   "cell_type": "code",
   "execution_count": null,
   "metadata": {},
   "outputs": [],
   "source": [
    "df_score, proposal_map, proposal_rev_map = load_loomio_score('results/results_2_3.tsv')\n",
    "df_control = df_score[df_score.treatment == 1]\n",
    "df_random = df_score[df_score.treatment == 2]\n",
    "\n",
    "control_collection = make_preference_sequence_collection(df_control)\n",
    "random_collection = make_preference_sequence_collection(df_random)\n",
    "\n",
    "participant_ids = control_collection.participant_ids()\n",
    "kendall_control = TimeSeriesResult()\n",
    "spearman_control = TimeSeriesResult()\n",
    "for stage in range(0, 4):\n",
    "    for participant_id in participant_ids:\n",
    "        initial_preference = control_collection[participant_id][0]\n",
    "        try:\n",
    "            stage_preference = control_collection[participant_id][stage]\n",
    "            r, p = spstats.kendalltau(initial_preference.ranks(), stage_preference.ranks())\n",
    "            kendall_control.add_sample(stage, r)\n",
    "            r, p = spstats.spearmanr(initial_preference.ranks(), stage_preference.ranks())\n",
    "            spearman_control.add_sample(stage, r)\n",
    "        except:\n",
    "            continue\n",
    "\n",
    "participant_ids = random_collection.participant_ids()\n",
    "kendall_random = TimeSeriesResult()\n",
    "spearman_random = TimeSeriesResult()\n",
    "for stage in range(0, 4):\n",
    "    for participant_id in participant_ids:\n",
    "        initial_preference = random_collection[participant_id][0]\n",
    "        try:\n",
    "            stage_preference = random_collection[participant_id][stage]\n",
    "            r, p = spstats.kendalltau(initial_preference.ranks(), stage_preference.ranks())\n",
    "            kendall_random.add_sample(stage, r)\n",
    "            r, p = spstats.spearmanr(initial_preference.ranks(), stage_preference.ranks())\n",
    "            spearman_random.add_sample(stage, r)\n",
    "        except:\n",
    "            continue"
   ]
  },
  {
   "cell_type": "code",
   "execution_count": null,
   "metadata": {},
   "outputs": [],
   "source": [
    "plt.errorbar(range(0,4), kendall_control.mean(), yerr=kendall_control.yerr95(), label=\"Control\", capsize=6)\n",
    "plt.errorbar(range(0,4), kendall_random.mean(), yerr=kendall_random.yerr95(), label=\"Random\", capsize=6)\n",
    "plt.xticks(range(4))\n",
    "plt.xlabel('Stage')\n",
    "plt.ylabel('Agreement')\n",
    "plt.grid()\n",
    "plt.legend()\n",
    "plt.title('Self-Agreement (Kendall)')"
   ]
  },
  {
   "cell_type": "code",
   "execution_count": null,
   "metadata": {},
   "outputs": [],
   "source": [
    "plt.errorbar(range(0,4), spearman_control.mean(), yerr=spearman_control.yerr95(), label=\"Control\", capsize=6)\n",
    "plt.errorbar(range(0,4), spearman_random.mean(), yerr=spearman_random.yerr95(), label=\"Random\", capsize=6)\n",
    "plt.xticks(range(4))\n",
    "plt.xlabel('Stage')\n",
    "plt.ylabel('Agreement')\n",
    "plt.grid()\n",
    "plt.legend()\n",
    "plt.title('Self-Agreement (Spearman)')"
   ]
  },
  {
   "cell_type": "markdown",
   "metadata": {},
   "source": [
    "## Evolution - Combined (Remove attrition)"
   ]
  },
  {
   "cell_type": "code",
   "execution_count": null,
   "metadata": {},
   "outputs": [],
   "source": [
    "# Limit to participants who completed all polls\n",
    "df_score, proposal_map, proposal_rev_map = load_loomio_score('results/results_2_3.tsv')\n",
    "x = df_score.groupby('participant_id').count()\n",
    "participant_ids = x[x.stage == 4].index\n",
    "df_score = df_score.query(\"participant_id in @participant_ids\")\n",
    "\n",
    "collection = make_preference_sequence_collection(df_score)\n",
    "\n",
    "participant_ids = collection.participant_ids()\n",
    "kendall = TimeSeriesResult()\n",
    "spearman = TimeSeriesResult()\n",
    "for stage in range(0, 4):\n",
    "    for participant_id in participant_ids:\n",
    "        initial_preference = collection[participant_id][0]\n",
    "        try:\n",
    "            stage_preference = collection[participant_id][stage]\n",
    "            r, p = spstats.kendalltau(initial_preference.ranks(), stage_preference.ranks())\n",
    "            kendall.add_sample(stage, r)\n",
    "            r, p = spstats.spearmanr(initial_preference.ranks(), stage_preference.ranks())\n",
    "            spearman.add_sample(stage, r)\n",
    "        except:\n",
    "            continue\n"
   ]
  },
  {
   "cell_type": "code",
   "execution_count": null,
   "metadata": {},
   "outputs": [],
   "source": [
    "plt.errorbar(range(0,4), kendall.mean(), yerr=kendall.yerr95(), label=\"Kendall\", capsize=6)\n",
    "plt.errorbar(range(0,4), spearman.mean(), yerr=spearman.yerr95(), label=\"Spearman\", capsize=6)\n",
    "plt.xticks(range(4))\n",
    "plt.xlabel('Stage')\n",
    "plt.ylabel('Agreement')\n",
    "plt.grid()\n",
    "plt.legend()\n",
    "plt.title('Self-Agreement (Combined)')"
   ]
  },
  {
   "cell_type": "markdown",
   "metadata": {},
   "source": [
    "## Evolution - Group Level (Remove attrition)"
   ]
  },
  {
   "cell_type": "code",
   "execution_count": null,
   "metadata": {},
   "outputs": [],
   "source": [
    "# Limit to participants who completed all polls\n",
    "df_score, proposal_map, proposal_rev_map = load_loomio_score('results/results_2_3.tsv')\n",
    "df_score = remove_attrition(df_score)\n",
    "\n",
    "df_control = df_score[df_score.treatment == 1]\n",
    "df_random = df_score[df_score.treatment == 2]\n",
    "\n",
    "control_collection = make_preference_sequence_collection(df_control)\n",
    "random_collection = make_preference_sequence_collection(df_random)\n",
    "\n",
    "participant_ids = control_collection.participant_ids()\n",
    "kendall_control = TimeSeriesResult()\n",
    "spearman_control = TimeSeriesResult()\n",
    "for stage in range(0, 4):\n",
    "    for participant_id in participant_ids:\n",
    "        initial_preference = control_collection[participant_id][0]\n",
    "        try:\n",
    "            stage_preference = control_collection[participant_id][stage]\n",
    "            r, p = spstats.kendalltau(initial_preference.ranks(), stage_preference.ranks())\n",
    "            kendall_control.add_sample(stage, r)\n",
    "            r, p = spstats.spearmanr(initial_preference.ranks(), stage_preference.ranks())\n",
    "            spearman_control.add_sample(stage, r)\n",
    "        except:\n",
    "            continue\n",
    "\n",
    "participant_ids = random_collection.participant_ids()\n",
    "kendall_random = TimeSeriesResult()\n",
    "spearman_random = TimeSeriesResult()\n",
    "for stage in range(0, 4):\n",
    "    for participant_id in participant_ids:\n",
    "        initial_preference = random_collection[participant_id][0]\n",
    "        try:\n",
    "            stage_preference = random_collection[participant_id][stage]\n",
    "            r, p = spstats.kendalltau(initial_preference.ranks(), stage_preference.ranks())\n",
    "            kendall_random.add_sample(stage, r)\n",
    "            r, p = spstats.spearmanr(initial_preference.ranks(), stage_preference.ranks())\n",
    "            spearman_random.add_sample(stage, r)\n",
    "        except:\n",
    "            continue"
   ]
  },
  {
   "cell_type": "code",
   "execution_count": null,
   "metadata": {},
   "outputs": [],
   "source": [
    "plt.errorbar(range(0,4), kendall_control.mean(), yerr=kendall_control.yerr95(), label=\"Control\", capsize=6)\n",
    "plt.errorbar(range(0,4), kendall_random.mean(), yerr=kendall_random.yerr95(), label=\"Random\", capsize=6)\n",
    "plt.xticks(range(4))\n",
    "plt.xlabel('Stage')\n",
    "plt.ylabel('Agreement')\n",
    "plt.grid()\n",
    "plt.legend()\n",
    "plt.title('Self-Agreement (Kendall)')"
   ]
  },
  {
   "cell_type": "code",
   "execution_count": null,
   "metadata": {},
   "outputs": [],
   "source": [
    "plt.errorbar(range(0,4), spearman_control.mean(), yerr=spearman_control.yerr95(), label=\"Control\", capsize=6)\n",
    "plt.errorbar(range(0,4), spearman_random.mean(), yerr=spearman_random.yerr95(), label=\"Random\", capsize=6)\n",
    "plt.xticks(range(4))\n",
    "plt.xlabel('Stage')\n",
    "plt.ylabel('Agreement')\n",
    "plt.grid()\n",
    "plt.legend()\n",
    "plt.title('Self-Agreement (Spearman)')"
   ]
  },
  {
   "cell_type": "markdown",
   "metadata": {},
   "source": [
    "## Evolution - Combined (Fill attrition)"
   ]
  },
  {
   "cell_type": "code",
   "execution_count": null,
   "metadata": {},
   "outputs": [],
   "source": [
    "df_score, proposal_map, proposal_rev_map = load_loomio_score('results/results_2_3.tsv')\n",
    "df_score = fill_attrition(df_score)\n",
    "\n",
    "collection = make_preference_sequence_collection(df_score)\n",
    "\n",
    "participant_ids = collection.participant_ids()\n",
    "kendall = TimeSeriesResult()\n",
    "spearman = TimeSeriesResult()\n",
    "for stage in range(0, 4):\n",
    "    for participant_id in participant_ids:\n",
    "        initial_preference = collection[participant_id][0]\n",
    "        try:\n",
    "            stage_preference = collection[participant_id][stage]\n",
    "            r, p = spstats.kendalltau(initial_preference.ranks(), stage_preference.ranks())\n",
    "            kendall.add_sample(stage, r)\n",
    "            r, p = spstats.spearmanr(initial_preference.ranks(), stage_preference.ranks())\n",
    "            spearman.add_sample(stage, r)\n",
    "        except:\n",
    "            continue\n"
   ]
  },
  {
   "cell_type": "code",
   "execution_count": null,
   "metadata": {},
   "outputs": [],
   "source": [
    "plt.errorbar(range(0,4), kendall.mean(), yerr=kendall.yerr95(), label=\"Kendall\")\n",
    "plt.errorbar(range(0,4), spearman.mean(), yerr=spearman.yerr95(), label=\"Spearman\")\n",
    "plt.xticks(range(4))\n",
    "plt.xlabel('Stage')\n",
    "plt.ylabel('Agreement')\n",
    "plt.grid()\n",
    "plt.legend()\n",
    "plt.title('Self-Agreement (Combined)')"
   ]
  },
  {
   "cell_type": "markdown",
   "metadata": {},
   "source": [
    "## Evolution - Group Level (Fill attrition)"
   ]
  },
  {
   "cell_type": "code",
   "execution_count": null,
   "metadata": {},
   "outputs": [],
   "source": [
    "# Limit to participants who completed all polls\n",
    "df_score, proposal_map, proposal_rev_map = load_loomio_score('results/results_2_3.tsv')\n",
    "x = df_score.groupby('participant_id').count()\n",
    "participant_ids = x[x.stage == 4].index\n",
    "df_score = df_score.query(\"participant_id in @participant_ids\")\n",
    "\n",
    "df_control = df_score[df_score.treatment == 1]\n",
    "df_random = df_score[df_score.treatment == 2]\n",
    "\n",
    "control_collection = make_preference_sequence_collection(df_control)\n",
    "random_collection = make_preference_sequence_collection(df_random)\n",
    "\n",
    "participant_ids = control_collection.participant_ids()\n",
    "kendall_control = TimeSeriesResult()\n",
    "spearman_control = TimeSeriesResult()\n",
    "for stage in range(0, 4):\n",
    "    for participant_id in participant_ids:\n",
    "        initial_preference = control_collection[participant_id][0]\n",
    "        try:\n",
    "            stage_preference = control_collection[participant_id][stage]\n",
    "            r, p = spstats.kendalltau(initial_preference.ranks(), stage_preference.ranks())\n",
    "            kendall_control.add_sample(stage, r)\n",
    "            r, p = spstats.spearmanr(initial_preference.ranks(), stage_preference.ranks())\n",
    "            spearman_control.add_sample(stage, r)\n",
    "        except:\n",
    "            continue\n",
    "\n",
    "participant_ids = random_collection.participant_ids()\n",
    "kendall_random = TimeSeriesResult()\n",
    "spearman_random = TimeSeriesResult()\n",
    "for stage in range(0, 4):\n",
    "    for participant_id in participant_ids:\n",
    "        initial_preference = random_collection[participant_id][0]\n",
    "        try:\n",
    "            stage_preference = random_collection[participant_id][stage]\n",
    "            r, p = spstats.kendalltau(initial_preference.ranks(), stage_preference.ranks())\n",
    "            kendall_random.add_sample(stage, r)\n",
    "            r, p = spstats.spearmanr(initial_preference.ranks(), stage_preference.ranks())\n",
    "            spearman_random.add_sample(stage, r)\n",
    "        except:\n",
    "            continue"
   ]
  },
  {
   "cell_type": "code",
   "execution_count": null,
   "metadata": {},
   "outputs": [],
   "source": [
    "plt.errorbar(range(0,4), kendall_control.mean(), yerr=kendall_control.yerr95(), label=\"Control\")\n",
    "plt.errorbar(range(0,4), kendall_random.mean(), yerr=kendall_random.yerr95(), label=\"Random\")\n",
    "plt.xticks(range(4))\n",
    "plt.xlabel('Stage')\n",
    "plt.ylabel('Agreement')\n",
    "plt.grid()\n",
    "plt.legend()\n",
    "plt.title('Self-Agreement (Kendall)')"
   ]
  },
  {
   "cell_type": "code",
   "execution_count": null,
   "metadata": {},
   "outputs": [],
   "source": [
    "plt.errorbar(range(0,4), spearman_control.mean(), yerr=spearman_control.yerr95(), label=\"Control\")\n",
    "plt.errorbar(range(0,4), spearman_random.mean(), yerr=spearman_random.yerr95(), label=\"Random\")\n",
    "plt.xticks(range(4))\n",
    "plt.xlabel('Stage')\n",
    "plt.ylabel('Agreement')\n",
    "plt.grid()\n",
    "plt.legend()\n",
    "plt.title('Self-Agreement (Spearman)')"
   ]
  },
  {
   "cell_type": "code",
   "execution_count": null,
   "metadata": {},
   "outputs": [],
   "source": []
  }
 ],
 "metadata": {
  "kernelspec": {
   "display_name": "Python 3 (ipykernel)",
   "language": "python",
   "name": "python3"
  },
  "language_info": {
   "codemirror_mode": {
    "name": "ipython",
    "version": 3
   },
   "file_extension": ".py",
   "mimetype": "text/x-python",
   "name": "python",
   "nbconvert_exporter": "python",
   "pygments_lexer": "ipython3",
   "version": "3.9.5"
  }
 },
 "nbformat": 4,
 "nbformat_minor": 4
}
