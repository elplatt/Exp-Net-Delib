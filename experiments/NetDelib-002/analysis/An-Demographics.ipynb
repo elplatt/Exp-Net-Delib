{
 "cells": [
  {
   "cell_type": "code",
   "execution_count": null,
   "id": "d18aef93-17c3-4036-8726-6cedc42d8518",
   "metadata": {},
   "outputs": [],
   "source": [
    "import math\n",
    "\n",
    "from matplotlib import pyplot as plt\n",
    "import numpy as np\n",
    "import pandas as pd\n",
    "import repsci\n",
    "import scipy.stats as spstats\n",
    "\n",
    "from loomio import *\n",
    "\n",
    "%pylab inline\n",
    "matplotlib.rcParams['font.size'] = 9\n",
    "matplotlib.rcParams['figure.dpi'] = 150\n",
    "matplotlib.rcParams['lines.markersize'] = 9"
   ]
  },
  {
   "cell_type": "code",
   "execution_count": null,
   "id": "e4252ea1-f1ea-4053-9f95-d125c39bcf91",
   "metadata": {},
   "outputs": [],
   "source": [
    "#exp = repsci.Experiment('demographics')"
   ]
  },
  {
   "cell_type": "code",
   "execution_count": null,
   "id": "8b1b85c0-9e6a-423d-9eaf-179836f4c3cc",
   "metadata": {},
   "outputs": [],
   "source": [
    "df_score, proposal_map, proposal_rev_map = load_loomio_score('results/results_2_3.tsv')\n"
   ]
  },
  {
   "cell_type": "code",
   "execution_count": null,
   "id": "407c9055-9950-4f63-8527-958a0f8c8e04",
   "metadata": {},
   "outputs": [],
   "source": [
    "df = pd.read_csv('../results/demographics_2_3.tsv', delimiter='\\t').set_index('user_id')\n",
    "df_score = df_score.join(df, on='participant_id')"
   ]
  },
  {
   "cell_type": "code",
   "execution_count": null,
   "id": "64783119-8ad9-4bf6-8bed-96a418a7aef3",
   "metadata": {},
   "outputs": [],
   "source": [
    "df_keep = df_score[df_score.stage == 1]\n",
    "\n",
    "df_control = df_keep[df_keep.treatment == 1]\n",
    "df_random = df_keep[df_keep.treatment == 2]"
   ]
  },
  {
   "cell_type": "code",
   "execution_count": null,
   "id": "ec838b69-9c46-4dd8-a1fa-9de43424bd1f",
   "metadata": {},
   "outputs": [],
   "source": [
    "for k, v in df_control.groupby('What is your age?').count().participant_id.items():\n",
    "    print(k, '\\t', v)\n",
    "print()\n",
    "for k, v in df_control.groupby('gender').count().participant_id.items():\n",
    "    print(k, '\\t', v)\n",
    "print()\n",
    "for k, v in df_control.groupby('race').count().participant_id.items():\n",
    "    print(k, '\\t', v)\n"
   ]
  },
  {
   "cell_type": "code",
   "execution_count": null,
   "id": "97c259c6-2374-4a11-a778-0565296a564c",
   "metadata": {},
   "outputs": [],
   "source": [
    "for k, v in df_random.groupby('What is your age?').count().participant_id.items():\n",
    "    print(k, '\\t', v)\n",
    "print()\n",
    "for k, v in df_random.groupby('gender').count().participant_id.items():\n",
    "    print(k, '\\t', v)\n",
    "print()\n",
    "for k, v in df_random.groupby('race').count().participant_id.items():\n",
    "    print(k, '\\t', v)"
   ]
  },
  {
   "cell_type": "code",
   "execution_count": null,
   "id": "4e330cf7-117a-4be0-889d-2a3bd901ce00",
   "metadata": {},
   "outputs": [],
   "source": []
  }
 ],
 "metadata": {
  "kernelspec": {
   "display_name": "Python 3 (ipykernel)",
   "language": "python",
   "name": "python3"
  },
  "language_info": {
   "codemirror_mode": {
    "name": "ipython",
    "version": 3
   },
   "file_extension": ".py",
   "mimetype": "text/x-python",
   "name": "python",
   "nbconvert_exporter": "python",
   "pygments_lexer": "ipython3",
   "version": "3.9.5"
  }
 },
 "nbformat": 4,
 "nbformat_minor": 5
}
