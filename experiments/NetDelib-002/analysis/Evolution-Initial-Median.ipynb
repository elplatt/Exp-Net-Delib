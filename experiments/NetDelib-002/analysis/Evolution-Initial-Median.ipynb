{
 "cells": [
  {
   "cell_type": "code",
   "execution_count": null,
   "metadata": {},
   "outputs": [],
   "source": [
    "import math\n",
    "from matplotlib import pyplot as plt\n",
    "import numpy as np\n",
    "import numpy.random as nprand\n",
    "import pandas as pd\n",
    "import random\n",
    "import scipy.stats as spstats\n",
    "%matplotlib inline\n",
    "\n",
    "from loomio import *\n",
    "from netdelib import *\n",
    "from socialchoice import *\n",
    "from timeseries import *"
   ]
  },
  {
   "cell_type": "markdown",
   "metadata": {},
   "source": [
    "## Evolution - Group Level"
   ]
  },
  {
   "cell_type": "code",
   "execution_count": null,
   "metadata": {},
   "outputs": [],
   "source": [
    "class NetDelibEvoInitialMedian(object):\n",
    "    def __init__(self, df_score):\n",
    "        self.df_control = df_score[df_score.treatment == 1]\n",
    "        self.df_random = df_score[df_score.treatment == 2]\n",
    "\n",
    "    def plot_kendall(self):\n",
    "        control = self.kendall(self.df_control)\n",
    "        random = self.kendall(self.df_random)\n",
    "\n",
    "        plt.plot(control[0], control[1], '.', color=\"#00007f7f\", markersize=30, label='Control')\n",
    "        plt.plot(random[0], random[1], '.', color=\"#007f007f\", markersize=30, label='Random-Pod')\n",
    "        plt.title('Distance to Initial Median (Kendall)')\n",
    "        plt.xlabel('Initial Distance')\n",
    "        plt.ylabel('Final Distance')\n",
    "        plt.xlim([0,14])\n",
    "        plt.ylim([0,14])\n",
    "    \n",
    "    def plot_ballot(self):\n",
    "        control = self.ballot(self.df_control)\n",
    "        random = self.ballot(self.df_random)\n",
    "\n",
    "        plt.plot(control[0], control[1], '.', color=\"#00007f7f\", markersize=30, label='Control')\n",
    "        plt.plot(random[0], random[1], '.', color=\"#007f007f\", markersize=30, label='Random-Pod')\n",
    "        plt.title('Distance to Initial Median (Ballot)')\n",
    "        plt.xlabel('Initial Distance')\n",
    "        plt.ylabel('Final Distance')\n",
    "        plt.xlim([0, 1])\n",
    "        plt.ylim([0, 1])\n",
    "    \n",
    "    def kendall(self, df_treatment):\n",
    "\n",
    "        # Calculate sequence collection and profiles\n",
    "        collection = make_preference_sequence_collection(df_treatment)\n",
    "        profiles = ProfileSequence.from_preference_sequence_collection(collection)\n",
    "                          \n",
    "        # Find initial Kemeny-Young profiles\n",
    "        ky_init = make_kemeny_young_set(df_treatment, 0)\n",
    "\n",
    "        # Find mean distance to initial K-Y profile\n",
    "        init_kendall = []\n",
    "        final_kendall = []\n",
    "        participant_ids = collection.participant_ids()\n",
    "        for participant_id in participant_ids:\n",
    "            sequence = collection[participant_id]\n",
    "            participant_init = []\n",
    "            participant_final = []\n",
    "            for ky in ky_init:\n",
    "                kyp = Preference(ky)\n",
    "                participant_init.append(kyp.kendall_tau(sequence[0]))\n",
    "                participant_final.append(kyp.kendall_tau(sequence[3]))\n",
    "            init_kendall.append(np.mean(participant_init))\n",
    "            final_kendall.append(np.mean(participant_final))\n",
    "        return (init_kendall, final_kendall)\n",
    "\n",
    "    def ballot(self, df_treatment):\n",
    "\n",
    "        # Calculate sequence collection and profiles\n",
    "        collection = make_preference_sequence_collection(df_treatment)\n",
    "        profiles = ProfileSequence.from_preference_sequence_collection(collection)\n",
    "                          \n",
    "        # Find initial weighted swap median profiles\n",
    "        median_init = make_ballot_set(df_treatment, 0)\n",
    "\n",
    "        # Find mean distance to initial median profile\n",
    "        init_ballot = []\n",
    "        final_ballot = []\n",
    "        participant_ids = collection.participant_ids()\n",
    "        for participant_id in participant_ids:\n",
    "            participant_init = []\n",
    "            participant_final = []\n",
    "            sequence = collection[participant_id]\n",
    "            for ranking in median_init:\n",
    "                pref = Preference(ranking)\n",
    "                participant_init.append(pref.ballot_distance(sequence[0]))\n",
    "                participant_final.append(pref.ballot_distance(sequence[3]))\n",
    "            init_ballot.append(np.mean(participant_init))\n",
    "            final_ballot.append(np.mean(participant_final))\n",
    "        return (init_ballot, final_ballot)\n",
    "\n",
    "\n"
   ]
  },
  {
   "cell_type": "code",
   "execution_count": null,
   "metadata": {},
   "outputs": [],
   "source": [
    "df_score, proposal_map, proposal_rev_map = load_loomio_score('results/results_2_3.tsv')\n",
    "df_score = fill_attrition(df_score)\n",
    "\n",
    "netdelib = NetDelibEvoInitialMedian(df_score)"
   ]
  },
  {
   "cell_type": "code",
   "execution_count": null,
   "metadata": {},
   "outputs": [],
   "source": [
    "# Blue is control \n",
    "plt.figure(figsize=(8,4))\n",
    "plt.subplot(1,2,1)\n",
    "netdelib.plot_kendall()\n",
    "plt.subplot(1,2,2)\n",
    "netdelib.plot_ballot()\n",
    "plt.tight_layout()"
   ]
  },
  {
   "cell_type": "code",
   "execution_count": null,
   "metadata": {},
   "outputs": [],
   "source": [
    "control_kendall = netdelib.kendall(netdelib.df_control)\n",
    "random_kendall = netdelib.kendall(netdelib.df_random)\n",
    "\n",
    "control_diff = []\n",
    "random_diff = []\n",
    "\n",
    "for i in range(len(control_kendall[0])):\n",
    "    control_diff.append(control_kendall[1][i] - control_kendall[0][i])\n",
    "for i in range(len(random_kendall[0])):\n",
    "    random_diff.append(random_kendall[1][i] - random_kendall[0][i])\n",
    "\n",
    "plt.hist([control_diff, random_diff])\n",
    "t, p = spstats.ttest_ind(control_diff, random_diff)\n",
    "print(t, p)"
   ]
  },
  {
   "cell_type": "code",
   "execution_count": null,
   "metadata": {},
   "outputs": [],
   "source": [
    "control_ballot = netdelib.ballot(netdelib.df_control)\n",
    "random_ballot = netdelib.ballot(netdelib.df_random)\n",
    "\n",
    "control_diff = []\n",
    "random_diff = []\n",
    "\n",
    "for i in range(len(control_ballot[0])):\n",
    "    control_diff.append(control_ballot[1][i] - control_ballot[0][i])\n",
    "for i in range(len(random_ballot[0])):\n",
    "    random_diff.append(random_ballot[1][i] - random_ballot[0][i])\n",
    "\n",
    "plt.hist([control_diff, random_diff], label=['Control', 'Random-Pod'])\n",
    "t, p = spstats.ttest_ind(control_diff, random_diff)\n",
    "print(t, p)\n",
    "plt.legend()"
   ]
  },
  {
   "cell_type": "code",
   "execution_count": null,
   "metadata": {},
   "outputs": [],
   "source": []
  },
  {
   "cell_type": "code",
   "execution_count": null,
   "metadata": {},
   "outputs": [],
   "source": []
  }
 ],
 "metadata": {
  "kernelspec": {
   "display_name": "Python 3 (ipykernel)",
   "language": "python",
   "name": "python3"
  },
  "language_info": {
   "codemirror_mode": {
    "name": "ipython",
    "version": 3
   },
   "file_extension": ".py",
   "mimetype": "text/x-python",
   "name": "python",
   "nbconvert_exporter": "python",
   "pygments_lexer": "ipython3",
   "version": "3.9.5"
  }
 },
 "nbformat": 4,
 "nbformat_minor": 4
}
