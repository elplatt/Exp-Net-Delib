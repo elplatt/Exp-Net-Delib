{
 "cells": [
  {
   "cell_type": "code",
   "execution_count": null,
   "id": "d18aef93-17c3-4036-8726-6cedc42d8518",
   "metadata": {},
   "outputs": [],
   "source": [
    "import math\n",
    "from matplotlib import pyplot as plt\n",
    "import numpy as np\n",
    "import pandas as pd\n",
    "import scipy.stats as spstats\n",
    "\n",
    "%pylab inline"
   ]
  },
  {
   "cell_type": "code",
   "execution_count": null,
   "id": "407c9055-9950-4f63-8527-958a0f8c8e04",
   "metadata": {},
   "outputs": [],
   "source": [
    "df = pd.read_csv('../results/survey.tsv', delimiter='\\t')"
   ]
  },
  {
   "cell_type": "code",
   "execution_count": null,
   "id": "ea47f946-1dc7-46e4-a70e-bd38165041c0",
   "metadata": {},
   "outputs": [],
   "source": [
    "df_control = df[df.Treatment == 1]\n",
    "df_random = df[df.Treatment == 2]"
   ]
  },
  {
   "cell_type": "code",
   "execution_count": null,
   "id": "50d939fb-120f-4f50-b3ca-fabfae2591b6",
   "metadata": {},
   "outputs": [],
   "source": [
    "# Sidak multiple-comparisons correction\n",
    "print(\"Alpha per comparison (Sidak): {:0.4f}\\n\".format(1 - math.pow(0.95,1/6)))\n",
    "\n",
    "x1 = []\n",
    "x2 = []\n",
    "alternatives = [\n",
    "    \"two-sided\",\n",
    "    \"two-sided\",\n",
    "    \"two-sided\",\n",
    "    \"two-sided\",\n",
    "    \"two-sided\",\n",
    "    \"two-sided\",\n",
    "]\n",
    "keys = [\n",
    "    'Participants always agreed with each other',\n",
    "    'Participants reached agreement by the end of the discussion',\n",
    "    'I changed my mind over the course of the discussion',\n",
    "    'I was exposed to new information or perspectives',\n",
    "    'I was comfortable expressing my opinions and ideas',\n",
    "    'I enjoyed the discussion',\n",
    "]\n",
    "for i in range(6):\n",
    "    key = keys[i]\n",
    "    print(key)\n",
    "    v_control = df_control[key]\n",
    "    v_random = df_random[key]\n",
    "    median_control = int(np.round(v_control.median()))\n",
    "    median_random = int(np.round(v_random.median()))\n",
    "    change = v_random.mean() - v_control.mean()\n",
    "    res = spstats.mannwhitneyu(v_random, v_control, alternative=alternatives[i])\n",
    "    p = res.pvalue\n",
    "    print(\"({:d}, {:d}) {:+0.2f} (p = {:0.3f})\".format(median_control, median_random, change, p))\n",
    "    print()"
   ]
  },
  {
   "cell_type": "code",
   "execution_count": null,
   "id": "bbc8623f-d084-4071-970b-53116c41ac17",
   "metadata": {},
   "outputs": [],
   "source": [
    "plt.figure(figsize=(6,4))\n",
    "df_means = df.groupby('Treatment').mean()\n",
    "df_means.index = ['Control', 'Random-Pod']\n",
    "df_means.transpose().plot.barh()\n",
    "plt.xlim([1, 5])\n",
    "plt.xticks(range(1, 6))\n",
    "plt.legend(loc=\"lower right\")"
   ]
  },
  {
   "cell_type": "code",
   "execution_count": null,
   "id": "259875cb-4c57-44e8-b695-13182a285e52",
   "metadata": {},
   "outputs": [],
   "source": []
  }
 ],
 "metadata": {
  "kernelspec": {
   "display_name": "Python 3 (ipykernel)",
   "language": "python",
   "name": "python3"
  },
  "language_info": {
   "codemirror_mode": {
    "name": "ipython",
    "version": 3
   },
   "file_extension": ".py",
   "mimetype": "text/x-python",
   "name": "python",
   "nbconvert_exporter": "python",
   "pygments_lexer": "ipython3",
   "version": "3.9.5"
  }
 },
 "nbformat": 4,
 "nbformat_minor": 5
}
