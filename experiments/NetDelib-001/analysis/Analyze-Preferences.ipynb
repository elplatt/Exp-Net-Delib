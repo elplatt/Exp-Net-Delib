{
 "cells": [
  {
   "cell_type": "code",
   "execution_count": null,
   "metadata": {},
   "outputs": [],
   "source": [
    "from matplotlib import pyplot as plt\n",
    "import numpy as np\n",
    "import pandas as pd\n",
    "import random\n",
    "import scipy.stats as spstats\n",
    "%matplotlib inline"
   ]
  },
  {
   "cell_type": "code",
   "execution_count": null,
   "metadata": {},
   "outputs": [],
   "source": [
    "def load_survey(round_number, filename):\n",
    "    df = pd.read_csv(filename, delimiter='\\t', encoding='utf-16').drop([0,1])[[\n",
    "        'IPAddress', 'participant_id', 'group_id', 'session_code', 'Q2_1', 'Q2_2', 'Q2_3', 'Q2_4'\n",
    "    ]]\n",
    "    df['group_id'] = pd.to_numeric(df.group_id)\n",
    "    df['participant_id'] = pd.to_numeric(df.participant_id)\n",
    "    na = df.group_id.isna()\n",
    "    df.loc[na, 'group_id'] = 100\n",
    "    return df\n"
   ]
  },
  {
   "cell_type": "code",
   "execution_count": null,
   "metadata": {},
   "outputs": [],
   "source": [
    "df_a = load_survey(0, 'results/2018-12-21/Networked-Deliberation-01-A_December 21, 2018_11.41.tsv')\n",
    "df_b = load_survey(1, 'results/2018-12-21/Networked-Deliberation-01-B_December 21, 2018_11.42.tsv')\n",
    "df_c = load_survey(2, 'results/2018-12-21/Networked-Deliberation-01-C_December 21, 2018_11.43.tsv')\n",
    "df_d = load_survey(3, 'results/2018-12-21/Networked-Deliberation-01-D_December 21, 2018_11.44.tsv')\n",
    "\n",
    "df = pd.concat([df_a, df_b, df_c, df_d]).rename({\n",
    "    \"Q2_1\": \"item1_rank\",\n",
    "    \"Q2_2\": \"item2_rank\",\n",
    "    \"Q2_3\": \"item3_rank\",\n",
    "    \"Q2_4\": \"item4_rank\",\n",
    "}, axis=1)\n",
    "\n",
    "exclude_ids = set([1, 4])\n",
    "participant_ids = set(df.participant_id)\n",
    "df = df[df.participant_id.isin(participant_ids - exclude_ids)]"
   ]
  },
  {
   "cell_type": "code",
   "execution_count": null,
   "metadata": {},
   "outputs": [],
   "source": [
    "def ranked_to_ranks(alternatives):\n",
    "    rank_alt = enumerate(alternatives)\n",
    "    rank_alt = sorted(rank_alt, key=lambda x: x[1])\n",
    "    ranks = [x[0] for x in rank_alt]\n",
    "    return ranks\n",
    "\n",
    "def get_preferences(df, exclude_id=[]):\n",
    "    participant_ids = sorted(set(df.participant_id))\n",
    "    preferences = {}\n",
    "    for pid in participant_ids:\n",
    "        if pid in exclude_id:\n",
    "            continue\n",
    "        participant_df = df[df.participant_id == pid].sort_values('group_id')\n",
    "        preferences[pid] = []\n",
    "        for i, group_id in enumerate(sorted(set(participant_df.group_id))):\n",
    "            rank1 = list(participant_df.item1_rank)[i]\n",
    "            rank2 = list(participant_df.item2_rank)[i]\n",
    "            rank3 = list(participant_df.item3_rank)[i]\n",
    "            rank4 = list(participant_df.item4_rank)[i]\n",
    "            ranks = [(rank1, 1), (rank2, 2), (rank3, 3), (rank4, 4)]\n",
    "            preference = [x[1] for x in sorted(ranks)]\n",
    "            preferences[pid].append(preference)\n",
    "    return preferences\n",
    "   \n",
    "preferences = get_preferences(df)\n",
    "preferences"
   ]
  },
  {
   "cell_type": "code",
   "execution_count": null,
   "metadata": {},
   "outputs": [],
   "source": [
    "def get_profile(df, exclude_id=[]):\n",
    "    preferences = get_preferences(df)\n",
    "    num_rounds = len(list(preferences.values())[0])\n",
    "    participants = preferences.keys()\n",
    "    profiles = []\n",
    "    for n in range(num_rounds):\n",
    "        profile = {}\n",
    "        profiles.append(profile)\n",
    "        for p in participants:\n",
    "            pref = preferences[p][n]\n",
    "            try:\n",
    "                profile[tuple(pref)] += 1\n",
    "            except KeyError:\n",
    "                profile[tuple(pref)] = 1\n",
    "    return profiles\n",
    "    \n",
    "profiles = get_profile(df, exclude_id=[1, 4])"
   ]
  },
  {
   "cell_type": "code",
   "execution_count": null,
   "metadata": {},
   "outputs": [],
   "source": [
    "def print_preference_evolution(df):\n",
    "    alternatives = sorted(set(sum([list(p.keys()) for p in profiles], [])))\n",
    "    counts = []\n",
    "    for alt in alternatives:\n",
    "        line = [repr(alt)]\n",
    "        for round_id in range(4):\n",
    "            line.append(str(profiles[round_id].get(alt, '')))\n",
    "        print('\\t'.join(line))\n",
    "print_preference_evolution(df)"
   ]
  },
  {
   "cell_type": "code",
   "execution_count": null,
   "metadata": {},
   "outputs": [],
   "source": [
    "def print_spearman_evolution(df):\n",
    "    alternatives = sorted(set(sum([list(p.keys()) for p in profiles], [])))\n",
    "    counts = []\n",
    "    N = sum(profiles[0].values())\n",
    "    for pref_a in alternatives:\n",
    "        line = [repr(pref_a)]\n",
    "        for round_id in range(4):\n",
    "            total = 0\n",
    "            for pref_b in alternatives:\n",
    "                if pref_a == pref_b:\n",
    "                    n = profiles[round_id].get(pref_a, 0) * (profiles[round_id].get(pref_b, 0) - 1) / 2\n",
    "                else:\n",
    "                    n = profiles[round_id].get(pref_a, 0) * profiles[round_id].get(pref_b, 0)\n",
    "                a = ranked_to_ranks(pref_a)\n",
    "                b = ranked_to_ranks(pref_b)\n",
    "                r, p = spstats.spearmanr(a, b)\n",
    "                total += r * n\n",
    "            if total == 0:\n",
    "                line.append('')\n",
    "            else:\n",
    "                line.append('{:+0.2f}'.format(total / (N*(N-1)/2)))\n",
    "        print('\\t'.join(line))\n",
    "print_spearman_evolution(df)"
   ]
  },
  {
   "cell_type": "code",
   "execution_count": null,
   "metadata": {},
   "outputs": [],
   "source": [
    "get_preferences(df)"
   ]
  },
  {
   "cell_type": "code",
   "execution_count": null,
   "metadata": {},
   "outputs": [],
   "source": [
    "def print_participant_spearman_evolution(df):\n",
    "    preferences = get_preferences(df)\n",
    "    profiles = get_profile(df)\n",
    "    participants = sorted(set(df.participant_id))\n",
    "    N = len(participants)\n",
    "    for part in participants:\n",
    "        line = [repr(part)]\n",
    "        for round_id in range(4):\n",
    "            pref_a = preferences[part][round_id]\n",
    "            total = 0\n",
    "            alternatives = profiles[round_id].keys()\n",
    "            for pref_b in alternatives:\n",
    "                n = profiles[round_id].get(pref_b, 0)\n",
    "                if pref_a == pref_b:\n",
    "                    n -= 1\n",
    "                a = ranked_to_ranks(pref_a)\n",
    "                b = ranked_to_ranks(pref_b)\n",
    "                r, p = spstats.spearmanr(a, b)\n",
    "                total += r * n\n",
    "            if total == 0:\n",
    "                line.append('')\n",
    "            else:\n",
    "                line.append('{:+0.2f}'.format(total / (N*(N-1)/2)))\n",
    "        print('\\t'.join(line))\n",
    "print_participant_spearman_evolution(df)"
   ]
  },
  {
   "cell_type": "code",
   "execution_count": null,
   "metadata": {},
   "outputs": [],
   "source": [
    "def score_majority(profile):\n",
    "    votes = {}\n",
    "    for pref, count in profile.items():\n",
    "        top = pref[0]\n",
    "        try:\n",
    "            votes[top] += count\n",
    "        except KeyError:\n",
    "            votes[top] = count\n",
    "    return votes\n",
    "\n",
    "def social_preference_majority(profile):\n",
    "    score = score_majority(profile)\n",
    "    ordered_scores = sorted(score.items(), reverse=True, key=lambda x: x[1])\n",
    "    social_preference = []\n",
    "    last_score = ordered_scores[0][1]\n",
    "    current_set = set()\n",
    "    for alternative, score in ordered_scores:\n",
    "        # If the score has changed, create a new set of alternatives\n",
    "        if score == last_score:\n",
    "            current_set.add(alternative)\n",
    "        else:\n",
    "            social_preference.append(current_set)\n",
    "            current_set = set([alternative])\n",
    "        last_score = score\n",
    "    social_preference.append(current_set)\n",
    "    return social_preference\n",
    "\n",
    "def social_choice_majority(profile):\n",
    "    social_preference = social_preference_majority(profile)\n",
    "    return social_preference[0]\n",
    "\n",
    "for p in profiles:\n",
    "    print(social_choice_majority(p), social_preference_majority(p))"
   ]
  },
  {
   "cell_type": "code",
   "execution_count": null,
   "metadata": {},
   "outputs": [],
   "source": [
    "def borda_count(profile):\n",
    "    borda = {}\n",
    "    for pref, count in profile.items():\n",
    "        for i, alternative in enumerate(reversed(pref)):\n",
    "            try:\n",
    "                borda[alternative] += i * count\n",
    "            except KeyError:\n",
    "                borda[alternative] = i * count\n",
    "    return borda\n",
    "\n",
    "def social_preference_borda(profile):\n",
    "    borda = borda_count(profile)\n",
    "    ordered_scores = sorted(borda.items(), key=lambda x: x[1], reverse=True)\n",
    "    social_preference = []\n",
    "    last_score = ordered_scores[0][1]\n",
    "    current_set = set()\n",
    "    for alternative, score in ordered_scores:\n",
    "        # If the score has changed, create a new set of alternatives\n",
    "        if score == last_score:\n",
    "            current_set.add(alternative)\n",
    "        else:\n",
    "            social_preference.append(current_set)\n",
    "            current_set = set([alternative])\n",
    "        last_score = score\n",
    "    social_preference.append(current_set)\n",
    "    return social_preference\n",
    "\n",
    "def social_choice_borda(profile):\n",
    "    return social_preference_borda(profile)[0]\n",
    "\n",
    "for profile in profiles:\n",
    "    print(social_choice_borda(profile), social_preference_borda(profile))"
   ]
  },
  {
   "cell_type": "code",
   "execution_count": null,
   "metadata": {},
   "outputs": [],
   "source": [
    "import itertools\n",
    "def score_tideman(profile):\n",
    "    alternatives = set(sum([list(pref) for pref in profile.keys()], []))\n",
    "    pairs = set(itertools.product(alternatives, alternatives))\n",
    "    for alt in alternatives:\n",
    "        pairs.remove((alt, alt))\n",
    "    margins = dict((contest, 0) for contest in pairs)\n",
    "    for pref, count in profile.items():\n",
    "        for win in range(len(pref)):\n",
    "            for lose in range(win + 1, len(pref)):\n",
    "                margins[(pref[win], pref[lose])] += count\n",
    "    return margins\n",
    "        \n",
    "\n",
    "import networkx as nx\n",
    "def tideman_graph(profile):\n",
    "    margins = score_tideman(profile)\n",
    "    ordered_margins = sorted(margins.items(), key=lambda x: x[1], reverse=True)\n",
    "    G = nx.DiGraph()\n",
    "    counted = 0\n",
    "    skipped = 0\n",
    "    for contest, margin in ordered_margins:\n",
    "        s, t = contest\n",
    "        try:\n",
    "            if nx.has_path(G, t, s):\n",
    "                # Skip contest, would create cycle\n",
    "                skipped += margin\n",
    "                continue\n",
    "        except nx.NodeNotFound:\n",
    "            pass\n",
    "        # Add node to graph\n",
    "        G.add_edge(s, t)\n",
    "        counted += margin\n",
    "    return G, counted, skipped\n",
    "\n",
    "def social_preference_tideman(profile):\n",
    "    G, counted, skipped = tideman_graph(profile)\n",
    "    root = next(nx.topological_sort(G))\n",
    "    social_preference = []\n",
    "    done = set()\n",
    "    shell = set([root])\n",
    "    while len(shell) > 0:\n",
    "        next_shell = set()\n",
    "        # Remove alternatives ranked lower than others in shell\n",
    "        for s in list(shell):\n",
    "            for t in list(shell):\n",
    "                if G.has_edge(s, t):\n",
    "                    shell.remove(t)\n",
    "        # Update list of completed alternatives\n",
    "        done = done | shell\n",
    "        # Build next shell\n",
    "        for s in shell:\n",
    "            next_shell = (next_shell | set(G.successors(s))) - done\n",
    "        # Add current shell to preference\n",
    "        social_preference.append(shell)\n",
    "        shell = next_shell\n",
    "    return social_preference\n",
    "\n",
    "def social_choice_tideman(profile):\n",
    "    return social_preference_tideman(profile)[0]\n",
    "\n",
    "def concurrence_tideman(profile):\n",
    "    G, counted, skipped = tideman_graph(profile)\n",
    "    return counted / (counted + skipped)\n",
    "\n",
    "for p in profiles:\n",
    "    print(social_preference_tideman(p))"
   ]
  },
  {
   "cell_type": "markdown",
   "metadata": {},
   "source": [
    "## Group-level"
   ]
  },
  {
   "cell_type": "code",
   "execution_count": null,
   "metadata": {},
   "outputs": [],
   "source": [
    "groups = sorted(set(df.group_id) - set([100.0]))\n",
    "group_profile = {}\n",
    "\n",
    "for g in groups:\n",
    "    dfg = df[df.group_id == g]\n",
    "    group_profile[g] = get_profile(dfg, exclude_id=[1, 4])"
   ]
  },
  {
   "cell_type": "code",
   "execution_count": null,
   "metadata": {},
   "outputs": [],
   "source": [
    "group_majority = {}\n",
    "for g in groups:\n",
    "    group_majority[g] = [\n",
    "        social_choice_majority(p) for p in group_profile[g]]\n",
    "group_majority"
   ]
  },
  {
   "cell_type": "code",
   "execution_count": null,
   "metadata": {},
   "outputs": [],
   "source": [
    "group_borda = {}\n",
    "for g in groups:\n",
    "    group_borda[g] = [\n",
    "        social_choice_borda(p) for p in group_profile[g]]\n",
    "group_borda"
   ]
  },
  {
   "cell_type": "code",
   "execution_count": null,
   "metadata": {},
   "outputs": [],
   "source": [
    "group_tideman = {}\n",
    "for g in groups:\n",
    "    group_tideman[g] = [\n",
    "        social_choice_tideman(p) for p in group_profile[g]]\n",
    "group_tideman"
   ]
  },
  {
   "cell_type": "markdown",
   "metadata": {},
   "source": [
    "## Concurrence"
   ]
  },
  {
   "cell_type": "code",
   "execution_count": null,
   "metadata": {},
   "outputs": [],
   "source": [
    "def sample_to_profile(sample):\n",
    "    profile = dict()\n",
    "    # Walk through sorted list of samples\n",
    "    # Walks through once total, faster than using count() many times\n",
    "    ordered_sample = sorted(sample)\n",
    "    current_alt = ordered_sample[0]\n",
    "    current_count = 0\n",
    "    for x in ordered_sample:\n",
    "        if x != current_alt:\n",
    "            profile[current_alt] = current_count\n",
    "            current_count = 1\n",
    "            current_alt = x\n",
    "        else:\n",
    "            current_count += 1\n",
    "    profile[current_alt] = current_count\n",
    "    return profile"
   ]
  },
  {
   "cell_type": "code",
   "execution_count": null,
   "metadata": {},
   "outputs": [],
   "source": [
    "def bootstrap_profile(profile):\n",
    "    population = sum([[alt] * i for alt, i in profile.items()], [])\n",
    "    k = len(population)\n",
    "    sample = [\n",
    "        population[random.randint(0, k - 1)]\n",
    "        for i in range(k)]\n",
    "    profile = sample_to_profile(sample)\n",
    "    return profile"
   ]
  },
  {
   "cell_type": "code",
   "execution_count": null,
   "metadata": {},
   "outputs": [],
   "source": [
    "def concurrence_spearman(profile):\n",
    "    total = 0\n",
    "    count = 0\n",
    "    for pref_a, count_a in profile.items():\n",
    "        for pref_b, count_b in profile.items():\n",
    "            if repr(pref_a) == repr(pref_b):\n",
    "                continue\n",
    "            a = ranked_to_ranks(pref_a)\n",
    "            b = ranked_to_ranks(pref_b)\n",
    "            r, p = spstats.spearmanr(a, b)\n",
    "            total += count_a * count_b * r\n",
    "            count += count_a * count_b\n",
    "    return total / count\n",
    "\n",
    "def concurrence_bootstrap(profile, f, N=1000, sigma=1.0):\n",
    "    estimates = [\n",
    "        f(bootstrap_profile(profile))\n",
    "        for n in range(N)]\n",
    "    error = np.std(estimates)\n",
    "    return sigma * error\n",
    "\n",
    "def concurrence_kendall(profile):\n",
    "    total = 0\n",
    "    count = 0\n",
    "    for pref_a, count_a in profile.items():\n",
    "        for pref_b, count_b in profile.items():\n",
    "            if repr(pref_a) == repr(pref_b):\n",
    "                continue\n",
    "            a = ranked_to_ranks(pref_a)\n",
    "            b = ranked_to_ranks(pref_b)\n",
    "            tau, p = spstats.kendalltau(a, b)\n",
    "            total += count_a * count_b * tau\n",
    "            count += count_a * count_b\n",
    "    return total / count\n",
    "\n",
    "\n",
    "            "
   ]
  },
  {
   "cell_type": "code",
   "execution_count": null,
   "metadata": {},
   "outputs": [],
   "source": [
    "spearman = []\n",
    "for p in profiles:\n",
    "    c = concurrence_spearman(p)\n",
    "    c_err = concurrence_bootstrap(p, concurrence_spearman, N=1000)\n",
    "    spearman.append(c)\n",
    "    print('{:0.4f} +/- {:0.4f}'.format(c, c_err))"
   ]
  },
  {
   "cell_type": "code",
   "execution_count": null,
   "metadata": {},
   "outputs": [],
   "source": [
    "kendall = []\n",
    "for p in profiles:\n",
    "    c = concurrence_kendall(p)\n",
    "    c_err = concurrence_bootstrap(p, concurrence_kendall, N=1000)\n",
    "    kendall.append(c)\n",
    "    print('{:0.4f} +/- {:0.4f}'.format(c, c_err))"
   ]
  },
  {
   "cell_type": "code",
   "execution_count": null,
   "metadata": {},
   "outputs": [],
   "source": [
    "tideman = []\n",
    "for p in profiles:\n",
    "    c = concurrence_tideman(p)\n",
    "    c_err = concurrence_bootstrap(p, concurrence_tideman, N=1000)\n",
    "    tideman.append(c)\n",
    "    print('{:0.4f} +/- {:0.4f}'.format(c, c_err))\n"
   ]
  },
  {
   "cell_type": "code",
   "execution_count": null,
   "metadata": {},
   "outputs": [],
   "source": [
    "plt.figure(figsize=(3,2.5))\n",
    "plt.plot(spearman, label='Spearman')\n",
    "plt.plot(kendall, label='Kendall')\n",
    "plt.plot(tideman, label='Tideman')\n",
    "plt.legend()\n",
    "plt.xticks([0, 1, 2, 3])\n",
    "plt.xlabel('Stage')\n",
    "plt.ylabel('Concurrence')\n",
    "plt.tight_layout()\n",
    "plt.savefig('concurrence.png', dpi=1200)"
   ]
  },
  {
   "cell_type": "markdown",
   "metadata": {},
   "source": [
    "## Group Level Analysis"
   ]
  },
  {
   "cell_type": "code",
   "execution_count": null,
   "metadata": {},
   "outputs": [],
   "source": [
    "groups = [\n",
    "    [13, 14, 15, 16],\n",
    "    [17, 18, 19, 20],\n",
    "    [21, 22, 23, 24]\n",
    "]"
   ]
  },
  {
   "cell_type": "code",
   "execution_count": null,
   "metadata": {},
   "outputs": [],
   "source": [
    "df['round_id'] = 0\n",
    "df.loc[df.group_id == 100.0, 'round_id'] = 3\n",
    "df.loc[df.group_id < 99, 'round_id'] = 2\n",
    "df.loc[df.group_id < 21, 'round_id'] = 1\n",
    "df.loc[df.group_id < 17, 'round_id'] = 0"
   ]
  },
  {
   "cell_type": "code",
   "execution_count": null,
   "metadata": {},
   "outputs": [],
   "source": [
    "def get_group_profiles(df, group_id):\n",
    "    # Construct data frame for group\n",
    "    df_group = df[df.group_id == group_id]\n",
    "    participant_ids = set(df_group.participant_id)\n",
    "    round_id = list(df_group.round_id)[0]\n",
    "    next_round_id = round_id + 1\n",
    "    df_next = df[\n",
    "        df.participant_id.isin(participant_ids)\n",
    "        & (df.round_id == next_round_id)]\n",
    "    \n",
    "    profile = {}\n",
    "    for pid in participant_ids:\n",
    "        participant_df = df_group[df_group.participant_id == pid]\n",
    "        rank1 = list(participant_df.item1_rank)[0]\n",
    "        rank2 = list(participant_df.item2_rank)[0]\n",
    "        rank3 = list(participant_df.item3_rank)[0]\n",
    "        rank4 = list(participant_df.item4_rank)[0]\n",
    "        ranks = [(rank1, 1), (rank2, 2), (rank3, 3), (rank4, 4)]\n",
    "        preference = tuple([x[1] for x in sorted(ranks)])\n",
    "        try:\n",
    "            profile[preference] += 1\n",
    "        except KeyError:\n",
    "            profile[preference] = 1\n",
    "    \n",
    "    next_profile = {}\n",
    "    for pid in participant_ids:\n",
    "        participant_df = df_next[df_next.participant_id == pid]\n",
    "        rank1 = list(participant_df.item1_rank)[0]\n",
    "        rank2 = list(participant_df.item2_rank)[0]\n",
    "        rank3 = list(participant_df.item3_rank)[0]\n",
    "        rank4 = list(participant_df.item4_rank)[0]\n",
    "        ranks = [(rank1, 1), (rank2, 2), (rank3, 3), (rank4, 4)]\n",
    "        preference = tuple([x[1] for x in sorted(ranks)])\n",
    "        try:\n",
    "            next_profile[preference] += 1\n",
    "        except KeyError:\n",
    "            next_profile[preference] = 1\n",
    "    return (profile, next_profile)\n"
   ]
  },
  {
   "cell_type": "code",
   "execution_count": null,
   "metadata": {},
   "outputs": [],
   "source": [
    "print(\"Round\\tGroup\\tC\\tC_next\\tChange\")\n",
    "for round_id, round_groups in enumerate(groups):\n",
    "    for g in round_groups:\n",
    "        profile, next_profile = get_group_profiles(df, g)\n",
    "        c = concurrence_spearman(profile)\n",
    "        c_next = concurrence_spearman(next_profile)\n",
    "        print(round_id, '\\t', g, '\\t', '{:+0.2f}\\t{:+0.2f}\\t{:+0.2f}'.format(c, c_next, c_next - c))"
   ]
  },
  {
   "cell_type": "code",
   "execution_count": null,
   "metadata": {},
   "outputs": [],
   "source": [
    "df_group = df[df.group_id == 21]\n",
    "participant_ids = set(df_group.participant_id)\n",
    "round_id = list(df_group.round_id)[0]\n",
    "next_round_id = round_id + 1\n",
    "df_next = df[\n",
    "    df.participant_id.isin(participant_ids)\n",
    "    & (df.round_id == next_round_id)]\n"
   ]
  },
  {
   "cell_type": "code",
   "execution_count": null,
   "metadata": {},
   "outputs": [],
   "source": [
    "df[df.participant_id == 5]"
   ]
  },
  {
   "cell_type": "code",
   "execution_count": null,
   "metadata": {},
   "outputs": [],
   "source": [
    "df_next"
   ]
  },
  {
   "cell_type": "code",
   "execution_count": null,
   "metadata": {},
   "outputs": [],
   "source": []
  }
 ],
 "metadata": {
  "kernelspec": {
   "display_name": "Python 3 (ipykernel)",
   "language": "python",
   "name": "python3"
  },
  "language_info": {
   "codemirror_mode": {
    "name": "ipython",
    "version": 3
   },
   "file_extension": ".py",
   "mimetype": "text/x-python",
   "name": "python",
   "nbconvert_exporter": "python",
   "pygments_lexer": "ipython3",
   "version": "3.9.5"
  }
 },
 "nbformat": 4,
 "nbformat_minor": 4
}
